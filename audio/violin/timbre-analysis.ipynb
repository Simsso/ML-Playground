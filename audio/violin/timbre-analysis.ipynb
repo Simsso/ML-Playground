{
 "cells": [
  {
   "cell_type": "markdown",
   "metadata": {},
   "source": [
    "# Timbre Analysis\n",
    "\n",
    "This notebook compares the timbre of two violins quantitatively.\n",
    "\n",
    "1. The first violin is a normal, wooden violin. \n",
    "2. The [second one is 3d-printed](https://timodenk.com/blog/3d-printed-violin).\n",
    "\n",
    "They do sound quite different and the objective here is to quantify that, i.e., to make statements like _\"the high frequency harmonics are more amplified for the wooden violin\"_ or so."
   ]
  },
  {
   "cell_type": "code",
   "execution_count": 1,
   "metadata": {},
   "outputs": [],
   "source": [
    "from glob import glob\n",
    "import matplotlib.pyplot as plt\n",
    "import numpy as np\n",
    "import os\n",
    "from scipy import signal\n",
    "from scipy.io import wavfile"
   ]
  },
  {
   "cell_type": "code",
   "execution_count": 2,
   "metadata": {},
   "outputs": [],
   "source": [
    "notes = ['g', 'd', 'a', 'e']\n",
    "freqs = [196., 293.7, 440., 659.3]  # frequences of the notes g, d, a, and e in Hz"
   ]
  },
  {
   "cell_type": "code",
   "execution_count": 3,
   "metadata": {},
   "outputs": [],
   "source": [
    "wooden_wav_files = sorted(glob(os.path.join('samples', 'wooden-*.wav')))\n",
    "printed_wav_files = sorted(glob(os.path.join('samples', 'printed-*.wav')))\n",
    "assert len(wooden_wav_files) == 4 and len(printed_wav_files) == 4"
   ]
  },
  {
   "cell_type": "markdown",
   "metadata": {},
   "source": [
    "Loading the `.wav` files. `wavfile.read` returns a tuple consisting of `sample_rate, samples`."
   ]
  },
  {
   "cell_type": "code",
   "execution_count": 4,
   "metadata": {},
   "outputs": [
    {
     "data": {
      "text/plain": [
       "44018"
      ]
     },
     "execution_count": 4,
     "metadata": {},
     "output_type": "execute_result"
    }
   ],
   "source": [
    "wooden_wav = [wavfile.read(p) for p in wooden_wav_files]\n",
    "printed_wav = [wavfile.read(p) for p in printed_wav_files]\n",
    "min_duration = min([samples.shape[0] for _, samples in wooden_wav + printed_wav])\n",
    "min_duration"
   ]
  },
  {
   "cell_type": "markdown",
   "metadata": {},
   "source": [
    "**Spectrogram** computation"
   ]
  },
  {
   "cell_type": "code",
   "execution_count": 5,
   "metadata": {},
   "outputs": [],
   "source": [
    "def get_spectrogram(sample_rate: int, wav_samples: np.array) -> (np.array, np.array):\n",
    "    assert sample_rate == 44100\n",
    "    num_samples = wav_samples.shape[0]  # total length of the audio segment in terms of samples\n",
    "    assert num_samples > 22050, \"Duration must be at least half a second\"\n",
    "    assert wav_samples.shape[1] == 2, \"Number of channels must be two\"\n",
    "    \n",
    "    print(f\"Got sample of length {round(num_samples/sample_rate, 4)}s \", \n",
    "          f\"cropping to {round (min_duration/sample_rate, 4)}s\")\n",
    "    num_samples = min_duration\n",
    "    wav_samples_cropped = wav_samples[:min_duration, :]\n",
    "    \n",
    "    ch1 = wav_samples_cropped.T[0]\n",
    "    ch2 = wav_samples_cropped.T[1]\n",
    "    \n",
    "    # nperseg=num_samples ensures that the spectrogram is computed over the entire length\n",
    "    # so the time resolution will be only a single position\n",
    "    freqs, _, spec1 = signal.spectrogram(ch1, sample_rate, nperseg=num_samples)\n",
    "    freqs, _, spec2 = signal.spectrogram(ch2, sample_rate, nperseg=num_samples)\n",
    "    \n",
    "    # average spectrograms from both channels\n",
    "    spectrogram = np.mean(np.array([spec1, spec2]), axis=0)[:, 0]\n",
    "    spectrogram_normalized = spectrogram / np.linalg.norm(spectrogram)\n",
    "    return freqs, spectrogram"
   ]
  },
  {
   "cell_type": "code",
   "execution_count": 6,
   "metadata": {},
   "outputs": [
    {
     "name": "stdout",
     "output_type": "stream",
     "text": [
      "Got sample of length 1.1498s  cropping to 0.9981s\n",
      "Got sample of length 1.4237s  cropping to 0.9981s\n",
      "Got sample of length 1.1756s  cropping to 0.9981s\n",
      "Got sample of length 1.1051s  cropping to 0.9981s\n",
      "Got sample of length 0.9981s  cropping to 0.9981s\n",
      "Got sample of length 1.1557s  cropping to 0.9981s\n",
      "Got sample of length 1.1312s  cropping to 0.9981s\n",
      "Got sample of length 1.0781s  cropping to 0.9981s\n"
     ]
    }
   ],
   "source": [
    "wooden_spectrograms = [\n",
    "    get_spectrogram(sample_rate, wav_samples)[1]\n",
    "    for sample_rate, wav_samples in wooden_wav\n",
    "]\n",
    "\n",
    "printed_spectrograms = [\n",
    "    get_spectrogram(sample_rate, wav_samples)[1]\n",
    "    for sample_rate, wav_samples in printed_wav\n",
    "]"
   ]
  },
  {
   "cell_type": "markdown",
   "metadata": {},
   "source": [
    "We determine the frequencies of the spectrogram once, because they are the same for every audio sample, thanks to the cropping in duration that we do inside of `get_spectrogram`."
   ]
  },
  {
   "cell_type": "code",
   "execution_count": 7,
   "metadata": {},
   "outputs": [
    {
     "name": "stdout",
     "output_type": "stream",
     "text": [
      "Got sample of length 1.1498s  cropping to 0.9981s\n"
     ]
    },
    {
     "data": {
      "text/plain": [
       "array([0.00000000e+00, 1.00186287e+00, 2.00372575e+00, ...,\n",
       "       2.20479963e+04, 2.20489981e+04, 2.20500000e+04])"
      ]
     },
     "execution_count": 7,
     "metadata": {},
     "output_type": "execute_result"
    }
   ],
   "source": [
    "freqs = get_spectrogram(*wooden_wav[0])[0]\n",
    "freqs"
   ]
  },
  {
   "cell_type": "markdown",
   "metadata": {},
   "source": [
    "The frequencies range from 0 Hz up to 22 kHz."
   ]
  },
  {
   "cell_type": "markdown",
   "metadata": {},
   "source": [
    "### Examaple Visualization\n",
    "\n",
    "Plotted below is the spectrogram of the wooden violin (blue) and the printed one (red) for the tone E.\n",
    "\n",
    "Note:\n",
    "\n",
    "* It is not clear (but important to find out) whether the open string was being played in both cases.\n",
    "* Violins were not tuned to the same frequency, so the comparison in terms of absolute frequencies is not possible (which is no big deal, just worth mentioning)."
   ]
  },
  {
   "cell_type": "code",
   "execution_count": 8,
   "metadata": {},
   "outputs": [],
   "source": [
    "x_offset = 500\n",
    "x_width = 4000"
   ]
  },
  {
   "cell_type": "code",
   "execution_count": 9,
   "metadata": {},
   "outputs": [
    {
     "data": {
      "image/png": "[encoded data removed]",
      "text/plain": [
       "<Figure size 432x288 with 1 Axes>"
      ]
     },
     "metadata": {
      "needs_background": "light"
     },
     "output_type": "display_data"
    }
   ],
   "source": [
    "plt.plot(freqs[x_offset:x_width], wooden_spectrograms[3][x_offset:x_width], c='b')\n",
    "plt.plot(freqs[x_offset:x_width], printed_spectrograms[3][x_offset:x_width], c='r')\n",
    "plt.xscale('log'); plt.xlabel('frequency'); plt.ylabel('intensity');"
   ]
  },
  {
   "cell_type": "code",
   "execution_count": 21,
   "metadata": {},
   "outputs": [
    {
     "data": {
      "image/png": "[encoded data removed]",
      "text/plain": [
       "<Figure size 432x288 with 1 Axes>"
      ]
     },
     "metadata": {
      "needs_background": "light"
     },
     "output_type": "display_data"
    }
   ],
   "source": [
    "x_offset = 300\n",
    "plt.plot(freqs[x_offset:x_width], wooden_spectrograms[0][x_offset:x_width], c='b')\n",
    "plt.plot(freqs[x_offset:x_width], printed_spectrograms[0][x_offset:x_width], c='r')\n",
    "plt.xscale('log'); plt.xlabel('frequency'); plt.ylabel('intensity');"
   ]
  },
  {
   "cell_type": "code",
   "execution_count": null,
   "metadata": {},
   "outputs": [],
   "source": []
  },
  {
   "cell_type": "code",
   "execution_count": null,
   "metadata": {},
   "outputs": [],
   "source": []
  }
 ],
 "metadata": {
  "kernelspec": {
   "display_name": "Python 3",
   "language": "python",
   "name": "python3"
  },
  "language_info": {
   "codemirror_mode": {
    "name": "ipython",
    "version": 3
   },
   "file_extension": ".py",
   "mimetype": "text/x-python",
   "name": "python",
   "nbconvert_exporter": "python",
   "pygments_lexer": "ipython3",
   "version": "3.8.6"
  }
 },
 "nbformat": 4,
 "nbformat_minor": 4
}
