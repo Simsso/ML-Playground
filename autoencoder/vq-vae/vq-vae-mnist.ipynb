{
 "cells": [
  {
   "cell_type": "markdown",
   "metadata": {},
   "source": [
    "# VQ-VAE\n",
    "(vector quantised variational auto-encoder)\n",
    "\n",
    "Based on DeepMind's [Neural Discrete Representation Learning\n",
    "](https://arxiv.org/abs/1711.00937)"
   ]
  },
  {
   "cell_type": "code",
   "execution_count": 1,
   "metadata": {},
   "outputs": [
    {
     "name": "stdout",
     "output_type": "stream",
     "text": [
      "WARNING:tensorflow:From <ipython-input-1-983e31324102>:6: read_data_sets (from tensorflow.contrib.learn.python.learn.datasets.mnist) is deprecated and will be removed in a future version.\n",
      "Instructions for updating:\n",
      "Please use alternatives such as official/mnist/dataset.py from tensorflow/models.\n",
      "WARNING:tensorflow:From c:\\program files\\python36\\lib\\site-packages\\tensorflow\\contrib\\learn\\python\\learn\\datasets\\mnist.py:260: maybe_download (from tensorflow.contrib.learn.python.learn.datasets.base) is deprecated and will be removed in a future version.\n",
      "Instructions for updating:\n",
      "Please write your own downloading logic.\n",
      "WARNING:tensorflow:From c:\\program files\\python36\\lib\\site-packages\\tensorflow\\contrib\\learn\\python\\learn\\datasets\\mnist.py:262: extract_images (from tensorflow.contrib.learn.python.learn.datasets.mnist) is deprecated and will be removed in a future version.\n",
      "Instructions for updating:\n",
      "Please use tf.data to implement this functionality.\n",
      "Extracting MNIST_data/train-images-idx3-ubyte.gz\n",
      "WARNING:tensorflow:From c:\\program files\\python36\\lib\\site-packages\\tensorflow\\contrib\\learn\\python\\learn\\datasets\\mnist.py:267: extract_labels (from tensorflow.contrib.learn.python.learn.datasets.mnist) is deprecated and will be removed in a future version.\n",
      "Instructions for updating:\n",
      "Please use tf.data to implement this functionality.\n",
      "Extracting MNIST_data/train-labels-idx1-ubyte.gz\n",
      "WARNING:tensorflow:From c:\\program files\\python36\\lib\\site-packages\\tensorflow\\contrib\\learn\\python\\learn\\datasets\\mnist.py:110: dense_to_one_hot (from tensorflow.contrib.learn.python.learn.datasets.mnist) is deprecated and will be removed in a future version.\n",
      "Instructions for updating:\n",
      "Please use tf.one_hot on tensors.\n",
      "Extracting MNIST_data/t10k-images-idx3-ubyte.gz\n",
      "Extracting MNIST_data/t10k-labels-idx1-ubyte.gz\n",
      "WARNING:tensorflow:From c:\\program files\\python36\\lib\\site-packages\\tensorflow\\contrib\\learn\\python\\learn\\datasets\\mnist.py:290: DataSet.__init__ (from tensorflow.contrib.learn.python.learn.datasets.mnist) is deprecated and will be removed in a future version.\n",
      "Instructions for updating:\n",
      "Please use alternatives such as official/mnist/dataset.py from tensorflow/models.\n"
     ]
    }
   ],
   "source": [
    "import tensorflow as tf\n",
    "import os\n",
    "\n",
    "# import MNIST data\n",
    "from tensorflow.examples.tutorials.mnist import input_data\n",
    "mnist = input_data.read_data_sets(\"MNIST_data/\", one_hot=True)"
   ]
  },
  {
   "cell_type": "code",
   "execution_count": 2,
   "metadata": {},
   "outputs": [],
   "source": [
    "INPUT_SIZE = 784\n",
    "IMG_DIM = 28\n",
    "BATCH_SIZE = 250\n",
    "\n",
    "CODE_SIZE = 32  # size of a single vector in e (embedding space)\n",
    "EMBEDDING_COUNT = 128  # no embedding vectors\n",
    "BETA = .1  # weigh how much the encoder tries to match the embeddings"
   ]
  },
  {
   "cell_type": "code",
   "execution_count": 3,
   "metadata": {},
   "outputs": [],
   "source": [
    "graph = tf.Graph()\n",
    "\n",
    "def tf_summary_image(name, flat_tensor):\n",
    "    tf.summary.image(name, tf.expand_dims(tf.reshape(flat_tensor, [-1, IMG_DIM, IMG_DIM]), -1))\n",
    "\n",
    "def get_params(x):\n",
    "    \"\"\" Extracts kernel and bias params from a tf.layers.dense tensor. \"\"\"\n",
    "    name = (x.name).split('/')[1:-1]\n",
    "    return [\n",
    "        tf.get_variable('/'.join(name) + '/kernel'),\n",
    "        tf.get_variable('/'.join(name) + '/bias')]\n",
    "\n",
    "with graph.as_default():\n",
    "    images = tf.placeholder(tf.float32, shape=[BATCH_SIZE, INPUT_SIZE], name='images')\n",
    "    \n",
    "    tf_summary_image('input', images)\n",
    "    \n",
    "    with tf.variable_scope('encoder', reuse=tf.AUTO_REUSE):\n",
    "        encoder_dense1 = tf.layers.dense(images, 128, activation=tf.nn.relu, name='dense1')\n",
    "        encoder_out = tf.layers.dense(encoder_dense1, CODE_SIZE, activation=tf.tanh, name='out')\n",
    "        \n",
    "        encoder_vars = get_params(encoder_dense1) + get_params(encoder_out)\n",
    "    \n",
    "    with tf.variable_scope('embedding'):\n",
    "        embedding_space = tf.get_variable(name='space', shape=[EMBEDDING_COUNT, CODE_SIZE], initializer=tf.random_normal_initializer)\n",
    "        embedding_space_batch = tf.reshape(tf.tile(embedding_space, [BATCH_SIZE, 1]), [BATCH_SIZE, EMBEDDING_COUNT, CODE_SIZE])\n",
    "        encoder_tiled = tf.reshape(tf.tile(encoder_out, [1, EMBEDDING_COUNT]), [BATCH_SIZE, EMBEDDING_COUNT, CODE_SIZE])\n",
    "        differences = tf.subtract(embedding_space_batch, encoder_tiled)\n",
    "        l2_distances = tf.reduce_sum(tf.square(differences), axis=2, name='l2_distances')\n",
    "        e_index = tf.argmin(l2_distances, axis=1, name='e_index')\n",
    "        code = tf.gather(embedding_space, e_index, axis=0, name='lookup_result')\n",
    "        code_stop_grad = tf.stop_gradient(code - encoder_out) + encoder_out\n",
    "\n",
    "    with tf.variable_scope('decoder', reuse=tf.AUTO_REUSE):\n",
    "        decoder_dense1 = tf.layers.dense(code_stop_grad, 128, activation=tf.nn.relu, name='dense1')\n",
    "        reconstruction = tf.layers.dense(decoder_dense1, INPUT_SIZE, activation=tf.tanh, name='reconstruction')\n",
    "        tf_summary_image('reconstruction', reconstruction)\n",
    "        \n",
    "        decoder_vars = get_params(decoder_dense1) + get_params(reconstruction)\n",
    "        \n",
    "    # losses\n",
    "    loss_enc_dec = tf.reduce_mean(tf.square(tf.subtract(images, reconstruction)))\n",
    "    loss_enc_vq = tf.reduce_mean(tf.square(tf.subtract(encoder_out, code)))\n",
    "    \n",
    "    tf.summary.scalar('reconstruction_loss', loss_enc_dec)\n",
    "    tf.summary.scalar('embedding_loss', loss_enc_vq)\n",
    "    \n",
    "    # optimizer\n",
    "    opt_encoder = tf.train.GradientDescentOptimizer(1e-2).minimize(loss_enc_dec + BETA * loss_enc_vq, var_list=encoder_vars)\n",
    "    opt_decoder = tf.train.GradientDescentOptimizer(1e-2).minimize(loss_enc_dec, var_list=decoder_vars)\n",
    "    opt_embeddings = tf.train.GradientDescentOptimizer(5e-4).minimize(loss_enc_vq, var_list=[embedding_space])\n",
    "    \n",
    "    # misc\n",
    "    init = tf.group(tf.global_variables_initializer(), tf.local_variables_initializer())\n",
    "    summary_merged = tf.summary.merge_all()"
   ]
  },
  {
   "cell_type": "code",
   "execution_count": 4,
   "metadata": {},
   "outputs": [
    {
     "data": {
      "text/plain": [
       "TensorShape([Dimension(250), Dimension(128), Dimension(32)])"
      ]
     },
     "execution_count": 4,
     "metadata": {},
     "output_type": "execute_result"
    }
   ],
   "source": [
    "encoder_tiled.shape"
   ]
  },
  {
   "cell_type": "code",
   "execution_count": 5,
   "metadata": {},
   "outputs": [],
   "source": [
    "MODEL_NAME = 'vqvae_007c'\n",
    "NO_STEPS = 10000\n",
    "\n",
    "sess = tf.Session(graph=graph)\n",
    "sess.run(init)\n",
    "log_writer = tf.summary.FileWriter('tf_logs/%s' % MODEL_NAME, sess.graph)\n",
    "\n",
    "for step in range(NO_STEPS):\n",
    "    batch_images, batch_labels = mnist.train.next_batch(BATCH_SIZE)\n",
    "    summary, _, _, _ = sess.run(\n",
    "        [summary_merged, opt_encoder, opt_decoder, opt_embeddings],\n",
    "        feed_dict={\n",
    "            images: batch_images\n",
    "        }\n",
    "    )\n",
    "    log_writer.add_summary(summary, global_step=step)"
   ]
  },
  {
   "cell_type": "markdown",
   "metadata": {},
   "source": []
  }
 ],
 "metadata": {
  "kernelspec": {
   "display_name": "Python 3",
   "language": "python",
   "name": "python3"
  },
  "language_info": {
   "codemirror_mode": {
    "name": "ipython",
    "version": 3
   },
   "file_extension": ".py",
   "mimetype": "text/x-python",
   "name": "python",
   "nbconvert_exporter": "python",
   "pygments_lexer": "ipython3",
   "version": "3.6.6"
  }
 },
 "nbformat": 4,
 "nbformat_minor": 2
}
