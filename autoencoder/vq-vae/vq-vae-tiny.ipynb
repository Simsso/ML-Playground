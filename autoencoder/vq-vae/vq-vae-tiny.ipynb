{
 "cells": [
  {
   "cell_type": "markdown",
   "metadata": {},
   "source": [
    "# VQ-VAE\n",
    "(vector quantised variational auto-encoder)\n",
    "\n",
    "Based on DeepMind's [Neural Discrete Representation Learning\n",
    "](https://arxiv.org/abs/1711.00937)"
   ]
  },
  {
   "cell_type": "code",
   "execution_count": 3,
   "metadata": {},
   "outputs": [],
   "source": [
    "import tensorflow as tf\n",
    "import os"
   ]
  },
  {
   "cell_type": "code",
   "execution_count": 4,
   "metadata": {},
   "outputs": [],
   "source": [
    "INPUT_SIZE = 3\n",
    "BATCH_SIZE = 2\n",
    "\n",
    "CODE_SIZE = 3  # size of a single vector in e (embedding space)\n",
    "EMBEDDING_COUNT = 2  # no embedding vectors"
   ]
  },
  {
   "cell_type": "code",
   "execution_count": 16,
   "metadata": {},
   "outputs": [],
   "source": [
    "graph = tf.Graph()\n",
    "\n",
    "with graph.as_default():\n",
    "    images = tf.placeholder(tf.float32, shape=[BATCH_SIZE, INPUT_SIZE], name='images')\n",
    "    \n",
    "    with tf.variable_scope('encoder', reuse=tf.AUTO_REUSE):\n",
    "        encoder_out = images\n",
    "    \n",
    "    with tf.variable_scope('embedding'):\n",
    "        embedding_space = tf.placeholder(tf.float32, shape=[EMBEDDING_COUNT, CODE_SIZE], name='embedding_space')\n",
    "        embedding_space_batch = tf.reshape(tf.tile(embedding_space, [BATCH_SIZE, 1]), [BATCH_SIZE, EMBEDDING_COUNT, CODE_SIZE])\n",
    "        encoder_tiled = tf.reshape(tf.tile(encoder_out, [1, EMBEDDING_COUNT]), [BATCH_SIZE, EMBEDDING_COUNT, CODE_SIZE])\n",
    "        differences = tf.subtract(embedding_space_batch, encoder_tiled)\n",
    "        l2_distances = tf.reduce_sum(tf.square(differences), axis=2, name='l2_distances')\n",
    "        e_index = tf.argmin(l2_distances, axis=1, name='e_index')\n",
    "        code = tf.gather(embedding_space, e_index, axis=0, name='lookup_result')\n",
    "    \n",
    "    init = tf.group(tf.global_variables_initializer(), tf.local_variables_initializer())\n",
    "    summary_merged = tf.summary.merge_all()"
   ]
  },
  {
   "cell_type": "code",
   "execution_count": 13,
   "metadata": {},
   "outputs": [
    {
     "data": {
      "text/plain": [
       "TensorShape([Dimension(2), Dimension(2), Dimension(3)])"
      ]
     },
     "execution_count": 13,
     "metadata": {},
     "output_type": "execute_result"
    }
   ],
   "source": [
    "encoder_tiled.shape"
   ]
  },
  {
   "cell_type": "code",
   "execution_count": 18,
   "metadata": {},
   "outputs": [
    {
     "name": "stdout",
     "output_type": "stream",
     "text": [
      "input\n",
      "[[1, 2, 3], [4, 5, 6]]\n",
      "embeddings\n",
      "[[0, 2, 4], [1, 3, 5]]\n",
      "----------------\n",
      "1\n",
      "encoder tiled\n",
      "[[[1. 2. 3.]\n",
      "  [1. 2. 3.]]\n",
      "\n",
      " [[4. 5. 6.]\n",
      "  [4. 5. 6.]]]\n",
      "----------------\n",
      "2\n",
      "embedding space batch\n",
      "[[[0. 2. 4.]\n",
      "  [1. 3. 5.]]\n",
      "\n",
      " [[0. 2. 4.]\n",
      "  [1. 3. 5.]]]\n",
      "----------------\n",
      "3\n",
      "distances\n",
      "[[ 2.  5.]\n",
      " [29. 14.]]\n",
      "argmin indices\n",
      "[0 1]\n",
      "----------------\n",
      "4\n",
      "code; gather bs\n",
      "[[0. 2. 4.]\n",
      " [1. 3. 5.]]\n"
     ]
    }
   ],
   "source": [
    "sess = tf.Session(graph=graph)\n",
    "sess.run(init)\n",
    "\n",
    "input_val = [[1,2,3],[4,5,6]]\n",
    "embedding_space_val = [[0,2,4],[1,3,5]]\n",
    "    \n",
    "\n",
    "def get_val(tensor):\n",
    "    return sess.run(tensor, feed_dict={\n",
    "        images: input_val,\n",
    "        embedding_space: embedding_space_val\n",
    "    })\n",
    "\n",
    "with sess.as_default():\n",
    "    print(\"input\")\n",
    "    print(input_val)\n",
    "    print(\"embeddings\")\n",
    "    print(embedding_space_val)\n",
    "    \n",
    "    print(\"----------------\")\n",
    "    print(\"1\")\n",
    "    print(\"encoder tiled\")\n",
    "    print(get_val(encoder_tiled))\n",
    "    \n",
    "    print(\"----------------\")\n",
    "    print(\"2\")\n",
    "    print(\"embedding space batch\")\n",
    "    print(get_val(embedding_space_batch))\n",
    "    \n",
    "    print(\"----------------\")\n",
    "    print(\"3\")\n",
    "    print(\"distances\")\n",
    "    print(get_val(l2_distances))\n",
    "    print(\"argmin indices\")\n",
    "    print(get_val(e_index))\n",
    "    \n",
    "    print(\"----------------\")\n",
    "    print(\"4\")\n",
    "    print(\"code; gather bs\")\n",
    "    print(get_val(code))\n",
    "\n"
   ]
  },
  {
   "cell_type": "markdown",
   "metadata": {},
   "source": []
  }
 ],
 "metadata": {
  "kernelspec": {
   "display_name": "Python 3",
   "language": "python",
   "name": "python3"
  },
  "language_info": {
   "codemirror_mode": {
    "name": "ipython",
    "version": 3
   },
   "file_extension": ".py",
   "mimetype": "text/x-python",
   "name": "python",
   "nbconvert_exporter": "python",
   "pygments_lexer": "ipython3",
   "version": "3.6.6"
  }
 },
 "nbformat": 4,
 "nbformat_minor": 2
}
