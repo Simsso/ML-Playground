{
 "cells": [
  {
   "cell_type": "markdown",
   "metadata": {},
   "source": [
    "# Analysis of the Database With Cause-effect Pairs"
   ]
  },
  {
   "cell_type": "markdown",
   "metadata": {},
   "source": [
    "This notebook was created in section 4.2.2 because it requires a monotonic dataset."
   ]
  },
  {
   "cell_type": "code",
   "execution_count": 1,
   "metadata": {},
   "outputs": [],
   "source": [
    "%matplotlib inline\n",
    "\n",
    "import matplotlib\n",
    "import numpy as np\n",
    "import matplotlib.pyplot as plt"
   ]
  },
  {
   "cell_type": "code",
   "execution_count": 2,
   "metadata": {},
   "outputs": [],
   "source": [
    "import pandas as pd\n",
    "from tqdm import tqdm"
   ]
  },
  {
   "cell_type": "code",
   "execution_count": 3,
   "metadata": {},
   "outputs": [],
   "source": [
    "def load_dataset(number: int) -> pd.DataFrame:\n",
    "    assert number > 0, f\"The dataset number must be greater than zero, got '{number}'.\"\n",
    "    url = \"https://webdav.tuebingen.mpg.de/cause-effect/pair{:04d}.txt\".format(number)\n",
    "    df = pd.read_csv(url, sep=\" \", header=None)\n",
    "    df.columns = [\"x\", \"y\"]  # all datasets have two variables\n",
    "    return df"
   ]
  },
  {
   "cell_type": "code",
   "execution_count": 4,
   "metadata": {},
   "outputs": [],
   "source": [
    "def is_monotonic(data: pd.DataFrame) -> bool:\n",
    "    data = data.sort_values(by='x')\n",
    "    last_y = None\n",
    "    for i, row in data.iterrows():\n",
    "        current_y = row['y']\n",
    "        if last_y is not None and last_y > current_y:\n",
    "            return False\n",
    "        last_y = current_y\n",
    "    return True"
   ]
  },
  {
   "cell_type": "code",
   "execution_count": 5,
   "metadata": {},
   "outputs": [],
   "source": [
    "def swap_xy(df: pd.DataFrame) -> pd.DataFrame:\n",
    "    data['tmp'] = data['x']\n",
    "    data['x'] = data['y']\n",
    "    data['y'] = data['tmp']\n",
    "    del data['tmp']\n",
    "    return data"
   ]
  },
  {
   "cell_type": "code",
   "execution_count": 6,
   "metadata": {},
   "outputs": [
    {
     "name": "stderr",
     "output_type": "stream",
     "text": [
      "100%|██████████| 108/108 [00:22<00:00,  4.82it/s]\n"
     ]
    }
   ],
   "source": [
    "monotonic, monotonic_xtoy = set(), set()\n",
    "errors = set()\n",
    "for i in tqdm(range(1, 109)):\n",
    "    try:\n",
    "        data = load_dataset(i)\n",
    "        if is_monotonic(data):\n",
    "            monotonic.add(i)\n",
    "        data = swap_xy(data)\n",
    "        if is_monotonic(data):\n",
    "            monotonic_xtoy.add(i)\n",
    "    except:\n",
    "        errors.add(i)"
   ]
  },
  {
   "cell_type": "markdown",
   "metadata": {},
   "source": [
    "## Results: Monotonic"
   ]
  },
  {
   "cell_type": "markdown",
   "metadata": {},
   "source": [
    "Datasets where $y$ is monotonic with respect to $x$:"
   ]
  },
  {
   "cell_type": "code",
   "execution_count": 7,
   "metadata": {},
   "outputs": [
    {
     "name": "stdout",
     "output_type": "stream",
     "text": [
      "set()\n"
     ]
    }
   ],
   "source": [
    "print(monotonic)"
   ]
  },
  {
   "cell_type": "markdown",
   "metadata": {},
   "source": [
    "Datasets where $x$ is monotonic with respect to $y$:"
   ]
  },
  {
   "cell_type": "code",
   "execution_count": 8,
   "metadata": {
    "scrolled": true
   },
   "outputs": [
    {
     "name": "stdout",
     "output_type": "stream",
     "text": [
      "set()\n"
     ]
    }
   ],
   "source": [
    "print(monotonic_xtoy)"
   ]
  },
  {
   "cell_type": "markdown",
   "metadata": {},
   "source": [
    "Datasets which could not be analyzed:"
   ]
  },
  {
   "cell_type": "code",
   "execution_count": 9,
   "metadata": {},
   "outputs": [
    {
     "name": "stdout",
     "output_type": "stream",
     "text": [
      "{42, 43, 44, 45, 46, 47, 48, 49, 50, 51, 52, 53, 54, 55, 56, 57, 58, 59, 60, 61, 62, 63, 64, 65, 66, 67, 69, 70, 71, 73, 74, 75, 76, 77, 81, 82, 83, 84, 85, 87, 89, 90, 91, 92, 105}\n"
     ]
    }
   ],
   "source": [
    "print(errors)"
   ]
  },
  {
   "cell_type": "markdown",
   "metadata": {},
   "source": [
    "There are no datasets that are monotonic at all."
   ]
  }
 ],
 "metadata": {
  "kernelspec": {
   "display_name": "Python 3",
   "language": "python",
   "name": "python3"
  },
  "language_info": {
   "codemirror_mode": {
    "name": "ipython",
    "version": 3
   },
   "file_extension": ".py",
   "mimetype": "text/x-python",
   "name": "python",
   "nbconvert_exporter": "python",
   "pygments_lexer": "ipython3",
   "version": "3.7.4"
  }
 },
 "nbformat": 4,
 "nbformat_minor": 2
}
