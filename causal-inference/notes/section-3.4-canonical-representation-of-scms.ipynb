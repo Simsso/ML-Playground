{
 "cells": [
  {
   "cell_type": "markdown",
   "metadata": {},
   "source": [
    "# Section 3.4 Canonical Representation of Structural Causal Models"
   ]
  },
  {
   "cell_type": "markdown",
   "metadata": {},
   "source": [
    "Secion 3.4 introduces the canonical representation of structural causal models. It then provides an example of a simple SCM which illustrates the **difference between counterfactual and intervention** as well as **the advantages of the canonical representation**. Both shall be recapitulated in the following."
   ]
  },
  {
   "cell_type": "markdown",
   "metadata": {},
   "source": [
    "The mapping from cause to effect $C\\rightarrow E$ is a noise function $n_E$. In the example, both $C$ and $E$ are taken from a set with cardinality two. Therefore, $2^2$ different implementations of $n_E$ are possible. These are $$\\mathcal{E}^\\mathcal{C}=\\left\\{\\boldsymbol{0},\\boldsymbol{1},\\text{ID},\\text{NOT}\\right\\}\\,.$$\n",
    "The implementation is randomly sampled every time the function is evaluated according to some noise $P_{N_E}$.\n",
    "\n",
    "We consider two cases. In the first, $P^{(1)}_{N_E}$ assigns the probabilities $(0.5, 0.5, 0, 0)$ to $\\left(\\boldsymbol{0},\\boldsymbol{1},\\text{ID},\\text{NOT}\\right)$. In the second, $P^{(2)}_{N_E}$, the probabilities are $(0, 0, 0.5, 0.5)$.\n",
    "\n",
    "Now suppose the input was uniform over $0$ and $1$. Regardless of whether the concrete noise function is $P^{(1)}_{N_E}$ or $P^{(3)}_{N_E}$, the _observed_ effect is a uniform distribution where both $0$ and $1$ appear with equal probability. The noise functions cannot be distinguished when looking at the effect.\n",
    "\n",
    "We go one step further and look at interventions. We still do not know what the chosen noise is and perform the intervention $C:=0$. Again, for both noise functions both $0$ and $1$ appear with equal probability. Plug in the values into the function mapping table to see that this holds.\n",
    "\n",
    "Counterfactuals differ from the interventions: For a counterfactual we set e.g. $C:=0$ and observe an output. Next, we change $C$ to $C:=1$ and examine $E$ again, however, the (that is the crucial part) the same implementation of the noise function is chosen. In this case, $P^{(1)}_{N_E}$ or $P^{(3)}_{N_E}$ behave differently. The former will output the same value for the counterfactual because the randomness chooses from constant functions and the latter will yield either $E=0$ or $E=1$."
   ]
  }
 ],
 "metadata": {
  "kernelspec": {
   "display_name": "Python 3",
   "language": "python",
   "name": "python3"
  },
  "language_info": {
   "codemirror_mode": {
    "name": "ipython",
    "version": 3
   },
   "file_extension": ".py",
   "mimetype": "text/x-python",
   "name": "python",
   "nbconvert_exporter": "python",
   "pygments_lexer": "ipython3",
   "version": "3.7.4"
  }
 },
 "nbformat": 4,
 "nbformat_minor": 2
}
