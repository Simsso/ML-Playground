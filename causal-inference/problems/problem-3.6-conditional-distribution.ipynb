{
 "cells": [
  {
   "cell_type": "markdown",
   "metadata": {},
   "source": [
    "# Problem 3.6 Conditional Distribution"
   ]
  },
  {
   "cell_type": "markdown",
   "metadata": {},
   "source": [
    "Show that \n",
    "$$P_{C\\mid E=2}\\sim\\mathcal{N}\\left(\\frac{8}{17},\\frac{1}{17}\\right)$$\n",
    "for the SCM\n",
    "\\begin{align}\n",
    "C:=&\\mathcal{N}(0,1)\\\\\n",
    "E:=&4C+\\mathcal{N}(0,1)\n",
    "\\end{align}"
   ]
  },
  {
   "cell_type": "markdown",
   "metadata": {},
   "source": [
    "## Proof"
   ]
  },
  {
   "cell_type": "markdown",
   "metadata": {},
   "source": [
    "The SCM can be seen as a [multivariate normal distribution](https://en.wikipedia.org/wiki/Multivariate_normal_distribution)\n",
    "$$\n",
    "P\\left(\\begin{matrix}C\\\\E\\end{matrix}\\right)=\n",
    "\\mathcal{N}\\left(\\begin{bmatrix}\\mu_C\\\\\\mu_E\\end{bmatrix},\\Sigma\\right)\n",
    "$$\n",
    "where $\\mu_C=\\mu_E=0$ because both distributions have an expecation of zero and $\\Sigma$ is the covariance matrix which is\n",
    "\\begin{align}\n",
    "\\Sigma:=&\\begin{bmatrix}\\sigma^2_C&\\rho\\sigma_C\\sigma_E\\\\\\rho\\sigma_C\\sigma_E&\\sigma_C^2\\end{bmatrix}\\\\\n",
    "=&\\begin{bmatrix}1&14\\\\14&4^2+1\\end{bmatrix}\n",
    "\\end{align}"
   ]
  },
  {
   "cell_type": "markdown",
   "metadata": {},
   "source": [
    "For the bivariate case the conditional distribution is defined as \n",
    "$${\\displaystyle X_{1}\\mid X_{2}=a\\ \\sim \\ {\\mathcal {N}}\\left(\\mu _{1}+{\\frac {\\sigma _{1}}{\\sigma _{2}}}\\rho (a-\\mu _{2}),\\,(1-\\rho ^{2})\\sigma _{1}^{2}\\right).}$$"
   ]
  },
  {
   "cell_type": "markdown",
   "metadata": {},
   "source": [
    "Applied to $C\\mid E=2$ that yields $$\\mathcal{N}\\left(\\frac{8}{17},\\frac{1}{17}\\right)$$"
   ]
  }
 ],
 "metadata": {
  "kernelspec": {
   "display_name": "Python 3",
   "language": "python",
   "name": "python3"
  },
  "language_info": {
   "codemirror_mode": {
    "name": "ipython",
    "version": 3
   },
   "file_extension": ".py",
   "mimetype": "text/x-python",
   "name": "python",
   "nbconvert_exporter": "python",
   "pygments_lexer": "ipython3",
   "version": "3.7.4"
  }
 },
 "nbformat": 4,
 "nbformat_minor": 2
}
