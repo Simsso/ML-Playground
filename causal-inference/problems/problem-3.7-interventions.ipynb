{
 "cells": [
  {
   "cell_type": "markdown",
   "metadata": {},
   "source": [
    "# Problem 3.7 Interventions"
   ]
  },
  {
   "cell_type": "markdown",
   "metadata": {},
   "source": [
    "A process follows either an SCM $X\\rightarrow Y$ or $Y\\rightarrow X$ with noise. Is there a single intervention distribution that allows to distinguish between the two SCMs?"
   ]
  },
  {
   "cell_type": "markdown",
   "metadata": {},
   "source": [
    "No. We can treat $X$ and $Y$ identically because the SCM can exist both ways. If we intervene on $X$, the value of $X$ follows a particular, pre-defined, arbitrary distribution $\\mathcal{P}$.\n",
    "\n",
    "We will then observe $X\\sim\\mathcal{P}$ and \n",
    "1. $Y\\sim\\mathcal{P}+N_Y^{(1)}$ if $X\\rightarrow Y$ or\n",
    "2. $Y\\sim N_Y^{(2)}$ if $Y\\rightarrow X$"
   ]
  },
  {
   "cell_type": "markdown",
   "metadata": {},
   "source": [
    "This does not provide us with any information because a given $N_Y^{(2)}$ could follow $\\mathcal{P}+N_Y^{(1)}$ if (2) and would therefore be indistinguishable from (1)."
   ]
  },
  {
   "cell_type": "markdown",
   "metadata": {},
   "source": [
    "The same applies to possible interventions on $Y$ with all variables flipped."
   ]
  }
 ],
 "metadata": {
  "kernelspec": {
   "display_name": "Python 3",
   "language": "python",
   "name": "python3"
  },
  "language_info": {
   "codemirror_mode": {
    "name": "ipython",
    "version": 3
   },
   "file_extension": ".py",
   "mimetype": "text/x-python",
   "name": "python",
   "nbconvert_exporter": "python",
   "pygments_lexer": "ipython3",
   "version": "3.7.4"
  }
 },
 "nbformat": 4,
 "nbformat_minor": 2
}
