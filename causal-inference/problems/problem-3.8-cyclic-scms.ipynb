{
 "cells": [
  {
   "cell_type": "markdown",
   "metadata": {},
   "source": [
    "# Problem 3.8 Cyclic SCMs"
   ]
  },
  {
   "cell_type": "markdown",
   "metadata": {},
   "source": [
    "## a) SCM with Unique Solution"
   ]
  },
  {
   "cell_type": "markdown",
   "metadata": {},
   "source": [
    "Given SCM\n",
    "\\begin{align}\n",
    "X:=&2Y+N_X\\\\\n",
    "Y:=&2X+N_Y\n",
    "\\end{align}\n",
    "and the substituted equations\n",
    "\\begin{align}\n",
    "X:=&\\alpha N_X+\\beta N_Y\\\\\n",
    "Y:=&\\gamma N_X+\\delta N_Y\n",
    "\\end{align}\n",
    "compute a solution $(\\alpha,\\beta,\\gamma,\\delta)$ that satisfies the equations."
   ]
  },
  {
   "cell_type": "markdown",
   "metadata": {},
   "source": [
    "### Solution"
   ]
  },
  {
   "cell_type": "markdown",
   "metadata": {},
   "source": [
    "The solution can be found by solving the linear system of equations which yields\n",
    "\\begin{align}\n",
    "X=&-\\frac{1}{3}N_X-\\frac{2}{3}N_Y\\\\\n",
    "Y=&-\\frac{1}{3}N_Y-\\frac{2}{3}N_X\n",
    "\\end{align}"
   ]
  },
  {
   "cell_type": "markdown",
   "metadata": {},
   "source": [
    "Corresponding to the solution \n",
    "$$\n",
    "(\\alpha,\\beta,\\gamma,\\delta)=\n",
    "-\\left(\\frac{1}{3},\\frac{2}{3},\\frac{2}{3},\\frac{1}{3}\\right)\n",
    "$$"
   ]
  },
  {
   "cell_type": "markdown",
   "metadata": {},
   "source": [
    "## b) SCM with Potential Solution"
   ]
  },
  {
   "cell_type": "code",
   "execution_count": null,
   "metadata": {},
   "outputs": [],
   "source": []
  }
 ],
 "metadata": {
  "kernelspec": {
   "display_name": "Python 3",
   "language": "python",
   "name": "python3"
  },
  "language_info": {
   "codemirror_mode": {
    "name": "ipython",
    "version": 3
   },
   "file_extension": ".py",
   "mimetype": "text/x-python",
   "name": "python",
   "nbconvert_exporter": "python",
   "pygments_lexer": "ipython3",
   "version": "3.7.4"
  }
 },
 "nbformat": 4,
 "nbformat_minor": 2
}
