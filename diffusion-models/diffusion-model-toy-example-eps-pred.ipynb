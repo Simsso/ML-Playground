{
 "cells": [
  {
   "cell_type": "markdown",
   "id": "e753579c",
   "metadata": {},
   "source": [
    "# Diffusion Model Toy Example ($\\epsilon$ prediction)\n",
    "\n",
    "Fork of notebook (1). Here we implement **Algorithm 1**, i.e., the variant in which the NN predicts $\\epsilon_\\theta$.\n",
    "\n",
    "Attempting to reimplement _Denoising Diffusion Probabilistic Model_ (Ho et al. (2020))."
   ]
  },
  {
   "cell_type": "code",
   "execution_count": 1,
   "id": "2f0c855c",
   "metadata": {},
   "outputs": [],
   "source": [
    "from collections import defaultdict\n",
    "import matplotlib.pyplot as plt\n",
    "import numpy as np\n",
    "import sklearn.datasets\n",
    "import torch\n",
    "from torch import Tensor\n",
    "from tqdm import tqdm"
   ]
  },
  {
   "cell_type": "markdown",
   "id": "c51bb542",
   "metadata": {},
   "source": [
    "Data loading and inspection"
   ]
  },
  {
   "cell_type": "code",
   "execution_count": 74,
   "id": "9dca178a",
   "metadata": {},
   "outputs": [],
   "source": [
    "selected_classes = {1,}"
   ]
  },
  {
   "cell_type": "code",
   "execution_count": 2,
   "id": "4457f466",
   "metadata": {},
   "outputs": [
    {
     "data": {
      "text/plain": [
       "(torch.Size([182, 64]), torch.float32)"
      ]
     },
     "execution_count": 2,
     "metadata": {},
     "output_type": "execute_result"
    }
   ],
   "source": [
    "dataset = sklearn.datasets.load_digits()\n",
    "data_np, labels_np = dataset['data'], dataset['target']\n",
    "data_np = data_np[labels_np == 1]\n",
    "del labels_np\n",
    "data = torch.from_numpy(data_np.astype(np.float32))\n",
    "data = ((data / 15) - 0.5) * 2  # Normalize between [-1, 1]\n",
    "IMG_DIM = data.shape[1]\n",
    "data.shape, data.dtype"
   ]
  },
  {
   "cell_type": "code",
   "execution_count": 82,
   "id": "c8324516",
   "metadata": {},
   "outputs": [
    {
     "data": {
      "text/plain": [
       "{'data': array([[ 0.,  0.,  5., ...,  0.,  0.,  0.],\n",
       "        [ 0.,  0.,  0., ..., 10.,  0.,  0.],\n",
       "        [ 0.,  0.,  0., ..., 16.,  9.,  0.],\n",
       "        ...,\n",
       "        [ 0.,  0.,  1., ...,  6.,  0.,  0.],\n",
       "        [ 0.,  0.,  2., ..., 12.,  0.,  0.],\n",
       "        [ 0.,  0., 10., ..., 12.,  1.,  0.]]),\n",
       " 'target': array([0, 1, 2, ..., 8, 9, 8]),\n",
       " 'frame': None,\n",
       " 'feature_names': ['pixel_0_0',\n",
       "  'pixel_0_1',\n",
       "  'pixel_0_2',\n",
       "  'pixel_0_3',\n",
       "  'pixel_0_4',\n",
       "  'pixel_0_5',\n",
       "  'pixel_0_6',\n",
       "  'pixel_0_7',\n",
       "  'pixel_1_0',\n",
       "  'pixel_1_1',\n",
       "  'pixel_1_2',\n",
       "  'pixel_1_3',\n",
       "  'pixel_1_4',\n",
       "  'pixel_1_5',\n",
       "  'pixel_1_6',\n",
       "  'pixel_1_7',\n",
       "  'pixel_2_0',\n",
       "  'pixel_2_1',\n",
       "  'pixel_2_2',\n",
       "  'pixel_2_3',\n",
       "  'pixel_2_4',\n",
       "  'pixel_2_5',\n",
       "  'pixel_2_6',\n",
       "  'pixel_2_7',\n",
       "  'pixel_3_0',\n",
       "  'pixel_3_1',\n",
       "  'pixel_3_2',\n",
       "  'pixel_3_3',\n",
       "  'pixel_3_4',\n",
       "  'pixel_3_5',\n",
       "  'pixel_3_6',\n",
       "  'pixel_3_7',\n",
       "  'pixel_4_0',\n",
       "  'pixel_4_1',\n",
       "  'pixel_4_2',\n",
       "  'pixel_4_3',\n",
       "  'pixel_4_4',\n",
       "  'pixel_4_5',\n",
       "  'pixel_4_6',\n",
       "  'pixel_4_7',\n",
       "  'pixel_5_0',\n",
       "  'pixel_5_1',\n",
       "  'pixel_5_2',\n",
       "  'pixel_5_3',\n",
       "  'pixel_5_4',\n",
       "  'pixel_5_5',\n",
       "  'pixel_5_6',\n",
       "  'pixel_5_7',\n",
       "  'pixel_6_0',\n",
       "  'pixel_6_1',\n",
       "  'pixel_6_2',\n",
       "  'pixel_6_3',\n",
       "  'pixel_6_4',\n",
       "  'pixel_6_5',\n",
       "  'pixel_6_6',\n",
       "  'pixel_6_7',\n",
       "  'pixel_7_0',\n",
       "  'pixel_7_1',\n",
       "  'pixel_7_2',\n",
       "  'pixel_7_3',\n",
       "  'pixel_7_4',\n",
       "  'pixel_7_5',\n",
       "  'pixel_7_6',\n",
       "  'pixel_7_7'],\n",
       " 'target_names': array([0, 1, 2, 3, 4, 5, 6, 7, 8, 9]),\n",
       " 'images': array([[[ 0.,  0.,  5., ...,  1.,  0.,  0.],\n",
       "         [ 0.,  0., 13., ..., 15.,  5.,  0.],\n",
       "         [ 0.,  3., 15., ..., 11.,  8.,  0.],\n",
       "         ...,\n",
       "         [ 0.,  4., 11., ..., 12.,  7.,  0.],\n",
       "         [ 0.,  2., 14., ..., 12.,  0.,  0.],\n",
       "         [ 0.,  0.,  6., ...,  0.,  0.,  0.]],\n",
       " \n",
       "        [[ 0.,  0.,  0., ...,  5.,  0.,  0.],\n",
       "         [ 0.,  0.,  0., ...,  9.,  0.,  0.],\n",
       "         [ 0.,  0.,  3., ...,  6.,  0.,  0.],\n",
       "         ...,\n",
       "         [ 0.,  0.,  1., ...,  6.,  0.,  0.],\n",
       "         [ 0.,  0.,  1., ...,  6.,  0.,  0.],\n",
       "         [ 0.,  0.,  0., ..., 10.,  0.,  0.]],\n",
       " \n",
       "        [[ 0.,  0.,  0., ..., 12.,  0.,  0.],\n",
       "         [ 0.,  0.,  3., ..., 14.,  0.,  0.],\n",
       "         [ 0.,  0.,  8., ..., 16.,  0.,  0.],\n",
       "         ...,\n",
       "         [ 0.,  9., 16., ...,  0.,  0.,  0.],\n",
       "         [ 0.,  3., 13., ..., 11.,  5.,  0.],\n",
       "         [ 0.,  0.,  0., ..., 16.,  9.,  0.]],\n",
       " \n",
       "        ...,\n",
       " \n",
       "        [[ 0.,  0.,  1., ...,  1.,  0.,  0.],\n",
       "         [ 0.,  0., 13., ...,  2.,  1.,  0.],\n",
       "         [ 0.,  0., 16., ..., 16.,  5.,  0.],\n",
       "         ...,\n",
       "         [ 0.,  0., 16., ..., 15.,  0.,  0.],\n",
       "         [ 0.,  0., 15., ..., 16.,  0.,  0.],\n",
       "         [ 0.,  0.,  2., ...,  6.,  0.,  0.]],\n",
       " \n",
       "        [[ 0.,  0.,  2., ...,  0.,  0.,  0.],\n",
       "         [ 0.,  0., 14., ..., 15.,  1.,  0.],\n",
       "         [ 0.,  4., 16., ..., 16.,  7.,  0.],\n",
       "         ...,\n",
       "         [ 0.,  0.,  0., ..., 16.,  2.,  0.],\n",
       "         [ 0.,  0.,  4., ..., 16.,  2.,  0.],\n",
       "         [ 0.,  0.,  5., ..., 12.,  0.,  0.]],\n",
       " \n",
       "        [[ 0.,  0., 10., ...,  1.,  0.,  0.],\n",
       "         [ 0.,  2., 16., ...,  1.,  0.,  0.],\n",
       "         [ 0.,  0., 15., ..., 15.,  0.,  0.],\n",
       "         ...,\n",
       "         [ 0.,  4., 16., ..., 16.,  6.,  0.],\n",
       "         [ 0.,  8., 16., ..., 16.,  8.,  0.],\n",
       "         [ 0.,  1.,  8., ..., 12.,  1.,  0.]]]),\n",
       " 'DESCR': \".. _digits_dataset:\\n\\nOptical recognition of handwritten digits dataset\\n--------------------------------------------------\\n\\n**Data Set Characteristics:**\\n\\n    :Number of Instances: 1797\\n    :Number of Attributes: 64\\n    :Attribute Information: 8x8 image of integer pixels in the range 0..16.\\n    :Missing Attribute Values: None\\n    :Creator: E. Alpaydin (alpaydin '@' boun.edu.tr)\\n    :Date: July; 1998\\n\\nThis is a copy of the test set of the UCI ML hand-written digits datasets\\nhttps://archive.ics.uci.edu/ml/datasets/Optical+Recognition+of+Handwritten+Digits\\n\\nThe data set contains images of hand-written digits: 10 classes where\\neach class refers to a digit.\\n\\nPreprocessing programs made available by NIST were used to extract\\nnormalized bitmaps of handwritten digits from a preprinted form. From a\\ntotal of 43 people, 30 contributed to the training set and different 13\\nto the test set. 32x32 bitmaps are divided into nonoverlapping blocks of\\n4x4 and the number of on pixels are counted in each block. This generates\\nan input matrix of 8x8 where each element is an integer in the range\\n0..16. This reduces dimensionality and gives invariance to small\\ndistortions.\\n\\nFor info on NIST preprocessing routines, see M. D. Garris, J. L. Blue, G.\\nT. Candela, D. L. Dimmick, J. Geist, P. J. Grother, S. A. Janet, and C.\\nL. Wilson, NIST Form-Based Handprint Recognition System, NISTIR 5469,\\n1994.\\n\\n.. topic:: References\\n\\n  - C. Kaynak (1995) Methods of Combining Multiple Classifiers and Their\\n    Applications to Handwritten Digit Recognition, MSc Thesis, Institute of\\n    Graduate Studies in Science and Engineering, Bogazici University.\\n  - E. Alpaydin, C. Kaynak (1998) Cascading Classifiers, Kybernetika.\\n  - Ken Tang and Ponnuthurai N. Suganthan and Xi Yao and A. Kai Qin.\\n    Linear dimensionalityreduction using relevance weighted LDA. School of\\n    Electrical and Electronic Engineering Nanyang Technological University.\\n    2005.\\n  - Claudio Gentile. A New Approximate Maximal Margin Classification\\n    Algorithm. NIPS. 2000.\\n\"}"
      ]
     },
     "execution_count": 82,
     "metadata": {},
     "output_type": "execute_result"
    }
   ],
   "source": [
    "dataset"
   ]
  },
  {
   "cell_type": "code",
   "execution_count": 3,
   "id": "29793c16",
   "metadata": {},
   "outputs": [
    {
     "data": {
      "text/plain": [
       "tensor([-1.0000, -1.0000, -1.0000,  0.6000,  0.7333, -0.3333, -1.0000, -1.0000,\n",
       "        -1.0000, -1.0000, -1.0000,  0.4667,  1.1333,  0.2000, -1.0000, -1.0000,\n",
       "        -1.0000, -1.0000, -0.6000,  1.0000,  1.1333, -0.2000, -1.0000, -1.0000,\n",
       "        -1.0000, -0.0667,  1.0000,  1.1333,  1.1333, -0.7333, -1.0000, -1.0000,\n",
       "        -1.0000, -1.0000, -0.8667,  1.1333,  1.1333, -0.6000, -1.0000, -1.0000,\n",
       "        -1.0000, -1.0000, -0.8667,  1.1333,  1.1333, -0.2000, -1.0000, -1.0000,\n",
       "        -1.0000, -1.0000, -0.8667,  1.1333,  1.1333, -0.2000, -1.0000, -1.0000,\n",
       "        -1.0000, -1.0000, -1.0000,  0.4667,  1.1333,  0.3333, -1.0000, -1.0000])"
      ]
     },
     "execution_count": 3,
     "metadata": {},
     "output_type": "execute_result"
    }
   ],
   "source": [
    "data_sample = data[0]\n",
    "data_sample"
   ]
  },
  {
   "cell_type": "code",
   "execution_count": 4,
   "id": "d0ae430d",
   "metadata": {},
   "outputs": [],
   "source": [
    "def imshow(x: Tensor) -> None:\n",
    "    plt.imshow(x.reshape((8, 8)));"
   ]
  },
  {
   "cell_type": "code",
   "execution_count": 5,
   "id": "898789af",
   "metadata": {},
   "outputs": [
    {
     "data": {
      "image/png": "[encoded data removed]",
      "text/plain": [
       "<Figure size 432x288 with 1 Axes>"
      ]
     },
     "metadata": {
      "needs_background": "light"
     },
     "output_type": "display_data"
    }
   ],
   "source": [
    "imshow(data_sample)"
   ]
  },
  {
   "cell_type": "markdown",
   "id": "9bbe4bc9",
   "metadata": {},
   "source": [
    "### Model Definition\n",
    "\n",
    "Output size is equal to the input size, i.e., 64 units."
   ]
  },
  {
   "cell_type": "code",
   "execution_count": 6,
   "id": "241745ec",
   "metadata": {},
   "outputs": [],
   "source": [
    "# Number of diffusion steps.\n",
    "T = 100"
   ]
  },
  {
   "cell_type": "code",
   "execution_count": 7,
   "id": "440ae4da",
   "metadata": {},
   "outputs": [],
   "source": [
    "# Won the race against ReLU.\n",
    "ACTIVATION_FN = torch.nn.SiLU"
   ]
  },
  {
   "cell_type": "code",
   "execution_count": 8,
   "id": "af873c98",
   "metadata": {},
   "outputs": [],
   "source": [
    "class EpsTheta(torch.nn.Module):\n",
    "    def __init__(self, T: int):\n",
    "        super().__init__()\n",
    "        self.T = T\n",
    "        self.eps_theta = torch.nn.Sequential(\n",
    "            torch.nn.Linear(in_features=IMG_DIM+1, out_features=512),\n",
    "            ACTIVATION_FN(),\n",
    "            torch.nn.Linear(in_features=512, out_features=512),\n",
    "            ACTIVATION_FN(),\n",
    "            torch.nn.Linear(in_features=512, out_features=IMG_DIM))\n",
    "        \n",
    "    def forward(self, img: Tensor, t: int) -> Tensor:\n",
    "        \"\"\"img is a flat vector (possibly batched), t is a scalar\"\"\"\n",
    "        t_scaled = self._scale_t(t)\n",
    "        model_input = torch.concat([img, t_scaled], axis=-1)\n",
    "        model_output = self.eps_theta(model_input)\n",
    "        return model_output\n",
    "    \n",
    "    def _scale_t(self, t: int) -> Tensor:\n",
    "        return torch.tensor([(t / self.T - 0.5) * 2])"
   ]
  },
  {
   "cell_type": "code",
   "execution_count": 9,
   "id": "3b7a0d62",
   "metadata": {},
   "outputs": [],
   "source": [
    "eps_theta = EpsTheta(T=T)"
   ]
  },
  {
   "cell_type": "markdown",
   "id": "20ed8fcf",
   "metadata": {},
   "source": [
    "Analyzing the deep image prior..."
   ]
  },
  {
   "cell_type": "code",
   "execution_count": 10,
   "id": "b3ef59f8",
   "metadata": {},
   "outputs": [
    {
     "data": {
      "image/png": "[encoded data removed]",
      "text/plain": [
       "<Figure size 432x288 with 1 Axes>"
      ]
     },
     "metadata": {
      "needs_background": "light"
     },
     "output_type": "display_data"
    }
   ],
   "source": [
    "y = eps_theta(img=data_sample, t=0)\n",
    "imshow(y.detach())"
   ]
  },
  {
   "cell_type": "markdown",
   "id": "2b016d75",
   "metadata": {},
   "source": [
    "Paper values: $\\beta_1=10^{-4}$ and $\\beta_T=0.02$"
   ]
  },
  {
   "cell_type": "code",
   "execution_count": 11,
   "id": "6dec29b9",
   "metadata": {},
   "outputs": [],
   "source": [
    "beta_1 = 4.5e-5\n",
    "beta_T = beta_1 * 20"
   ]
  },
  {
   "cell_type": "code",
   "execution_count": 12,
   "id": "335a46dd",
   "metadata": {},
   "outputs": [],
   "source": [
    "beta_t = torch.linspace(beta_1, beta_T, T)\n",
    "alpha_t = 1 - beta_t\n",
    "alpha_bar_t = torch.tensor([torch.prod(alpha_t[:s]) for s in range(1, T+1)])\n",
    "\n",
    "def beta(t: int) -> float:\n",
    "    assert 0 < t <= T\n",
    "    return beta_t[t-1]\n",
    "\n",
    "def alpha(t: int) -> float:\n",
    "    assert 0 < t <= T\n",
    "    return alpha_t[t-1]\n",
    "\n",
    "def alpha_bar(t: int) -> float:\n",
    "    if t == 0: return alpha_bar_t[0]\n",
    "    assert 0 < t <= T\n",
    "    return alpha_bar_t[t-1]"
   ]
  },
  {
   "cell_type": "code",
   "execution_count": 13,
   "id": "c6946004",
   "metadata": {},
   "outputs": [
    {
     "data": {
      "image/png": "[encoded data removed]",
      "text/plain": [
       "<Figure size 432x288 with 1 Axes>"
      ]
     },
     "metadata": {
      "needs_background": "light"
     },
     "output_type": "display_data"
    }
   ],
   "source": [
    "plt.plot(beta_t, label='beta')\n",
    "plt.plot(alpha_t, label='alpha')\n",
    "plt.plot(alpha_bar_t, label='alpha_bar')\n",
    "plt.legend();"
   ]
  },
  {
   "cell_type": "markdown",
   "id": "3fa4c3be",
   "metadata": {},
   "source": [
    "### Diffusion Process\n",
    "\n",
    "(Aka. nosification.) **Eq. (4)** – the closed for of the iterative version in Eq. (2)."
   ]
  },
  {
   "cell_type": "code",
   "execution_count": 14,
   "id": "ba85fd69",
   "metadata": {},
   "outputs": [],
   "source": [
    "def q(x_0: Tensor, t: int) -> Tensor:\n",
    "    \"\"\"Implementatin of Eq. (4).\"\"\"\n",
    "    std_normal = torch.randn(x_0.shape)\n",
    "    mean = torch.sqrt(alpha_bar(t)) * x_0\n",
    "    var = 1 - alpha_bar(t)\n",
    "    return mean + std_normal * var.sqrt()"
   ]
  },
  {
   "cell_type": "code",
   "execution_count": 15,
   "id": "dc0da670",
   "metadata": {
    "scrolled": false
   },
   "outputs": [
    {
     "data": {
      "image/png": "[encoded data removed]",
      "text/plain": [
       "<Figure size 1440x576 with 10 Axes>"
      ]
     },
     "metadata": {
      "needs_background": "light"
     },
     "output_type": "display_data"
    }
   ],
   "source": [
    "fig, ax = plt.subplots(1, 10, figsize=(20, 8))\n",
    "ax = ax.flatten()\n",
    "\n",
    "for i, t in enumerate(range(1, T, T // 10)):\n",
    "    x_t = q(data_sample, t)\n",
    "    \n",
    "    ax[i].imshow(x_t.reshape((8, 8)))\n",
    "    ax[i].axis('off')\n",
    "\n",
    "plt.tight_layout()"
   ]
  },
  {
   "cell_type": "markdown",
   "id": "7408dfde",
   "metadata": {},
   "source": [
    "### Loss Definition"
   ]
  },
  {
   "cell_type": "markdown",
   "id": "c374724c",
   "metadata": {},
   "source": [
    "**Eq. (12)** / **Algorithm 1 line 5**"
   ]
  },
  {
   "cell_type": "code",
   "execution_count": 16,
   "id": "6be3c632",
   "metadata": {},
   "outputs": [],
   "source": [
    "def train_loss(x_0: Tensor, t: int) -> Tensor:\n",
    "    eps = torch.randn(x_0.shape)\n",
    "    model_arg = alpha_bar(t).sqrt() * x_0 + (1 - alpha_bar(t)).sqrt() * eps\n",
    "    eps_model_pred = eps_theta(img=model_arg, t=t)\n",
    "    return torch.linalg.norm(eps - eps_model_pred) ** 2"
   ]
  },
  {
   "cell_type": "markdown",
   "id": "8fd09cc8",
   "metadata": {},
   "source": [
    "### Training"
   ]
  },
  {
   "cell_type": "code",
   "execution_count": 17,
   "id": "aa7eb2b7",
   "metadata": {},
   "outputs": [
    {
     "name": "stderr",
     "output_type": "stream",
     "text": [
      "100%|██████████████████████████████████████████████████████████████████████████████████████████████| 2500/2500 [05:05<00:00,  8.18it/s]\n"
     ]
    }
   ],
   "source": [
    "NUM_EPOCHS = 2500\n",
    "LR = 0.003\n",
    "\n",
    "torch.manual_seed(124)\n",
    "eps_theta = EpsTheta(T=T)\n",
    "\n",
    "# Important update of Adam's beta_2 (might not work otherwise). ;-)\n",
    "opt = torch.optim.Adam(eps_theta.parameters(), lr=LR, betas=(0.9, 0.996))\n",
    "ll = []\n",
    "\n",
    "for epoch in tqdm(range(1, NUM_EPOCHS+1)):\n",
    "    opt.zero_grad()\n",
    "        \n",
    "    loss = torch.tensor(0.)\n",
    "    for x_0 in data:\n",
    "        t = torch.randint(1, T+1, size=(1,))\n",
    "        loss += train_loss(x_0, t.item())\n",
    "        \n",
    "    loss /= len(data)\n",
    "    loss.backward()\n",
    "    opt.step()\n",
    "        \n",
    "    ll.append(loss.detach().item())"
   ]
  },
  {
   "cell_type": "code",
   "execution_count": 18,
   "id": "9461fb43",
   "metadata": {},
   "outputs": [
    {
     "data": {
      "image/png": "[encoded data removed]",
      "text/plain": [
       "<Figure size 432x288 with 1 Axes>"
      ]
     },
     "metadata": {
      "needs_background": "light"
     },
     "output_type": "display_data"
    }
   ],
   "source": [
    "plt.plot(ll)\n",
    "plt.xlabel('epoch')\n",
    "plt.ylabel('loss');"
   ]
  },
  {
   "cell_type": "markdown",
   "id": "c62811a2",
   "metadata": {},
   "source": [
    "### Inference"
   ]
  },
  {
   "cell_type": "markdown",
   "id": "8f057490",
   "metadata": {},
   "source": [
    "**Algorithm 2 (Sampling)** (now predicting $\\epsilon$)"
   ]
  },
  {
   "cell_type": "code",
   "execution_count": 19,
   "id": "707332be",
   "metadata": {},
   "outputs": [],
   "source": [
    "normal = lambda: torch.randn(data_sample.shape)\n",
    "\n",
    "def sample():\n",
    "    # line 1\n",
    "    x_T = normal()\n",
    "    x_i = x_T\n",
    "    \n",
    "    x_i_list = [x_T]\n",
    "    plots = defaultdict(list)\n",
    "    \n",
    "    for i, t in tqdm(enumerate(range(T, 0, -1))):\n",
    "        # line 3\n",
    "        z = normal() if t > 1 else torch.zeros_like(data_sample)\n",
    "        \n",
    "        # line 4\n",
    "        fac1 = 1 / alpha(t).sqrt()\n",
    "        model_out = eps_theta(x_i, t)\n",
    "        model_out_fac = (1 - alpha(t)) / (1 - alpha_bar(t)).sqrt()\n",
    "        fac2 = x_i - model_out_fac * model_out\n",
    "        sigma_t = beta(t).sqrt()\n",
    "        x_i = fac1 * fac2 + sigma_t * z\n",
    "        \n",
    "        plots['sigma_t_times_z'].append(torch.linalg.norm(sigma_t * z).detach())\n",
    "        plots['model_out_norm'].append(torch.linalg.norm(model_out).detach())\n",
    "        plots['x_i_norm'].append(torch.linalg.norm(x_i).detach())\n",
    "        plots['model_out_factor'].append(model_out_fac.detach())\n",
    "        x_i_list.append(x_i.detach())\n",
    "        \n",
    "    x_0 = x_i\n",
    "    return x_i_list, plots # line 6"
   ]
  },
  {
   "cell_type": "code",
   "execution_count": 47,
   "id": "ae06b9ee",
   "metadata": {
    "scrolled": true
   },
   "outputs": [
    {
     "data": {
      "image/png": "[encoded data removed]",
      "text/plain": [
       "<Figure size 432x288 with 1 Axes>"
      ]
     },
     "metadata": {
      "needs_background": "light"
     },
     "output_type": "display_data"
    }
   ],
   "source": [
    "plt.plot(sample_losses)\n",
    "plt.xlabel('step')\n",
    "plt.ylabel('loss per sample');"
   ]
  },
  {
   "cell_type": "code",
   "execution_count": 20,
   "id": "f12b5bfb",
   "metadata": {},
   "outputs": [
    {
     "name": "stderr",
     "output_type": "stream",
     "text": [
      "100it [00:00, 3687.72it/s]\n"
     ]
    }
   ],
   "source": [
    "x_i_list, plots = sample()\n",
    "x_i_sublist = x_i_list[::10]"
   ]
  },
  {
   "cell_type": "code",
   "execution_count": 21,
   "id": "706f7387",
   "metadata": {},
   "outputs": [
    {
     "data": {
      "image/png": "[encoded data removed]",
      "text/plain": [
       "<Figure size 1440x576 with 11 Axes>"
      ]
     },
     "metadata": {
      "needs_background": "light"
     },
     "output_type": "display_data"
    }
   ],
   "source": [
    "fig, ax = plt.subplots(1, len(x_i_sublist), figsize=(20, 8))\n",
    "ax = ax.flatten()\n",
    "\n",
    "for i, x_i in enumerate(x_i_sublist):\n",
    "    ax[i].imshow(x_i.view((8, 8)))\n",
    "    ax[i].axis('off')\n",
    "\n",
    "plt.tight_layout()"
   ]
  },
  {
   "cell_type": "code",
   "execution_count": 22,
   "id": "e6899c11",
   "metadata": {},
   "outputs": [
    {
     "data": {
      "image/png": "[encoded data removed]",
      "text/plain": [
       "<Figure size 432x288 with 1 Axes>"
      ]
     },
     "metadata": {
      "needs_background": "light"
     },
     "output_type": "display_data"
    }
   ],
   "source": [
    "imshow(x_i_list[-1])"
   ]
  },
  {
   "cell_type": "code",
   "execution_count": 23,
   "id": "a3f4f9d5",
   "metadata": {},
   "outputs": [
    {
     "data": {
      "image/png": "[encoded data removed]",
      "text/plain": [
       "<Figure size 432x288 with 1 Axes>"
      ]
     },
     "metadata": {
      "needs_background": "light"
     },
     "output_type": "display_data"
    },
    {
     "data": {
      "image/png": "[encoded data removed]",
      "text/plain": [
       "<Figure size 432x288 with 1 Axes>"
      ]
     },
     "metadata": {
      "needs_background": "light"
     },
     "output_type": "display_data"
    },
    {
     "data": {
      "image/png": "[encoded data removed]",
      "text/plain": [
       "<Figure size 432x288 with 1 Axes>"
      ]
     },
     "metadata": {
      "needs_background": "light"
     },
     "output_type": "display_data"
    },
    {
     "data": {
      "image/png": "[encoded data removed]",
      "text/plain": [
       "<Figure size 432x288 with 1 Axes>"
      ]
     },
     "metadata": {
      "needs_background": "light"
     },
     "output_type": "display_data"
    }
   ],
   "source": [
    "for k, series in plots.items():\n",
    "    plt.figure()\n",
    "    plt.plot(series)\n",
    "    plt.title(k);"
   ]
  },
  {
   "cell_type": "code",
   "execution_count": 36,
   "id": "6897184d",
   "metadata": {},
   "outputs": [
    {
     "data": {
      "text/plain": [
       "tensor([-0.1640, -0.4168, -0.8543, -1.1607,  0.5887, -0.0844,  1.6421, -1.6811,\n",
       "         2.1903, -0.3148, -1.0239, -0.0153,  0.4767, -0.5637,  0.0902,  0.9136,\n",
       "         0.4096,  2.1477, -0.1868, -0.4697,  1.5490,  0.0453,  0.3366, -0.7936,\n",
       "         0.7403, -1.0738, -1.0939,  0.8172,  0.2893,  1.6619,  0.5315,  0.6001,\n",
       "        -0.5176,  0.8166,  1.5737, -0.2508, -0.2220,  1.4756,  0.4009,  0.9442,\n",
       "         0.5152,  0.7803,  1.2109,  0.8294, -0.1673,  1.5944,  1.4461,  0.3516,\n",
       "        -0.0228,  1.1468, -0.8906, -0.5680,  0.2850,  0.4135, -0.7024,  0.5278,\n",
       "        -2.3604, -0.6066, -0.3369,  1.4197, -0.6919,  0.3243, -0.2136, -1.6778])"
      ]
     },
     "execution_count": 36,
     "metadata": {},
     "output_type": "execute_result"
    }
   ],
   "source": [
    "torch.randn(data_sample.shape)"
   ]
  },
  {
   "cell_type": "markdown",
   "id": "7f4b3070",
   "metadata": {},
   "source": [
    "## Sample Inspection"
   ]
  },
  {
   "cell_type": "code",
   "execution_count": 24,
   "id": "f4b22d88",
   "metadata": {},
   "outputs": [
    {
     "name": "stderr",
     "output_type": "stream",
     "text": [
      "100it [00:00, 4934.36it/s]\n",
      "100it [00:00, 4936.57it/s]\n",
      "100it [00:00, 3996.52it/s]\n",
      "100it [00:00, 4738.68it/s]\n",
      "100it [00:00, 4615.57it/s]\n",
      "100it [00:00, 4373.12it/s]\n",
      "100it [00:00, 4156.64it/s]\n",
      "100it [00:00, 4597.45it/s]\n",
      "100it [00:00, 4887.84it/s]\n",
      "100it [00:00, 4656.20it/s]\n"
     ]
    },
    {
     "data": {
      "image/png": "[encoded data removed]",
      "text/plain": [
       "<Figure size 1008x864 with 80 Axes>"
      ]
     },
     "metadata": {
      "needs_background": "light"
     },
     "output_type": "display_data"
    }
   ],
   "source": [
    "sample_histories = []\n",
    "for _ in range(10):\n",
    "    gen_hist, _ = sample()\n",
    "    sample_histories.append(gen_hist[::15] + [gen_hist[-1]])\n",
    "\n",
    "fig, ax = plt.subplots(len(sample_histories), len(sample_histories[0]), figsize=(14, 12))\n",
    "\n",
    "for i, sample_hist in enumerate(sample_histories):\n",
    "    for j, x_i in enumerate(sample_hist):\n",
    "        ax[i,j].imshow(x_i.view((8, 8)))\n",
    "        ax[i,j].axis('off')\n",
    "        \n",
    "plt.tight_layout()"
   ]
  },
  {
   "cell_type": "code",
   "execution_count": 26,
   "id": "a3d75cfc",
   "metadata": {},
   "outputs": [],
   "source": [
    "def sample_and_show():\n",
    "    imshow(sample()[0][-1])"
   ]
  },
  {
   "cell_type": "code",
   "execution_count": 27,
   "id": "a1a5bd46",
   "metadata": {},
   "outputs": [
    {
     "name": "stderr",
     "output_type": "stream",
     "text": [
      "100it [00:00, 5446.65it/s]\n"
     ]
    },
    {
     "data": {
      "image/png": "[encoded data removed]",
      "text/plain": [
       "<Figure size 432x288 with 1 Axes>"
      ]
     },
     "metadata": {
      "needs_background": "light"
     },
     "output_type": "display_data"
    }
   ],
   "source": [
    "sample_and_show()"
   ]
  },
  {
   "cell_type": "code",
   "execution_count": 28,
   "id": "4dfa78bc",
   "metadata": {},
   "outputs": [
    {
     "name": "stderr",
     "output_type": "stream",
     "text": [
      "100it [00:00, 693.70it/s]\n"
     ]
    },
    {
     "data": {
      "image/png": "[encoded data removed]",
      "text/plain": [
       "<Figure size 432x288 with 1 Axes>"
      ]
     },
     "metadata": {
      "needs_background": "light"
     },
     "output_type": "display_data"
    }
   ],
   "source": [
    "sample_and_show()"
   ]
  },
  {
   "cell_type": "code",
   "execution_count": 29,
   "id": "4ccb4e28",
   "metadata": {},
   "outputs": [
    {
     "name": "stderr",
     "output_type": "stream",
     "text": [
      "100it [00:00, 7263.62it/s]\n"
     ]
    },
    {
     "data": {
      "image/png": "[encoded data removed]",
      "text/plain": [
       "<Figure size 432x288 with 1 Axes>"
      ]
     },
     "metadata": {
      "needs_background": "light"
     },
     "output_type": "display_data"
    }
   ],
   "source": [
    "sample_and_show()"
   ]
  },
  {
   "cell_type": "markdown",
   "id": "c32528f9",
   "metadata": {},
   "source": [
    "## Hparam Optimization\n",
    "\n",
    "Nothing works so we have to tune hparams in hope that they cause the trouble.\n",
    "\n",
    "**Algo** hparams:\n",
    "\n",
    "* Network architecture (num hidden layers, num units)\n",
    "* $\\beta_1$, $\\beta_T$\n",
    "* $T$\n",
    "\n",
    "**Training** hparams:\n",
    "\n",
    "* Num epochs, learning rate\n",
    "* Optimizer (Adam or SGD)"
   ]
  },
  {
   "cell_type": "markdown",
   "id": "dab5ba78",
   "metadata": {},
   "source": [
    "We cannot use the loss as an objective, because it can be lowered through hparams without quality increase."
   ]
  },
  {
   "cell_type": "code",
   "execution_count": null,
   "id": "b64a5638",
   "metadata": {},
   "outputs": [],
   "source": [
    "data.shape"
   ]
  },
  {
   "cell_type": "code",
   "execution_count": null,
   "id": "c9f52dd7",
   "metadata": {},
   "outputs": [],
   "source": [
    "data_mean = torch.mean(data, axis=0)\n",
    "imshow(data_mean)"
   ]
  },
  {
   "cell_type": "code",
   "execution_count": null,
   "id": "b95477a3",
   "metadata": {},
   "outputs": [],
   "source": [
    "def quality_assessment():\n",
    "    x_i_list, _ = sample()\n",
    "    x_gen = x_i_list[-1]\n",
    "    return torch.linalg.norm(x_gen - data_mean)"
   ]
  },
  {
   "cell_type": "code",
   "execution_count": null,
   "id": "12935a58",
   "metadata": {},
   "outputs": [],
   "source": [
    "quality_assessment()"
   ]
  }
 ],
 "metadata": {
  "kernelspec": {
   "display_name": "Python 3 (ipykernel)",
   "language": "python",
   "name": "python3"
  },
  "language_info": {
   "codemirror_mode": {
    "name": "ipython",
    "version": 3
   },
   "file_extension": ".py",
   "mimetype": "text/x-python",
   "name": "python",
   "nbconvert_exporter": "python",
   "pygments_lexer": "ipython3",
   "version": "3.9.4"
  }
 },
 "nbformat": 4,
 "nbformat_minor": 5
}
