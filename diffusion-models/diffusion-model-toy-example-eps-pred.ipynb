{
 "cells": [
  {
   "cell_type": "markdown",
   "id": "e753579c",
   "metadata": {},
   "source": [
    "# Diffusion Model Toy Example\n",
    "\n",
    "Fork of notebook (1). Here we implement **Algorithm 1**, i.e., the variant in which the NN predicts $\\epsilon_\\theta$.\n",
    "\n",
    "Attempting to reimplement _Denoising Diffusion Probabilistic Model_ (Ho et al. (2020))."
   ]
  },
  {
   "cell_type": "code",
   "execution_count": 1,
   "id": "2f0c855c",
   "metadata": {},
   "outputs": [],
   "source": [
    "from collections import defaultdict\n",
    "import matplotlib.pyplot as plt\n",
    "import numpy as np\n",
    "import sklearn.datasets\n",
    "import torch\n",
    "from torch import Tensor\n",
    "from tqdm import tqdm"
   ]
  },
  {
   "cell_type": "markdown",
   "id": "c51bb542",
   "metadata": {},
   "source": [
    "Data loading and inspection"
   ]
  },
  {
   "cell_type": "code",
   "execution_count": 2,
   "id": "4457f466",
   "metadata": {},
   "outputs": [
    {
     "data": {
      "text/plain": [
       "(torch.Size([182, 64]), torch.float32)"
      ]
     },
     "execution_count": 2,
     "metadata": {},
     "output_type": "execute_result"
    }
   ],
   "source": [
    "dataset = sklearn.datasets.load_digits()\n",
    "data_np, labels_np = dataset['data'], dataset['target']\n",
    "data_np = data_np[labels_np == 1]\n",
    "del labels_np\n",
    "data = torch.from_numpy(data_np.astype(np.float32))\n",
    "data = ((data / 15) - 0.5) * 2  # Normalize between [-1, 1]\n",
    "IMG_DIM = data.shape[1]\n",
    "data.shape, data.dtype"
   ]
  },
  {
   "cell_type": "code",
   "execution_count": 3,
   "id": "29793c16",
   "metadata": {},
   "outputs": [
    {
     "data": {
      "text/plain": [
       "tensor([-1.0000, -1.0000, -1.0000,  0.6000,  0.7333, -0.3333, -1.0000, -1.0000,\n",
       "        -1.0000, -1.0000, -1.0000,  0.4667,  1.1333,  0.2000, -1.0000, -1.0000,\n",
       "        -1.0000, -1.0000, -0.6000,  1.0000,  1.1333, -0.2000, -1.0000, -1.0000,\n",
       "        -1.0000, -0.0667,  1.0000,  1.1333,  1.1333, -0.7333, -1.0000, -1.0000,\n",
       "        -1.0000, -1.0000, -0.8667,  1.1333,  1.1333, -0.6000, -1.0000, -1.0000,\n",
       "        -1.0000, -1.0000, -0.8667,  1.1333,  1.1333, -0.2000, -1.0000, -1.0000,\n",
       "        -1.0000, -1.0000, -0.8667,  1.1333,  1.1333, -0.2000, -1.0000, -1.0000,\n",
       "        -1.0000, -1.0000, -1.0000,  0.4667,  1.1333,  0.3333, -1.0000, -1.0000])"
      ]
     },
     "execution_count": 3,
     "metadata": {},
     "output_type": "execute_result"
    }
   ],
   "source": [
    "data_sample = data[0]\n",
    "data_sample"
   ]
  },
  {
   "cell_type": "code",
   "execution_count": 4,
   "id": "d0ae430d",
   "metadata": {},
   "outputs": [],
   "source": [
    "def imshow(x: Tensor) -> None:\n",
    "    plt.imshow(x.reshape((8, 8)));"
   ]
  },
  {
   "cell_type": "code",
   "execution_count": 5,
   "id": "898789af",
   "metadata": {},
   "outputs": [
    {
     "data": {
      "image/png": "[encoded data removed]",
      "text/plain": [
       "<Figure size 432x288 with 1 Axes>"
      ]
     },
     "metadata": {
      "needs_background": "light"
     },
     "output_type": "display_data"
    }
   ],
   "source": [
    "imshow(data_sample)"
   ]
  },
  {
   "cell_type": "markdown",
   "id": "9bbe4bc9",
   "metadata": {},
   "source": [
    "### Model Definition\n",
    "\n",
    "Output size is equal to the input size, i.e., 64 units."
   ]
  },
  {
   "cell_type": "code",
   "execution_count": 6,
   "id": "241745ec",
   "metadata": {},
   "outputs": [],
   "source": [
    "# Number of diffusion steps.\n",
    "T = 1000"
   ]
  },
  {
   "cell_type": "code",
   "execution_count": 7,
   "id": "440ae4da",
   "metadata": {},
   "outputs": [],
   "source": [
    "# Won the race against ReLU.\n",
    "ACTIVATION_FN = torch.nn.SiLU"
   ]
  },
  {
   "cell_type": "code",
   "execution_count": 8,
   "id": "af873c98",
   "metadata": {},
   "outputs": [],
   "source": [
    "class EpsTheta(torch.nn.Module):\n",
    "    def __init__(self, T: int):\n",
    "        super().__init__()\n",
    "        self.T = T\n",
    "        self.eps_theta = torch.nn.Sequential(\n",
    "            torch.nn.Linear(in_features=IMG_DIM+1, out_features=32),\n",
    "            ACTIVATION_FN(),\n",
    "            torch.nn.Linear(in_features=32, out_features=32),\n",
    "            ACTIVATION_FN(),\n",
    "            torch.nn.Linear(in_features=32, out_features=IMG_DIM))\n",
    "        \n",
    "    def forward(self, img: Tensor, t: int) -> Tensor:\n",
    "        \"\"\"img is a flat vector (possibly batched), t is a scalar\"\"\"\n",
    "        t_scaled = self._scale_t(t)\n",
    "        model_input = torch.concat([img, t_scaled], axis=-1)\n",
    "        model_output = self.eps_theta(model_input)\n",
    "        return model_output\n",
    "    \n",
    "    def _scale_t(self, t: int) -> Tensor:\n",
    "        return torch.tensor([(t / self.T - 0.5) * 2])"
   ]
  },
  {
   "cell_type": "code",
   "execution_count": 9,
   "id": "3b7a0d62",
   "metadata": {},
   "outputs": [],
   "source": [
    "eps_theta = EpsTheta(T=T)"
   ]
  },
  {
   "cell_type": "markdown",
   "id": "20ed8fcf",
   "metadata": {},
   "source": [
    "Analyzing the deep image prior..."
   ]
  },
  {
   "cell_type": "code",
   "execution_count": 10,
   "id": "b3ef59f8",
   "metadata": {},
   "outputs": [
    {
     "data": {
      "image/png": "[encoded data removed]",
      "text/plain": [
       "<Figure size 432x288 with 1 Axes>"
      ]
     },
     "metadata": {
      "needs_background": "light"
     },
     "output_type": "display_data"
    }
   ],
   "source": [
    "y = eps_theta(img=data_sample, t=0)\n",
    "imshow(y.detach())"
   ]
  },
  {
   "cell_type": "markdown",
   "id": "2b016d75",
   "metadata": {},
   "source": [
    "Paper values: $\\beta_1=10^{-4}$ and $\\beta_T=0.02$"
   ]
  },
  {
   "cell_type": "code",
   "execution_count": 11,
   "id": "6dec29b9",
   "metadata": {},
   "outputs": [],
   "source": [
    "beta_1 = 1e-4\n",
    "beta_T = 2e-2"
   ]
  },
  {
   "cell_type": "code",
   "execution_count": 12,
   "id": "335a46dd",
   "metadata": {},
   "outputs": [],
   "source": [
    "beta_t = torch.linspace(beta_1, beta_T, T)\n",
    "alpha_t = 1 - beta_t\n",
    "alpha_bar_t = torch.tensor([torch.prod(alpha_t[:s]) for s in range(1, T+1)])\n",
    "\n",
    "def beta(t: int) -> float:\n",
    "    assert 0 < t <= T\n",
    "    return beta_t[t-1]\n",
    "\n",
    "def alpha(t: int) -> float:\n",
    "    assert 0 < t <= T\n",
    "    return alpha_t[t-1]\n",
    "\n",
    "def alpha_bar(t: int) -> float:\n",
    "    if t == 0: return alpha_bar_t[0]\n",
    "    assert 0 < t <= T\n",
    "    return alpha_bar_t[t-1]"
   ]
  },
  {
   "cell_type": "code",
   "execution_count": 13,
   "id": "c6946004",
   "metadata": {},
   "outputs": [
    {
     "data": {
      "image/png": "[encoded data removed]",
      "text/plain": [
       "<Figure size 432x288 with 1 Axes>"
      ]
     },
     "metadata": {
      "needs_background": "light"
     },
     "output_type": "display_data"
    }
   ],
   "source": [
    "plt.plot(beta_t, label='beta')\n",
    "plt.plot(alpha_t, label='alpha')\n",
    "plt.plot(alpha_bar_t, label='alpha_bar')\n",
    "plt.legend();"
   ]
  },
  {
   "cell_type": "markdown",
   "id": "3fa4c3be",
   "metadata": {},
   "source": [
    "### Diffusion Process\n",
    "\n",
    "(Aka. nosification.) **Eq. (4)** – the closed for of the iterative version in Eq. (2)."
   ]
  },
  {
   "cell_type": "code",
   "execution_count": 14,
   "id": "ba85fd69",
   "metadata": {},
   "outputs": [],
   "source": [
    "def q(x_0: Tensor, t: int) -> Tensor:\n",
    "    \"\"\"Implementatin of Eq. (4).\"\"\"\n",
    "    std_normal = torch.randn(x_0.shape)\n",
    "    mean = torch.sqrt(alpha_bar(t)) * x_0\n",
    "    var = 1 - alpha_bar(t)\n",
    "    return mean + std_normal * var.sqrt()"
   ]
  },
  {
   "cell_type": "code",
   "execution_count": 15,
   "id": "dc0da670",
   "metadata": {
    "scrolled": false
   },
   "outputs": [
    {
     "data": {
      "image/png": "[encoded data removed]",
      "text/plain": [
       "<Figure size 1440x576 with 10 Axes>"
      ]
     },
     "metadata": {
      "needs_background": "light"
     },
     "output_type": "display_data"
    }
   ],
   "source": [
    "fig, ax = plt.subplots(1, 10, figsize=(20, 8))\n",
    "ax = ax.flatten()\n",
    "\n",
    "for i, t in enumerate(range(1, T, T // 10)):\n",
    "    x_t = q(data_sample, t)\n",
    "    \n",
    "    ax[i].imshow(x_t.reshape((8, 8)))\n",
    "    ax[i].axis('off')\n",
    "\n",
    "plt.tight_layout()"
   ]
  },
  {
   "cell_type": "markdown",
   "id": "7408dfde",
   "metadata": {},
   "source": [
    "### Loss Definition"
   ]
  },
  {
   "cell_type": "markdown",
   "id": "c374724c",
   "metadata": {},
   "source": [
    "**Eq. (12)** / **Algorithm 1 line 5**"
   ]
  },
  {
   "cell_type": "code",
   "execution_count": 16,
   "id": "6be3c632",
   "metadata": {},
   "outputs": [],
   "source": [
    "NUM_MC_SAMPLES_T = 10\n",
    "\n",
    "def train_loss(x_0: Tensor, t: int) -> Tensor:\n",
    "    eps = torch.randn(x_0.shape)\n",
    "    model_arg = alpha_bar(t).sqrt() * x_0 + (1 - alpha_bar(t)).sqrt() * eps\n",
    "    eps_model_pred = eps_theta(img=model_arg, t=t)\n",
    "    return torch.linalg.norm(eps - eps_model_pred) ** 2"
   ]
  },
  {
   "cell_type": "markdown",
   "id": "8fd09cc8",
   "metadata": {},
   "source": [
    "### Training"
   ]
  },
  {
   "cell_type": "code",
   "execution_count": 17,
   "id": "aa7eb2b7",
   "metadata": {},
   "outputs": [
    {
     "name": "stderr",
     "output_type": "stream",
     "text": [
      "100%|██████████████████████████████████████████████████████████████████████████████████████████████| 2000/2000 [00:34<00:00, 58.57it/s]\n"
     ]
    }
   ],
   "source": [
    "NUM_EPOCHS = 2000\n",
    "LR = 1e-3\n",
    "\n",
    "torch.manual_seed(124)\n",
    "eps_theta = EpsTheta(T=T)\n",
    "\n",
    "# Important update of Adam's beta_2 (might not work otherwise). ;-)\n",
    "opt = torch.optim.Adam(eps_theta.parameters(), lr=LR, betas=(0.9, 0.996))\n",
    "ll = []\n",
    "\n",
    "for epoch in tqdm(range(1, NUM_EPOCHS+1)):\n",
    "    opt.zero_grad()\n",
    "        \n",
    "    loss = torch.tensor(0.)\n",
    "    for x_0 in data:\n",
    "        t = torch.randint(1, T+1, size=(1,))\n",
    "        loss += train_loss(x_0, t.item())\n",
    "        \n",
    "    loss /= len(data)\n",
    "    loss.backward()\n",
    "    opt.step()\n",
    "        \n",
    "    ll.append(loss.detach().item())"
   ]
  },
  {
   "cell_type": "code",
   "execution_count": 18,
   "id": "9461fb43",
   "metadata": {},
   "outputs": [
    {
     "data": {
      "image/png": "[encoded data removed]",
      "text/plain": [
       "<Figure size 432x288 with 1 Axes>"
      ]
     },
     "metadata": {
      "needs_background": "light"
     },
     "output_type": "display_data"
    }
   ],
   "source": [
    "plt.plot(ll)\n",
    "plt.xlabel('epoch')\n",
    "plt.ylabel('loss');"
   ]
  },
  {
   "cell_type": "markdown",
   "id": "c62811a2",
   "metadata": {},
   "source": [
    "### Inference"
   ]
  },
  {
   "cell_type": "markdown",
   "id": "8f057490",
   "metadata": {},
   "source": [
    "**Algorithm 2 (Sampling)** (now predicting $\\epsilon$)"
   ]
  },
  {
   "cell_type": "code",
   "execution_count": 19,
   "id": "a27751af",
   "metadata": {},
   "outputs": [],
   "source": [
    "normal = lambda: torch.randn(data_sample.shape)\n",
    "\n",
    "def sample():\n",
    "    # line 1\n",
    "    x_T = normal()\n",
    "    x_i = x_T\n",
    "    \n",
    "    x_i_list = [x_T]\n",
    "    plots = defaultdict(list)\n",
    "    \n",
    "    for i, t in tqdm(enumerate(range(T, 0, -1))):\n",
    "        # line 3\n",
    "        z = normal() if t > 1 else torch.zeros_like(data_sample)\n",
    "        \n",
    "        # line 4\n",
    "        fac1 = 1 / alpha(t).sqrt()\n",
    "        model_out = eps_theta(x_i, t)\n",
    "        model_out_fac = (1 - alpha(t)) / (1 - alpha_bar(t)).sqrt()\n",
    "        fac2 = x_i - model_out_fac * model_out\n",
    "        sigma_t = beta(t).sqrt()\n",
    "        x_i = fac1 * fac2 + sigma_t * z\n",
    "        \n",
    "        plots['sigma_t_times_z'].append(torch.linalg.norm(sigma_t * z).detach())\n",
    "        plots['model_out_norm'].append(torch.linalg.norm(model_out).detach())\n",
    "        plots['x_i_norm'].append(torch.linalg.norm(x_i).detach())\n",
    "        plots['model_out_factor'].append(model_out_fac.detach())\n",
    "        x_i_list.append(x_i.detach())\n",
    "        \n",
    "    x_0 = x_i\n",
    "    return x_i_list, plots # line 6"
   ]
  },
  {
   "cell_type": "code",
   "execution_count": 20,
   "id": "5acce4a1",
   "metadata": {},
   "outputs": [
    {
     "name": "stderr",
     "output_type": "stream",
     "text": [
      "1000it [00:00, 8555.56it/s]\n"
     ]
    }
   ],
   "source": [
    "x_i_list, plots = sample()\n",
    "x_i_sublist = x_i_list[::100]"
   ]
  },
  {
   "cell_type": "code",
   "execution_count": 21,
   "id": "706f7387",
   "metadata": {},
   "outputs": [
    {
     "data": {
      "image/png": "[encoded data removed]",
      "text/plain": [
       "<Figure size 1440x576 with 11 Axes>"
      ]
     },
     "metadata": {
      "needs_background": "light"
     },
     "output_type": "display_data"
    }
   ],
   "source": [
    "fig, ax = plt.subplots(1, len(x_i_sublist), figsize=(20, 8))\n",
    "ax = ax.flatten()\n",
    "\n",
    "for i, x_i in enumerate(x_i_sublist):\n",
    "    ax[i].imshow(x_i.view((8, 8)))\n",
    "    ax[i].axis('off')\n",
    "\n",
    "plt.tight_layout()"
   ]
  },
  {
   "cell_type": "code",
   "execution_count": 22,
   "id": "ec19f0e8",
   "metadata": {},
   "outputs": [
    {
     "data": {
      "image/png": "[encoded data removed]",
      "text/plain": [
       "<Figure size 432x288 with 1 Axes>"
      ]
     },
     "metadata": {
      "needs_background": "light"
     },
     "output_type": "display_data"
    }
   ],
   "source": [
    "imshow(x_i_list[-1])"
   ]
  },
  {
   "cell_type": "code",
   "execution_count": 23,
   "id": "90ccc170",
   "metadata": {},
   "outputs": [
    {
     "data": {
      "image/png": "[encoded data removed]",
      "text/plain": [
       "<Figure size 432x288 with 1 Axes>"
      ]
     },
     "metadata": {
      "needs_background": "light"
     },
     "output_type": "display_data"
    },
    {
     "data": {
      "image/png": "[encoded data removed]",
      "text/plain": [
       "<Figure size 432x288 with 1 Axes>"
      ]
     },
     "metadata": {
      "needs_background": "light"
     },
     "output_type": "display_data"
    },
    {
     "data": {
      "image/png": "[encoded data removed]",
      "text/plain": [
       "<Figure size 432x288 with 1 Axes>"
      ]
     },
     "metadata": {
      "needs_background": "light"
     },
     "output_type": "display_data"
    },
    {
     "data": {
      "image/png": "[encoded data removed]",
      "text/plain": [
       "<Figure size 432x288 with 1 Axes>"
      ]
     },
     "metadata": {
      "needs_background": "light"
     },
     "output_type": "display_data"
    }
   ],
   "source": [
    "for k, series in plots.items():\n",
    "    plt.figure()\n",
    "    plt.plot(series)\n",
    "    plt.title(k);"
   ]
  },
  {
   "cell_type": "markdown",
   "id": "1db7afdc",
   "metadata": {},
   "source": [
    "## Hparam Optimization\n",
    "\n",
    "Nothing works so we have to tune hparams in hope that they cause the trouble.\n",
    "\n",
    "**Algo** hparams:\n",
    "\n",
    "* Network architecture (num hidden layers, num units)\n",
    "* $\\beta_1$, $\\beta_T$\n",
    "* $T$\n",
    "\n",
    "**Training** hparams:\n",
    "\n",
    "* Num epochs, learning rate\n",
    "* Optimizer (Adam or SGD)"
   ]
  },
  {
   "cell_type": "markdown",
   "id": "a192e7b3",
   "metadata": {},
   "source": [
    "We cannot use the loss as an objective, because it can be lowered through hparams without quality increase."
   ]
  },
  {
   "cell_type": "code",
   "execution_count": 25,
   "id": "5a40b8e8",
   "metadata": {},
   "outputs": [
    {
     "data": {
      "text/plain": [
       "torch.Size([182, 64])"
      ]
     },
     "execution_count": 25,
     "metadata": {},
     "output_type": "execute_result"
    }
   ],
   "source": [
    "data.shape"
   ]
  },
  {
   "cell_type": "code",
   "execution_count": 27,
   "id": "04cfaabf",
   "metadata": {},
   "outputs": [
    {
     "data": {
      "image/png": "[encoded data removed]",
      "text/plain": [
       "<Figure size 432x288 with 1 Axes>"
      ]
     },
     "metadata": {
      "needs_background": "light"
     },
     "output_type": "display_data"
    }
   ],
   "source": [
    "data_mean = torch.mean(data, axis=0)\n",
    "imshow(data_mean)"
   ]
  },
  {
   "cell_type": "code",
   "execution_count": 28,
   "id": "1327aaf4",
   "metadata": {},
   "outputs": [],
   "source": [
    "def quality_assessment():\n",
    "    x_i_list, _ = sample()\n",
    "    x_gen = x_i_list[-1]\n",
    "    return torch.linalg.norm(x_gen - data_mean)"
   ]
  },
  {
   "cell_type": "code",
   "execution_count": 29,
   "id": "45f4b8e4",
   "metadata": {},
   "outputs": [
    {
     "name": "stderr",
     "output_type": "stream",
     "text": [
      "1000it [00:00, 10325.76it/s]\n"
     ]
    },
    {
     "data": {
      "text/plain": [
       "tensor(1131.0941)"
      ]
     },
     "execution_count": 29,
     "metadata": {},
     "output_type": "execute_result"
    }
   ],
   "source": [
    "quality_assessment()"
   ]
  }
 ],
 "metadata": {
  "kernelspec": {
   "display_name": "Python 3 (ipykernel)",
   "language": "python",
   "name": "python3"
  },
  "language_info": {
   "codemirror_mode": {
    "name": "ipython",
    "version": 3
   },
   "file_extension": ".py",
   "mimetype": "text/x-python",
   "name": "python",
   "nbconvert_exporter": "python",
   "pygments_lexer": "ipython3",
   "version": "3.9.4"
  }
 },
 "nbformat": 4,
 "nbformat_minor": 5
}
