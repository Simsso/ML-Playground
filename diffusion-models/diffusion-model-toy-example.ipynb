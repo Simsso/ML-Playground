{
 "cells": [
  {
   "cell_type": "markdown",
   "id": "e753579c",
   "metadata": {},
   "source": [
    "# Diffusion Model Toy Example\n",
    "\n",
    "Attempting to reimplement _Denoising Diffusion Probabilistic Model_ (Ho et al. (2020))."
   ]
  },
  {
   "cell_type": "markdown",
   "id": "dbf8b9fb",
   "metadata": {},
   "source": [
    "Battle plan:\n",
    "\n",
    "* Agree on target distribution --> Sklearn \"digits\"\n",
    "* ~~Generate~~ Load target distribution\n",
    "* PyTorch for the NN\n",
    "* Network implementation $\\mu_\\theta$\n",
    "* Implement Algorithm 1 (Training)\n",
    "* Train until convergence\n",
    "* Implement Algorithm 2 (Sampling)\n",
    "* Sample examples\n",
    "* Evaluation through manual inspection"
   ]
  },
  {
   "cell_type": "code",
   "execution_count": 1,
   "id": "2f0c855c",
   "metadata": {},
   "outputs": [],
   "source": [
    "import matplotlib.pyplot as plt\n",
    "import numpy as np\n",
    "import sklearn.datasets\n",
    "import torch\n",
    "from torch import Tensor\n",
    "from tqdm import tqdm"
   ]
  },
  {
   "cell_type": "markdown",
   "id": "c51bb542",
   "metadata": {},
   "source": [
    "Data loading and inspection"
   ]
  },
  {
   "cell_type": "code",
   "execution_count": 2,
   "id": "4457f466",
   "metadata": {},
   "outputs": [
    {
     "data": {
      "text/plain": [
       "(torch.Size([178, 64]), torch.float32)"
      ]
     },
     "execution_count": 2,
     "metadata": {},
     "output_type": "execute_result"
    }
   ],
   "source": [
    "data_np = sklearn.datasets.load_digits(n_class=1)['data']\n",
    "data = torch.from_numpy(data_np.astype(np.float32))\n",
    "data = ((data / 15) - 0.5) * 2  # Normalize between [-1, 1]\n",
    "IMG_DIM = data.shape[1]\n",
    "data.shape, data.dtype"
   ]
  },
  {
   "cell_type": "code",
   "execution_count": 3,
   "id": "d0ae430d",
   "metadata": {},
   "outputs": [],
   "source": [
    "def imshow(x: Tensor) -> None:\n",
    "    plt.imshow(x.reshape((8, 8)));"
   ]
  },
  {
   "cell_type": "code",
   "execution_count": 4,
   "id": "29793c16",
   "metadata": {},
   "outputs": [
    {
     "data": {
      "text/plain": [
       "tensor([-1.0000, -1.0000, -0.3333,  0.7333,  0.2000, -0.8667, -1.0000, -1.0000,\n",
       "        -1.0000, -1.0000,  0.7333,  1.0000,  0.3333,  1.0000, -0.3333, -1.0000,\n",
       "        -1.0000, -0.6000,  1.0000, -0.7333, -1.0000,  0.4667,  0.0667, -1.0000,\n",
       "        -1.0000, -0.4667,  0.6000, -1.0000, -1.0000,  0.0667,  0.0667, -1.0000,\n",
       "        -1.0000, -0.3333,  0.0667, -1.0000, -1.0000,  0.2000,  0.0667, -1.0000,\n",
       "        -1.0000, -0.4667,  0.4667, -1.0000, -0.8667,  0.6000, -0.0667, -1.0000,\n",
       "        -1.0000, -0.7333,  0.8667, -0.3333,  0.3333,  0.6000, -1.0000, -1.0000,\n",
       "        -1.0000, -1.0000, -0.2000,  0.7333,  0.3333, -1.0000, -1.0000, -1.0000])"
      ]
     },
     "execution_count": 4,
     "metadata": {},
     "output_type": "execute_result"
    }
   ],
   "source": [
    "data_sample = data[0]\n",
    "data_sample"
   ]
  },
  {
   "cell_type": "code",
   "execution_count": 5,
   "id": "898789af",
   "metadata": {},
   "outputs": [
    {
     "data": {
      "image/png": "[encoded data removed]",
      "text/plain": [
       "<Figure size 432x288 with 1 Axes>"
      ]
     },
     "metadata": {
      "needs_background": "light"
     },
     "output_type": "display_data"
    }
   ],
   "source": [
    "imshow(data_sample)"
   ]
  },
  {
   "cell_type": "markdown",
   "id": "9bbe4bc9",
   "metadata": {},
   "source": [
    "### Model Definition\n",
    "\n",
    "Output size is equal to the input size, i.e., 64 units."
   ]
  },
  {
   "cell_type": "code",
   "execution_count": 6,
   "id": "241745ec",
   "metadata": {},
   "outputs": [],
   "source": [
    "# Number of diffusion steps.\n",
    "T = 100"
   ]
  },
  {
   "cell_type": "code",
   "execution_count": 7,
   "id": "440ae4da",
   "metadata": {},
   "outputs": [],
   "source": [
    "# Won the race against ReLU.\n",
    "ACTIVATION_FN = torch.nn.SiLU"
   ]
  },
  {
   "cell_type": "code",
   "execution_count": 11,
   "id": "af873c98",
   "metadata": {},
   "outputs": [],
   "source": [
    "class MuTheta(torch.nn.Module):\n",
    "    def __init__(self, T: int):\n",
    "        super().__init__()\n",
    "        self.T = T\n",
    "        self.mu_theta = torch.nn.Sequential(\n",
    "            torch.nn.Linear(in_features=IMG_DIM+1, out_features=10),\n",
    "            ACTIVATION_FN(),\n",
    "            torch.nn.Linear(in_features=10, out_features=10),\n",
    "            ACTIVATION_FN(),\n",
    "            torch.nn.Linear(in_features=10, out_features=IMG_DIM))\n",
    "        \n",
    "    def forward(self, img: Tensor, t: int) -> Tensor:\n",
    "        \"\"\"img is a flat vector (possibly batched), t is a scalar\"\"\"\n",
    "        t_scaled = self._scale_t(t)\n",
    "        model_input = torch.concat([img, t_scaled], axis=-1)\n",
    "        return self.mu_theta(model_input)\n",
    "    \n",
    "    def _scale_t(self, t: int) -> Tensor:\n",
    "        return torch.tensor([(t / self.T - 0.5) * 2])"
   ]
  },
  {
   "cell_type": "code",
   "execution_count": 12,
   "id": "3b7a0d62",
   "metadata": {},
   "outputs": [],
   "source": [
    "mu_theta = MuTheta(T=T)"
   ]
  },
  {
   "cell_type": "markdown",
   "id": "20ed8fcf",
   "metadata": {},
   "source": [
    "Analyzing the deep image prior..."
   ]
  },
  {
   "cell_type": "code",
   "execution_count": 13,
   "id": "b3ef59f8",
   "metadata": {},
   "outputs": [
    {
     "data": {
      "image/png": "[encoded data removed]",
      "text/plain": [
       "<Figure size 432x288 with 1 Axes>"
      ]
     },
     "metadata": {
      "needs_background": "light"
     },
     "output_type": "display_data"
    }
   ],
   "source": [
    "y = mu_theta(img=data_sample, t=0)\n",
    "imshow(y.detach())"
   ]
  },
  {
   "cell_type": "markdown",
   "id": "2b016d75",
   "metadata": {},
   "source": [
    "Paper values: $\\beta_1=10^{-4}$ and $\\beta_T=0.02$"
   ]
  },
  {
   "cell_type": "code",
   "execution_count": 29,
   "id": "6dec29b9",
   "metadata": {},
   "outputs": [],
   "source": [
    "beta_1 = 0.001\n",
    "beta_T = 0.01"
   ]
  },
  {
   "cell_type": "code",
   "execution_count": 30,
   "id": "335a46dd",
   "metadata": {},
   "outputs": [],
   "source": [
    "beta_t = torch.linspace(beta_1, beta_T, T)\n",
    "alpha_t = 1 - beta_t\n",
    "alpha_bar_t = torch.tensor([torch.prod(alpha_t[:s]) for s in range(1, T+1)])\n",
    "\n",
    "def beta(t: int) -> float:\n",
    "    assert 0 < t <= T\n",
    "    return beta_t[t-1]\n",
    "\n",
    "def alpha(t: int) -> float:\n",
    "    assert 0 < t <= T\n",
    "    return alpha_t[t-1]\n",
    "\n",
    "def alpha_bar(t: int) -> float:\n",
    "    if t == 0: return alpha_bar_t[0]\n",
    "    assert 0 < t <= T\n",
    "    return alpha_bar_t[t-1]"
   ]
  },
  {
   "cell_type": "code",
   "execution_count": 31,
   "id": "c6946004",
   "metadata": {},
   "outputs": [
    {
     "data": {
      "image/png": "[encoded data removed]",
      "text/plain": [
       "<Figure size 432x288 with 1 Axes>"
      ]
     },
     "metadata": {
      "needs_background": "light"
     },
     "output_type": "display_data"
    }
   ],
   "source": [
    "plt.plot(beta_t, label='beta')\n",
    "plt.plot(alpha_t, label='alpha')\n",
    "plt.plot(alpha_bar_t, label='alpha_bar')\n",
    "plt.legend();"
   ]
  },
  {
   "cell_type": "markdown",
   "id": "3fa4c3be",
   "metadata": {},
   "source": [
    "### Diffusion Process\n",
    "\n",
    "(Aka. nosification.) **Eq. (4)** – the closed for of the iterative version in Eq. (2)."
   ]
  },
  {
   "cell_type": "code",
   "execution_count": 32,
   "id": "ba85fd69",
   "metadata": {},
   "outputs": [],
   "source": [
    "def q(x_0: Tensor, t: int) -> Tensor:\n",
    "    \"\"\"Implementatin of Eq. (4).\"\"\"\n",
    "    std_normal = torch.randn(x_0.shape)\n",
    "    mean = torch.sqrt(alpha_bar(t)) * x_0\n",
    "    var = 1 - alpha_bar(t)\n",
    "    return mean + std_normal * var.sqrt()"
   ]
  },
  {
   "cell_type": "code",
   "execution_count": 33,
   "id": "dc0da670",
   "metadata": {
    "scrolled": false
   },
   "outputs": [
    {
     "data": {
      "image/png": "[encoded data removed]",
      "text/plain": [
       "<Figure size 1440x576 with 10 Axes>"
      ]
     },
     "metadata": {
      "needs_background": "light"
     },
     "output_type": "display_data"
    }
   ],
   "source": [
    "fig, ax = plt.subplots(1, 10, figsize=(20, 8))\n",
    "ax = ax.flatten()\n",
    "\n",
    "for i, t in enumerate(range(1, T, T // 10)):\n",
    "    x_t = q(data_sample, t)\n",
    "    \n",
    "    ax[i].imshow(x_t.reshape((8, 8)))\n",
    "    ax[i].axis('off')\n",
    "\n",
    "plt.tight_layout()"
   ]
  },
  {
   "cell_type": "markdown",
   "id": "5d1a998a",
   "metadata": {},
   "source": [
    "### Reverse Process\n",
    "\n",
    "(Aka. image generation.) The **term above Eq. (8)**, that is their implementation of Eq. (1). $\\sigma$ is modeled as $=\\beta$ (not a neural network).\n",
    "\n",
    "They mention two possible choices for $\\sigma_t^2$. We choose the simpler one."
   ]
  },
  {
   "cell_type": "code",
   "execution_count": 34,
   "id": "e3c43e6b",
   "metadata": {},
   "outputs": [],
   "source": [
    "sigma_squared_t = beta_t\n",
    "sigma_squared = beta  # sigma_squared(t) = beta(t)"
   ]
  },
  {
   "cell_type": "code",
   "execution_count": 35,
   "id": "da5d65dd",
   "metadata": {},
   "outputs": [],
   "source": [
    "def p_theta(x_t: Tensor, t: int) -> Tensor:\n",
    "    \"\"\"p_theta(x_t-1|x_t)\"\"\"\n",
    "    std_normal = torch.randn(x_t.shape)\n",
    "    mu_theta_pred = mu_theta(img=x_t, t=t)\n",
    "    var = sigma_squared(t)\n",
    "    y = mu_theta_pred + std_normal * var.sqrt()\n",
    "    return y"
   ]
  },
  {
   "cell_type": "code",
   "execution_count": 36,
   "id": "97892796",
   "metadata": {},
   "outputs": [
    {
     "data": {
      "text/plain": [
       "tensor([ 0.3242,  0.1840, -0.0211, -0.0161,  0.1658, -0.0529, -0.2217, -0.1140,\n",
       "        -0.1421,  0.1598,  0.1998, -0.1373, -0.2634,  0.0841, -0.1845, -0.2315,\n",
       "         0.5753, -0.2910,  0.0156, -0.1166, -0.3847, -0.2292,  0.1899, -0.1901,\n",
       "         0.0703, -0.4712,  0.3033, -0.0522,  0.1161,  0.0117,  0.1159,  0.2651,\n",
       "        -0.1445, -0.4346,  0.1169, -0.1274,  0.0974,  0.2153, -0.1124,  0.2114,\n",
       "        -0.2374, -0.2107, -0.1769, -0.3973,  0.2089,  0.2671, -0.2134, -0.1007,\n",
       "         0.0385, -0.2862,  0.1820, -0.2301, -0.1392, -0.0437, -0.1497,  0.1462,\n",
       "         0.3066,  0.0827, -0.2717, -0.0966, -0.4364, -0.1844, -0.0753, -0.0022],\n",
       "       grad_fn=<AddBackward0>)"
      ]
     },
     "execution_count": 36,
     "metadata": {},
     "output_type": "execute_result"
    }
   ],
   "source": [
    "p_theta(x_t=data_sample, t=t)"
   ]
  },
  {
   "cell_type": "code",
   "execution_count": 37,
   "id": "2c1bbd01",
   "metadata": {},
   "outputs": [
    {
     "data": {
      "image/png": "[encoded data removed]",
      "text/plain": [
       "<Figure size 1440x576 with 10 Axes>"
      ]
     },
     "metadata": {
      "needs_background": "light"
     },
     "output_type": "display_data"
    }
   ],
   "source": [
    "fig, ax = plt.subplots(1, 10, figsize=(20, 8))\n",
    "ax = ax.flatten()\n",
    "\n",
    "x_i = torch.randn(data_sample.shape)\n",
    "for i, t in enumerate(range(1, T, T // 10)):\n",
    "    x_i = p_theta(x_t=x_i, t=t).detach()\n",
    "    \n",
    "    ax[i].imshow(x_i.reshape((8, 8)))\n",
    "    ax[i].axis('off')\n",
    "\n",
    "plt.tight_layout()"
   ]
  },
  {
   "cell_type": "markdown",
   "id": "7408dfde",
   "metadata": {},
   "source": [
    "### Loss Definition"
   ]
  },
  {
   "cell_type": "markdown",
   "id": "c374724c",
   "metadata": {},
   "source": [
    "Determining the mean $\\tilde\\mu_t$ of the diffusion process. **Eq. (7)**"
   ]
  },
  {
   "cell_type": "code",
   "execution_count": 38,
   "id": "6be3c632",
   "metadata": {},
   "outputs": [],
   "source": [
    "def mu_tilde(x_t: Tensor, x_0: Tensor, t: int) -> Tensor:\n",
    "    summand1 = (alpha_bar(t-1).sqrt() * beta(t)) / (1 - alpha_bar(t)) * x_0\n",
    "    summand2 = (alpha(t).sqrt() * (1 - alpha_bar(t-1))) / (1 - alpha_bar(t)) * x_t\n",
    "    return summand1 + summand2"
   ]
  },
  {
   "cell_type": "markdown",
   "id": "54e01927",
   "metadata": {},
   "source": [
    "**Equation above Eq. (9)**. Applying the reparameterization trick to sample from Eq. (4), i.e., $q_t(x_t\\mid x_0)$."
   ]
  },
  {
   "cell_type": "code",
   "execution_count": 39,
   "id": "a001ec72",
   "metadata": {},
   "outputs": [],
   "source": [
    "def x_t(x_0: Tensor, t: int) -> Tensor:\n",
    "    eps = torch.randn(x_0.shape)\n",
    "    return alpha_bar(t).sqrt() + (1 - alpha_bar(t)).sqrt() * eps"
   ]
  },
  {
   "cell_type": "code",
   "execution_count": 40,
   "id": "f5be05e1",
   "metadata": {},
   "outputs": [
    {
     "data": {
      "text/plain": [
       "tensor([ 1.1911, -0.0610,  1.1131,  1.3424,  1.3866,  0.7976,  0.1730,  0.6617,\n",
       "         1.4470,  1.0413,  1.3325,  0.4615,  0.7754,  0.9197,  0.9799, -0.0670,\n",
       "         0.3649,  0.5292, -0.8239,  1.8921,  0.3122,  0.3455,  1.2367,  1.3916,\n",
       "         0.3133, -0.3117,  0.8735,  0.8995, -0.7384,  0.4271,  0.6299,  1.5714,\n",
       "         0.6206, -0.1824,  0.5351,  1.1314, -0.3038,  0.9512,  0.7966,  0.6672,\n",
       "         0.0651,  1.1681,  1.9826,  0.2500,  0.6628,  1.8468,  0.8341,  0.0714,\n",
       "         1.6179,  1.0862,  0.7928,  0.5591,  1.2799,  1.8533, -0.5618,  1.3932,\n",
       "         0.8906,  1.5917,  1.0822,  0.4917,  0.3470,  0.9699,  1.2401, -0.1552])"
      ]
     },
     "execution_count": 40,
     "metadata": {},
     "output_type": "execute_result"
    }
   ],
   "source": [
    "mu_tilde(x_t(data_sample, 90), data_sample, 90)"
   ]
  },
  {
   "cell_type": "markdown",
   "id": "25093a96",
   "metadata": {},
   "source": [
    "Loss function $L_{t-1}$ from **Eq. (8)**.\n",
    "\n",
    "~~_Preferring the L2 norm over the Frobenius norm for computation efficiency._~~"
   ]
  },
  {
   "cell_type": "code",
   "execution_count": 41,
   "id": "2fa1806c",
   "metadata": {},
   "outputs": [],
   "source": [
    "def L(mu_tilde: Tensor, mu_theta: Tensor) -> Tensor:\n",
    "    # Potentially risky (see \"High Performance Python [Onomatopoeia], 2nd Edition\")\n",
    "    return 1 / (2 * sigma_squared(t)) * torch.linalg.norm(mu_tilde - mu_theta, ord=2) ** 2"
   ]
  },
  {
   "cell_type": "code",
   "execution_count": 42,
   "id": "42080ec6",
   "metadata": {},
   "outputs": [],
   "source": [
    "NUM_MC_SAMPLES_X_T = 5\n",
    "NUM_MC_SAMPLES_T = 10\n",
    "\n",
    "def train_loss(net: torch.nn.Module, x_0: Tensor) -> Tensor:\n",
    "    loss_sum = torch.tensor(0.)\n",
    "    \n",
    "    for t in torch.randint(1, T+1, size=(NUM_MC_SAMPLES_T,)):\n",
    "        \n",
    "        # Use multiple Monte Carlo samples to estimate the expected value over q in Eq. (8).\n",
    "        loss_t_minus_1 = torch.tensor(0.)\n",
    "        for _ in range(NUM_MC_SAMPLES_X_T):\n",
    "            x_t_sample = x_t(x_0, t)\n",
    "            mu_theta_val = net(img=x_t_sample, t=t)\n",
    "            mu_tilde_val = mu_tilde(x_t_sample, x_0, t)\n",
    "            l_tmp = L(mu_tilde_val, mu_theta_val)\n",
    "            loss_t_minus_1 += l_tmp\n",
    "        loss_sum += loss_t_minus_1 / NUM_MC_SAMPLES_X_T\n",
    "        \n",
    "    return loss_sum / NUM_MC_SAMPLES_T"
   ]
  },
  {
   "cell_type": "markdown",
   "id": "8fd09cc8",
   "metadata": {},
   "source": [
    "### Training"
   ]
  },
  {
   "cell_type": "code",
   "execution_count": 66,
   "id": "aa7eb2b7",
   "metadata": {},
   "outputs": [
    {
     "name": "stderr",
     "output_type": "stream",
     "text": [
      "100%|████████████████████████████████████████████████████████████████████████████████████████████████| 100/100 [03:37<00:00,  2.18s/it]\n"
     ]
    }
   ],
   "source": [
    "NUM_EPOCHS = 100\n",
    "LR = 1\n",
    "WARM_START_EPOCHS = 10\n",
    "\n",
    "torch.manual_seed(123)\n",
    "mu_theta = MuTheta(T=T)\n",
    "\n",
    "# Important update of Adam's beta_2 (might not work otherwise). ;-)\n",
    "opt = torch.optim.Adam(mu_theta.parameters(), lr=1e-12, betas=(0.9, 0.996))\n",
    "ll = []\n",
    "\n",
    "for epoch in tqdm(range(1, NUM_EPOCHS+1)):\n",
    "    opt.zero_grad()\n",
    "    \n",
    "    if epoch == WARM_START_EPOCHS:\n",
    "        opt.param_groups[0]['lr'] = LR\n",
    "    \n",
    "    loss = torch.tensor(0.)\n",
    "    for x_0 in data:\n",
    "        loss += train_loss(mu_theta, x_0)\n",
    "    loss /= len(data)\n",
    "    ll.append(loss.item())\n",
    "    \n",
    "    loss.backward()\n",
    "    opt.step()"
   ]
  },
  {
   "cell_type": "code",
   "execution_count": 67,
   "id": "9461fb43",
   "metadata": {},
   "outputs": [
    {
     "data": {
      "image/png": "[encoded data removed]",
      "text/plain": [
       "<Figure size 432x288 with 1 Axes>"
      ]
     },
     "metadata": {
      "needs_background": "light"
     },
     "output_type": "display_data"
    }
   ],
   "source": [
    "plt.plot(ll)\n",
    "plt.xlabel('epoch')\n",
    "plt.ylabel('loss');"
   ]
  },
  {
   "cell_type": "markdown",
   "id": "c62811a2",
   "metadata": {},
   "source": [
    "### Inference"
   ]
  },
  {
   "cell_type": "markdown",
   "id": "8f057490",
   "metadata": {},
   "source": [
    "**Algorithm 2 (Sampling)** (except we predict $\\mu$ not $\\epsilon$)"
   ]
  },
  {
   "cell_type": "code",
   "execution_count": 59,
   "id": "38acd937",
   "metadata": {},
   "outputs": [
    {
     "name": "stderr",
     "output_type": "stream",
     "text": [
      "100it [00:00, 12283.44it/s]\n"
     ]
    }
   ],
   "source": [
    "x_i = torch.randn(data_sample.shape)\n",
    "x_is = []\n",
    "for i, t in tqdm(enumerate(range(T, 0, -1))):\n",
    "    x_i = p_theta(x_t=x_i, t=t).detach()\n",
    "    \n",
    "    if t % 10 == 0:\n",
    "        x_is.append(x_i.reshape((8, 8)))"
   ]
  },
  {
   "cell_type": "code",
   "execution_count": 60,
   "id": "706f7387",
   "metadata": {},
   "outputs": [
    {
     "data": {
      "image/png": "[encoded data removed]",
      "text/plain": [
       "<Figure size 1440x576 with 10 Axes>"
      ]
     },
     "metadata": {
      "needs_background": "light"
     },
     "output_type": "display_data"
    }
   ],
   "source": [
    "fig, ax = plt.subplots(1, len(x_is), figsize=(20, 8))\n",
    "ax = ax.flatten()\n",
    "\n",
    "for i, x_i in enumerate(x_is):\n",
    "    ax[i].imshow(x_i)\n",
    "    ax[i].axis('off')\n",
    "\n",
    "plt.tight_layout()"
   ]
  },
  {
   "cell_type": "markdown",
   "id": "5efed87b",
   "metadata": {},
   "source": [
    "### Todos\n",
    "\n",
    "* Implement Algorithm 1 (and forget what we've done so far)\n",
    "* Hparam tuning is tricky because our loss can be made arbitrarily (?) low by changing the betas.\n",
    "* Data scaling"
   ]
  },
  {
   "cell_type": "code",
   "execution_count": null,
   "id": "68b49e43",
   "metadata": {},
   "outputs": [],
   "source": []
  }
 ],
 "metadata": {
  "kernelspec": {
   "display_name": "Python 3 (ipykernel)",
   "language": "python",
   "name": "python3"
  },
  "language_info": {
   "codemirror_mode": {
    "name": "ipython",
    "version": 3
   },
   "file_extension": ".py",
   "mimetype": "text/x-python",
   "name": "python",
   "nbconvert_exporter": "python",
   "pygments_lexer": "ipython3",
   "version": "3.9.4"
  }
 },
 "nbformat": 4,
 "nbformat_minor": 5
}
