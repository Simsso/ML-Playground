{
 "cells": [
  {
   "cell_type": "code",
   "execution_count": 1,
   "id": "ed48fb2e",
   "metadata": {},
   "outputs": [],
   "source": [
    "import numpy as np"
   ]
  },
  {
   "cell_type": "markdown",
   "id": "27178de9",
   "metadata": {},
   "source": [
    "$\\beta_1$"
   ]
  },
  {
   "cell_type": "code",
   "execution_count": 19,
   "id": "a5ac5b97",
   "metadata": {},
   "outputs": [
    {
     "data": {
      "text/plain": [
       "array([4.53999298e-05, 8.75888245e-05, 1.68982688e-04, 3.26013610e-04,\n",
       "       6.28969010e-04, 1.21345245e-03, 2.34108014e-03, 4.51658094e-03,\n",
       "       8.71371426e-03, 1.68111271e-02, 3.24332409e-02, 6.25725515e-02,\n",
       "       1.20719487e-01, 2.32900756e-01, 4.49328964e-01])"
      ]
     },
     "execution_count": 19,
     "metadata": {},
     "output_type": "execute_result"
    }
   ],
   "source": [
    "np.exp(np.linspace(-10, -.8,num=15))"
   ]
  },
  {
   "cell_type": "code",
   "execution_count": null,
   "id": "b93b9266",
   "metadata": {},
   "outputs": [],
   "source": []
  }
 ],
 "metadata": {
  "kernelspec": {
   "display_name": "Python 3 (ipykernel)",
   "language": "python",
   "name": "python3"
  },
  "language_info": {
   "codemirror_mode": {
    "name": "ipython",
    "version": 3
   },
   "file_extension": ".py",
   "mimetype": "text/x-python",
   "name": "python",
   "nbconvert_exporter": "python",
   "pygments_lexer": "ipython3",
   "version": "3.9.4"
  }
 },
 "nbformat": 4,
 "nbformat_minor": 5
}
