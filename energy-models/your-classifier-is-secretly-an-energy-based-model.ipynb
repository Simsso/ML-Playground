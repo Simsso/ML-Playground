{
 "cells": [
  {
   "cell_type": "markdown",
   "id": "fae91965",
   "metadata": {},
   "source": [
    "# Your Classifier is Secretly an Energy-based Model\n",
    "\n",
    "[Grathwohl et al. (2020)](https://openreview.net/forum?id=Hkxzx0NtDB)"
   ]
  },
  {
   "cell_type": "markdown",
   "id": "f01a17c5",
   "metadata": {},
   "source": [
    "Objective / initial thoughts:\n",
    "\n",
    " * Train an energy-based model to generate hand-written digits (not MNIST, but the smaller sklearn dataset).\n",
    " * The model should \"look like\" a classifier.\n",
    " * Unsupervised training: the model should output a low energy score for e.g. zeros. $p_\\theta(x)$ should be low.\n",
    " * Then we can sample zeros from the model using Langevin dynamics."
   ]
  },
  {
   "cell_type": "markdown",
   "id": "2b741074",
   "metadata": {},
   "source": [
    "**Eq. 1** from the paper: $\\displaystyle p_\\theta(x)=\\frac{\\exp(-E_\\theta(x))}{Z(\\theta)}$"
   ]
  },
  {
   "cell_type": "markdown",
   "id": "4c475394",
   "metadata": {},
   "source": [
    " * We want to maximize ${\\displaystyle\\log p_\\theta(\\mathcal{D})=\\log\\prod_{x\\in\\mathcal{D}}p_\\theta(x)}$, which is the probability of the data according to our model\n",
    " * We model the energy function $E$ in $\\displaystyle p_\\theta(x)=\\frac{\\exp(-E_\\theta(x))}{Z(\\theta)}$ using a network. It outputs only one scalar.\n",
    " * **Eq. 2** is the gradient of $p(x)$ wrt. the parameters.\n",
    "   * The right side can be computed \"as usual\" (forward pass and `(-net(x)).backward()` call – there is no loss).\n",
    "   * The left side requires (a) sampling an $x'$ from the current model and (b) computing `net(x_prime).backward()`. Difficult is (a)."
   ]
  },
  {
   "cell_type": "markdown",
   "id": "3b52f60b",
   "metadata": {},
   "source": [
    "**Eq. 3** is a possible implementation of (a). Sample an $x_0$ (set `requires_grad=True`) and "
   ]
  },
  {
   "cell_type": "code",
   "execution_count": 1,
   "id": "011e0a3c",
   "metadata": {},
   "outputs": [],
   "source": [
    "from collections import defaultdict\n",
    "import matplotlib.pyplot as plt\n",
    "import numpy as np\n",
    "import sklearn.datasets\n",
    "import torch\n",
    "from torch import Tensor\n",
    "from torchsummary import summary\n",
    "from tqdm import tqdm\n",
    "from typing import *"
   ]
  },
  {
   "cell_type": "code",
   "execution_count": 2,
   "id": "ae8781f3",
   "metadata": {},
   "outputs": [
    {
     "data": {
      "text/plain": [
       "(torch.Size([178, 64]), torch.float32)"
      ]
     },
     "execution_count": 2,
     "metadata": {},
     "output_type": "execute_result"
    }
   ],
   "source": [
    "dataset = sklearn.datasets.load_digits()\n",
    "data_np, labels_np = dataset['data'], dataset['target']\n",
    "data_np = data_np[labels_np <= 0]\n",
    "del labels_np\n",
    "\n",
    "data = torch.from_numpy(data_np.astype(np.float32))\n",
    "data = data / data.max()  # Normalize between [0, 1]\n",
    "IMG_DIM = data.shape[1]\n",
    "data.shape, data.dtype"
   ]
  },
  {
   "cell_type": "code",
   "execution_count": 3,
   "id": "a8b58cb2",
   "metadata": {},
   "outputs": [],
   "source": [
    "def imshow(x: Tensor) -> None:\n",
    "    plt.imshow(x.reshape((8, 8)));"
   ]
  },
  {
   "cell_type": "code",
   "execution_count": 4,
   "id": "d4c9f298",
   "metadata": {},
   "outputs": [
    {
     "data": {
      "image/png": "[encoded data removed]",
      "text/plain": [
       "<Figure size 432x288 with 1 Axes>"
      ]
     },
     "metadata": {
      "needs_background": "light"
     },
     "output_type": "display_data"
    }
   ],
   "source": [
    "imshow(data[0])"
   ]
  },
  {
   "cell_type": "markdown",
   "id": "11a4ca31",
   "metadata": {},
   "source": [
    "### Model Definition"
   ]
  },
  {
   "cell_type": "code",
   "execution_count": 55,
   "id": "c19465f0",
   "metadata": {},
   "outputs": [],
   "source": [
    "class Energy(torch.nn.Module):\n",
    "\n",
    "    def __init__(self):\n",
    "        super().__init__()\n",
    "        \n",
    "        activation_fn = torch.nn.SiLU()\n",
    "\n",
    "        self.convs = torch.nn.Sequential(\n",
    "            torch.nn.Conv2d(in_channels=1, out_channels=4, kernel_size=(3, 3)),\n",
    "            activation_fn,\n",
    "            torch.nn.Conv2d(in_channels=4, out_channels=8, kernel_size=(3, 3)),\n",
    "            activation_fn,\n",
    "            torch.nn.Conv2d(in_channels=8, out_channels=16, kernel_size=(4, 4)),\n",
    "            activation_fn,\n",
    "        )\n",
    "\n",
    "        self.linear = torch.nn.Linear(in_features=16, out_features=1)\n",
    "    \n",
    "    def forward(self, x: Tensor) -> Tensor:\n",
    "        x = x.view(-1, 1, 8, 8)\n",
    "        x = self.convs(x)\n",
    "        x = x.view(-1, x.shape[1])\n",
    "        return self.linear(x)\n",
    "\n",
    "\n",
    "class EnergyMLP(torch.nn.Module):\n",
    "\n",
    "    def __init__(self):\n",
    "        super().__init__()\n",
    "        \n",
    "        activation_fn = torch.nn.SiLU()\n",
    "\n",
    "        self.layers = torch.nn.Sequential(\n",
    "            torch.nn.Linear(64, 16),\n",
    "            activation_fn,\n",
    "            torch.nn.Linear(16, 8),\n",
    "            activation_fn,\n",
    "            torch.nn.Linear(8, 1),\n",
    "        )\n",
    "    \n",
    "    def forward(self, x: Tensor) -> Tensor:\n",
    "        return self.layers(x.view(-1, 64))"
   ]
  },
  {
   "cell_type": "code",
   "execution_count": 56,
   "id": "15fb57fb",
   "metadata": {},
   "outputs": [
    {
     "name": "stdout",
     "output_type": "stream",
     "text": [
      "----------------------------------------------------------------\n",
      "        Layer (type)               Output Shape         Param #\n",
      "================================================================\n",
      "            Conv2d-1              [-1, 4, 6, 6]              40\n",
      "              SiLU-2              [-1, 4, 6, 6]               0\n",
      "            Conv2d-3              [-1, 8, 4, 4]             296\n",
      "              SiLU-4              [-1, 8, 4, 4]               0\n",
      "            Conv2d-5             [-1, 16, 1, 1]           2,064\n",
      "              SiLU-6             [-1, 16, 1, 1]               0\n",
      "            Linear-7                    [-1, 1]              17\n",
      "================================================================\n",
      "Total params: 2,417\n",
      "Trainable params: 2,417\n",
      "Non-trainable params: 0\n",
      "----------------------------------------------------------------\n",
      "Input size (MB): 0.00\n",
      "Forward/backward pass size (MB): 0.00\n",
      "Params size (MB): 0.01\n",
      "Estimated Total Size (MB): 0.01\n",
      "----------------------------------------------------------------\n"
     ]
    }
   ],
   "source": [
    "summary(Energy(), data[0].shape)"
   ]
  },
  {
   "cell_type": "markdown",
   "id": "1e52c088",
   "metadata": {},
   "source": [
    "### Inference\n",
    "\n",
    "**Eq. 3**. This is also needed for $x'$ in the training loop in Eq. 2."
   ]
  },
  {
   "cell_type": "code",
   "execution_count": 57,
   "id": "95b3ddf2",
   "metadata": {},
   "outputs": [],
   "source": [
    "ALPHA_START = 1e-1\n",
    "# This is tricky because we don't want to decay during the Langevin dynamics phase.\n",
    "ALPHA_END = 1e-3\n",
    "\n",
    "WARMUP_STEPS = 100\n",
    "LANGEVIN_SKIPS = 100"
   ]
  },
  {
   "cell_type": "code",
   "execution_count": 58,
   "id": "6dae63b8",
   "metadata": {},
   "outputs": [],
   "source": [
    "def generate(\n",
    "    energy_fn: Callable[[Tensor], Tensor], num_samples: int, langevin_skips=LANGEVIN_SKIPS\n",
    ") -> Iterable[np.ndarray]:\n",
    "    num_langevin_steps = num_samples * langevin_skips\n",
    "    num_total_steps = num_langevin_steps + WARMUP_STEPS\n",
    "    \n",
    "    x_0 = torch.rand(size=(8, 8))  # same range as the data distribution, [0, 1]\n",
    "    x_0.requires_grad = True\n",
    "    alpha_scheduled = np.linspace(ALPHA_START, ALPHA_END, num=num_total_steps)\n",
    "\n",
    "    x_i = x_0\n",
    "    for steps in range(num_total_steps):\n",
    "        eps = torch.randn(x_0.shape) * alpha_scheduled[steps]\n",
    "        d_energy_dx = torch.autograd.grad(outputs=energy_fn(x_i), inputs=x_i)[0]\n",
    "        x_i = x_i - alpha_scheduled[steps] / 2 * d_energy_dx + eps\n",
    "        \n",
    "        in_langevin_phase = steps >= WARMUP_STEPS\n",
    "        if in_langevin_phase:\n",
    "            steps_in_langevin_phase = steps - WARMUP_STEPS\n",
    "            if steps_in_langevin_phase % langevin_skips == 0:\n",
    "                yield x_i.detach()"
   ]
  },
  {
   "cell_type": "code",
   "execution_count": 59,
   "id": "56c7ccb9",
   "metadata": {},
   "outputs": [
    {
     "data": {
      "image/png": "[encoded data removed]",
      "text/plain": [
       "<Figure size 432x288 with 1 Axes>"
      ]
     },
     "metadata": {
      "needs_background": "light"
     },
     "output_type": "display_data"
    }
   ],
   "source": [
    "energy = Energy()\n",
    "for generated_img in generate(energy, num_samples=1):\n",
    "    plt.figure()\n",
    "    imshow(generated_img.numpy());"
   ]
  },
  {
   "cell_type": "markdown",
   "id": "a8b44b31",
   "metadata": {},
   "source": [
    "### Training Loop"
   ]
  },
  {
   "cell_type": "code",
   "execution_count": 60,
   "id": "f930c6d4",
   "metadata": {},
   "outputs": [],
   "source": [
    "NUM_STEPS = 100\n",
    "LEARNING_RATE = np.linspace(1e-1, 1e-3, NUM_STEPS)\n",
    "BATCH_SIZE = 40\n",
    "MC_SAMPLES = 10\n",
    "SAMPLER_RESTARTS = 40"
   ]
  },
  {
   "cell_type": "code",
   "execution_count": 65,
   "id": "9bf3c555",
   "metadata": {},
   "outputs": [
    {
     "name": "stderr",
     "output_type": "stream",
     "text": [
      "100%|██████████████████████████████████████████████████████████████| 100/100 [00:27<00:00,  3.62it/s]\n"
     ]
    }
   ],
   "source": [
    "energy = Energy()\n",
    "opt = torch.optim.Adam(params=energy.parameters(), lr=LEARNING_RATE[0])\n",
    "log = defaultdict(list)\n",
    "\n",
    "for steps in tqdm(range(NUM_STEPS)):\n",
    "    opt.param_groups[0]['lr'] = LEARNING_RATE[steps]\n",
    "    opt.zero_grad()\n",
    "    \n",
    "    # left side of Eq. 1 (MCMC)\n",
    "    x_primes = torch.stack([x for x in generate(energy, MC_SAMPLES) for _ in range(SAMPLER_RESTARTS)])\n",
    "    logits_mcmc = torch.mean(energy(x_primes))\n",
    "    log['logits_mcmc'].append(logits_mcmc.detach().numpy())\n",
    "    \n",
    "    batch = data[np.random.randint(0, len(data), size=BATCH_SIZE)]\n",
    "    # right side of Eq. 2 (\"normal\" model training)\n",
    "    logits_data = torch.mean(energy(batch))\n",
    "    log['logits_data'].append(logits_data.detach().numpy())\n",
    "    \n",
    "    log_px = (logits_mcmc - logits_data)  # possibly an inaccurate name\n",
    "    \n",
    "    (-log_px).backward()\n",
    "    \n",
    "    opt.step()"
   ]
  },
  {
   "cell_type": "code",
   "execution_count": 66,
   "id": "2fa637c0",
   "metadata": {},
   "outputs": [
    {
     "data": {
      "image/png": "[encoded data removed]",
      "text/plain": [
       "<Figure size 432x288 with 1 Axes>"
      ]
     },
     "metadata": {
      "needs_background": "light"
     },
     "output_type": "display_data"
    }
   ],
   "source": [
    "plt.plot(log['logits_data'], label='logits_data')\n",
    "plt.plot(log['logits_mcmc'], label='logits_mcmc')\n",
    "plt.xlabel('step')\n",
    "plt.ylabel('logits')\n",
    "plt.legend();"
   ]
  },
  {
   "cell_type": "code",
   "execution_count": 67,
   "id": "26cac522",
   "metadata": {
    "scrolled": false
   },
   "outputs": [
    {
     "data": {
      "image/png": "[encoded data removed]",
      "text/plain": [
       "<Figure size 1440x576 with 10 Axes>"
      ]
     },
     "metadata": {
      "needs_background": "light"
     },
     "output_type": "display_data"
    }
   ],
   "source": [
    "samples = list(generate(energy, num_samples=10, langevin_skips=1500))\n",
    "fig, ax = plt.subplots(1, len(samples), figsize=(20, 8))\n",
    "ax = ax.flatten()\n",
    "\n",
    "for i, x_sample in enumerate(samples):\n",
    "    ax[i].imshow(x_sample.numpy())\n",
    "    ax[i].axis('off')\n",
    "\n",
    "plt.tight_layout()"
   ]
  }
 ],
 "metadata": {
  "kernelspec": {
   "display_name": "Python 3 (ipykernel)",
   "language": "python",
   "name": "python3"
  },
  "language_info": {
   "codemirror_mode": {
    "name": "ipython",
    "version": 3
   },
   "file_extension": ".py",
   "mimetype": "text/x-python",
   "name": "python",
   "nbconvert_exporter": "python",
   "pygments_lexer": "ipython3",
   "version": "3.9.4"
  }
 },
 "nbformat": 4,
 "nbformat_minor": 5
}
