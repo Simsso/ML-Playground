{
 "cells": [
  {
   "cell_type": "markdown",
   "metadata": {},
   "source": [
    "# GP Classifier"
   ]
  },
  {
   "cell_type": "code",
   "execution_count": 1,
   "metadata": {},
   "outputs": [],
   "source": [
    "from functools import partial\n",
    "import matplotlib.pyplot as plt\n",
    "import numpy as np\n",
    "from typing import *"
   ]
  },
  {
   "cell_type": "markdown",
   "metadata": {},
   "source": [
    "## Inputs \n",
    "\n",
    "Input to Algorithm 3.1\n",
    "\n",
    "### Train Data"
   ]
  },
  {
   "cell_type": "code",
   "execution_count": 2,
   "metadata": {},
   "outputs": [],
   "source": [
    "num_samples = 20\n",
    "dim = 2\n",
    "\n",
    "X = np.random.uniform(low=-2, high=2, size=(num_samples,dim))\n",
    "\n",
    "# random classes in {-1, +1}\n",
    "# y = np.random.randint(low=0, high=2, size=(num_samples,)) * 2 - 1\n",
    "\n",
    "# some dependence between X and y\n",
    "y = np.logical_or(X[:, 0] > .5, X[:, 1] > 1).astype(np.int32) * 2 - 1"
   ]
  },
  {
   "cell_type": "code",
   "execution_count": 3,
   "metadata": {},
   "outputs": [
    {
     "data": {
      "text/plain": [
       "(array([[-0.38077228,  0.92208212],\n",
       "        [-0.84656416,  0.19081165],\n",
       "        [-0.25058657,  1.00564805],\n",
       "        [ 1.93094542, -0.44024182],\n",
       "        [ 1.05682622,  1.86683679],\n",
       "        [-0.2389167 ,  0.86866776],\n",
       "        [-0.3677289 ,  0.23643138],\n",
       "        [ 0.55936696,  0.70165352],\n",
       "        [ 0.50956195,  1.21448093],\n",
       "        [ 1.06004475, -1.17508539],\n",
       "        [ 0.29713977, -1.6804509 ],\n",
       "        [-0.70277781,  1.13216453],\n",
       "        [-1.4380746 , -1.49197532],\n",
       "        [-0.19640104, -1.0491104 ],\n",
       "        [-0.99887056,  0.92016536],\n",
       "        [-0.32282379,  0.37537038],\n",
       "        [ 0.52600455,  0.36389268],\n",
       "        [ 0.01964815, -1.2496305 ],\n",
       "        [ 1.45842263, -0.77458526],\n",
       "        [ 0.32270997, -0.05232213]]),\n",
       " array([-1, -1,  1,  1,  1, -1, -1,  1,  1,  1, -1,  1, -1, -1, -1, -1,  1,\n",
       "        -1,  1, -1], dtype=int32))"
      ]
     },
     "execution_count": 3,
     "metadata": {},
     "output_type": "execute_result"
    }
   ],
   "source": [
    "X, y"
   ]
  },
  {
   "cell_type": "code",
   "execution_count": 4,
   "metadata": {},
   "outputs": [
    {
     "data": {
      "text/plain": [
       "<matplotlib.collections.PathCollection at 0x110b71400>"
      ]
     },
     "execution_count": 4,
     "metadata": {},
     "output_type": "execute_result"
    },
    {
     "data": {
      "image/png": "[encoded data removed]",
      "text/plain": [
       "<Figure size 432x288 with 1 Axes>"
      ]
     },
     "metadata": {
      "needs_background": "light"
     },
     "output_type": "display_data"
    }
   ],
   "source": [
    "plt.scatter(*X.T, c=y)"
   ]
  },
  {
   "cell_type": "code",
   "execution_count": 5,
   "metadata": {
    "scrolled": true
   },
   "outputs": [
    {
     "data": {
      "text/plain": [
       "array([[-3. , -3. ],\n",
       "       [-3. , -2.5],\n",
       "       [-3. , -2. ],\n",
       "       [-3. , -1.5],\n",
       "       [-3. , -1. ],\n",
       "       [-3. , -0.5],\n",
       "       [-3. ,  0. ],\n",
       "       [-3. ,  0.5],\n",
       "       [-3. ,  1. ],\n",
       "       [-3. ,  1.5],\n",
       "       [-3. ,  2. ],\n",
       "       [-3. ,  2.5],\n",
       "       [-3. ,  3. ],\n",
       "       [-2.5, -3. ],\n",
       "       [-2.5, -2.5],\n",
       "       [-2.5, -2. ],\n",
       "       [-2.5, -1.5],\n",
       "       [-2.5, -1. ],\n",
       "       [-2.5, -0.5],\n",
       "       [-2.5,  0. ],\n",
       "       [-2.5,  0.5],\n",
       "       [-2.5,  1. ],\n",
       "       [-2.5,  1.5],\n",
       "       [-2.5,  2. ],\n",
       "       [-2.5,  2.5],\n",
       "       [-2.5,  3. ],\n",
       "       [-2. , -3. ],\n",
       "       [-2. , -2.5],\n",
       "       [-2. , -2. ],\n",
       "       [-2. , -1.5],\n",
       "       [-2. , -1. ],\n",
       "       [-2. , -0.5],\n",
       "       [-2. ,  0. ],\n",
       "       [-2. ,  0.5],\n",
       "       [-2. ,  1. ],\n",
       "       [-2. ,  1.5],\n",
       "       [-2. ,  2. ],\n",
       "       [-2. ,  2.5],\n",
       "       [-2. ,  3. ],\n",
       "       [-1.5, -3. ],\n",
       "       [-1.5, -2.5],\n",
       "       [-1.5, -2. ],\n",
       "       [-1.5, -1.5],\n",
       "       [-1.5, -1. ],\n",
       "       [-1.5, -0.5],\n",
       "       [-1.5,  0. ],\n",
       "       [-1.5,  0.5],\n",
       "       [-1.5,  1. ],\n",
       "       [-1.5,  1.5],\n",
       "       [-1.5,  2. ],\n",
       "       [-1.5,  2.5],\n",
       "       [-1.5,  3. ],\n",
       "       [-1. , -3. ],\n",
       "       [-1. , -2.5],\n",
       "       [-1. , -2. ],\n",
       "       [-1. , -1.5],\n",
       "       [-1. , -1. ],\n",
       "       [-1. , -0.5],\n",
       "       [-1. ,  0. ],\n",
       "       [-1. ,  0.5],\n",
       "       [-1. ,  1. ],\n",
       "       [-1. ,  1.5],\n",
       "       [-1. ,  2. ],\n",
       "       [-1. ,  2.5],\n",
       "       [-1. ,  3. ],\n",
       "       [-0.5, -3. ],\n",
       "       [-0.5, -2.5],\n",
       "       [-0.5, -2. ],\n",
       "       [-0.5, -1.5],\n",
       "       [-0.5, -1. ],\n",
       "       [-0.5, -0.5],\n",
       "       [-0.5,  0. ],\n",
       "       [-0.5,  0.5],\n",
       "       [-0.5,  1. ],\n",
       "       [-0.5,  1.5],\n",
       "       [-0.5,  2. ],\n",
       "       [-0.5,  2.5],\n",
       "       [-0.5,  3. ],\n",
       "       [ 0. , -3. ],\n",
       "       [ 0. , -2.5],\n",
       "       [ 0. , -2. ],\n",
       "       [ 0. , -1.5],\n",
       "       [ 0. , -1. ],\n",
       "       [ 0. , -0.5],\n",
       "       [ 0. ,  0. ],\n",
       "       [ 0. ,  0.5],\n",
       "       [ 0. ,  1. ],\n",
       "       [ 0. ,  1.5],\n",
       "       [ 0. ,  2. ],\n",
       "       [ 0. ,  2.5],\n",
       "       [ 0. ,  3. ],\n",
       "       [ 0.5, -3. ],\n",
       "       [ 0.5, -2.5],\n",
       "       [ 0.5, -2. ],\n",
       "       [ 0.5, -1.5],\n",
       "       [ 0.5, -1. ],\n",
       "       [ 0.5, -0.5],\n",
       "       [ 0.5,  0. ],\n",
       "       [ 0.5,  0.5],\n",
       "       [ 0.5,  1. ],\n",
       "       [ 0.5,  1.5],\n",
       "       [ 0.5,  2. ],\n",
       "       [ 0.5,  2.5],\n",
       "       [ 0.5,  3. ],\n",
       "       [ 1. , -3. ],\n",
       "       [ 1. , -2.5],\n",
       "       [ 1. , -2. ],\n",
       "       [ 1. , -1.5],\n",
       "       [ 1. , -1. ],\n",
       "       [ 1. , -0.5],\n",
       "       [ 1. ,  0. ],\n",
       "       [ 1. ,  0.5],\n",
       "       [ 1. ,  1. ],\n",
       "       [ 1. ,  1.5],\n",
       "       [ 1. ,  2. ],\n",
       "       [ 1. ,  2.5],\n",
       "       [ 1. ,  3. ],\n",
       "       [ 1.5, -3. ],\n",
       "       [ 1.5, -2.5],\n",
       "       [ 1.5, -2. ],\n",
       "       [ 1.5, -1.5],\n",
       "       [ 1.5, -1. ],\n",
       "       [ 1.5, -0.5],\n",
       "       [ 1.5,  0. ],\n",
       "       [ 1.5,  0.5],\n",
       "       [ 1.5,  1. ],\n",
       "       [ 1.5,  1.5],\n",
       "       [ 1.5,  2. ],\n",
       "       [ 1.5,  2.5],\n",
       "       [ 1.5,  3. ],\n",
       "       [ 2. , -3. ],\n",
       "       [ 2. , -2.5],\n",
       "       [ 2. , -2. ],\n",
       "       [ 2. , -1.5],\n",
       "       [ 2. , -1. ],\n",
       "       [ 2. , -0.5],\n",
       "       [ 2. ,  0. ],\n",
       "       [ 2. ,  0.5],\n",
       "       [ 2. ,  1. ],\n",
       "       [ 2. ,  1.5],\n",
       "       [ 2. ,  2. ],\n",
       "       [ 2. ,  2.5],\n",
       "       [ 2. ,  3. ],\n",
       "       [ 2.5, -3. ],\n",
       "       [ 2.5, -2.5],\n",
       "       [ 2.5, -2. ],\n",
       "       [ 2.5, -1.5],\n",
       "       [ 2.5, -1. ],\n",
       "       [ 2.5, -0.5],\n",
       "       [ 2.5,  0. ],\n",
       "       [ 2.5,  0.5],\n",
       "       [ 2.5,  1. ],\n",
       "       [ 2.5,  1.5],\n",
       "       [ 2.5,  2. ],\n",
       "       [ 2.5,  2.5],\n",
       "       [ 2.5,  3. ],\n",
       "       [ 3. , -3. ],\n",
       "       [ 3. , -2.5],\n",
       "       [ 3. , -2. ],\n",
       "       [ 3. , -1.5],\n",
       "       [ 3. , -1. ],\n",
       "       [ 3. , -0.5],\n",
       "       [ 3. ,  0. ],\n",
       "       [ 3. ,  0.5],\n",
       "       [ 3. ,  1. ],\n",
       "       [ 3. ,  1.5],\n",
       "       [ 3. ,  2. ],\n",
       "       [ 3. ,  2.5],\n",
       "       [ 3. ,  3. ]])"
      ]
     },
     "execution_count": 5,
     "metadata": {},
     "output_type": "execute_result"
    }
   ],
   "source": [
    "X_test = np.mgrid[-3:3.01:.5, -3:3.01:.5].reshape(2,-1).T\n",
    "# np.linspace(start=-3, stop=3, num=100)\n",
    "X_test"
   ]
  },
  {
   "cell_type": "markdown",
   "metadata": {},
   "source": [
    "### Kernel \"Squared-Exponential Covariance Function\"\n",
    "\n",
    "~~Eq. (2.16) from the book~~ Eq. 2.31 from the book (and for multi-dimensional see [here](https://stats.stackexchange.com/a/362537/249793))."
   ]
  },
  {
   "cell_type": "code",
   "execution_count": 6,
   "metadata": {},
   "outputs": [],
   "source": [
    "def se_y_onedim(x_p: float, x_q: float, l: float, sigma_f: float) -> float:\n",
    "    return sigma_f ** 2 * np.exp(-((x_p - x_q) ** 2) / (2.0 * l ** 2))\n",
    "\n",
    "def se_y(x_p: np.ndarray, x_q: np.ndarray, l: float, sigma_f: float) -> float:\n",
    "    return sigma_f ** 2 * np.exp(-.5 * np.sum(((x_p - x_q) / l) ** 2))\n",
    "\n",
    "def se(x_p: np.ndarray, x_q: np.ndarray, l: float, sigma_f: float) -> float:\n",
    "    f = partial(se_y, l=l, sigma_f=sigma_f)\n",
    "    \n",
    "    return np.array(\n",
    "        [\n",
    "            [f(x_p[i], x_q[j]) for j in range(x_q.shape[0])] \n",
    "            for i in range(x_p.shape[0])\n",
    "        ]\n",
    "    )"
   ]
  },
  {
   "cell_type": "markdown",
   "metadata": {},
   "source": [
    "Kernel was determined with a comprehensive hyperparameter search comprising the configurations\n",
    "\n",
    "```\n",
    "# kernel = partial(se, l=2, sigma_f=1)\n",
    "# kernel = partial(se, l=.01, sigma_f=0.01)\n",
    "# kernel = partial(se, l=2, sigma_f=.01)\n",
    "# kernel = partial(se, l=0.01, sigma_f=1)\n",
    "```"
   ]
  },
  {
   "cell_type": "code",
   "execution_count": 7,
   "metadata": {},
   "outputs": [],
   "source": [
    "kernel = partial(se, l=1, sigma_f=1)"
   ]
  },
  {
   "cell_type": "markdown",
   "metadata": {},
   "source": [
    "### Covariance matrix\n",
    "\n",
    "See also [page 105 here](https://www.microsoft.com/en-us/research/uploads/prod/2006/01/Bishop-Pattern-Recognition-and-Machine-Learning-2006.pdf)."
   ]
  },
  {
   "cell_type": "code",
   "execution_count": 8,
   "metadata": {},
   "outputs": [],
   "source": [
    "noise_scale = 0\n",
    "\n",
    "# K in the book; input to Algorithm 3.1\n",
    "kXX = kernel(X, X)  # sigma_bb\n",
    "\n",
    "# K* in the book\n",
    "kxX = kernel(X_test, X)  # sigma_ab and sigma_ba\n",
    "\n",
    "kxx = kernel(X_test, X_test)  # sigma_aa\n",
    "\n",
    "m_pre = np.linalg.inv(kXX + noise_scale**2 * np.eye(X.shape[0]))\n",
    "\n",
    "mpost = kxX @ m_pre @ y\n",
    "vpost = kxx - kxX @ m_pre @ kxX.T\n",
    "\n",
    "spost = np.random.multivariate_normal(mpost.flatten(), vpost, size=10).T"
   ]
  },
  {
   "cell_type": "code",
   "execution_count": 9,
   "metadata": {},
   "outputs": [
    {
     "data": {
      "text/plain": [
       "(169,)"
      ]
     },
     "execution_count": 9,
     "metadata": {},
     "output_type": "execute_result"
    }
   ],
   "source": [
    "mpost.shape"
   ]
  },
  {
   "cell_type": "code",
   "execution_count": 10,
   "metadata": {},
   "outputs": [
    {
     "data": {
      "image/png": "[encoded data removed]",
      "text/plain": [
       "<Figure size 432x288 with 2 Axes>"
      ]
     },
     "metadata": {
      "needs_background": "light"
     },
     "output_type": "display_data"
    }
   ],
   "source": [
    "plt.imshow(kXX)\n",
    "plt.colorbar()\n",
    "plt.show()"
   ]
  },
  {
   "cell_type": "markdown",
   "metadata": {},
   "source": [
    "### Likelihood function\n",
    "\n",
    "$p(\\boldsymbol{y}\\mid\\boldsymbol{f})$\n",
    "\n",
    "(Equation 3.5; using logit sigmoid function here)  \n",
    "$\\log p(y_i\\mid f_i) = \\log\\sigma(y_i\\times f_i) = -\\log(1 + \\exp(-y_i f_i))$\n",
    "\n",
    "$p(y\\mid f)=\\sigma(f_iy_i)$\n",
    "\n",
    "$\\nabla\\sigma(z)=\\sigma(z)\\times(1-\\sigma(z))$  \n",
    "$\\nabla\\nabla\\sigma(z)=\\sigma(z)\\times(1-\\sigma(z))\\times(1-\\sigma(z))+\\sigma(z)\\times-\\sigma(z)\\times(1-\\sigma(z))$ substitute $\\pi=\\sigma(z)$\n",
    "\n",
    "(Equation 3.15)  \n",
    "$\\nabla\\nabla\\sigma(z)=\\pi\\times(1-\\pi)\\times(1-\\pi)+\\pi\\times-\\pi\\times(1-\\pi)=\\pi\\times(1-\\pi)$\n",
    "\n",
    "Second derivative $\\nabla\\nabla\\log p(y_i\\mid f_i) = -\\pi_i\\times(1-\\pi_i)$ with $\\pi_i=p(y_i=1\\mid f_i)$"
   ]
  },
  {
   "cell_type": "markdown",
   "metadata": {},
   "source": [
    "$p(y\\mid f)=\\Pi_i(p(y_i\\mid f_i))=\\Pi_i(\\sigma(y_i\\times f_i))$\n",
    "\n",
    "$\\log$ for sum"
   ]
  },
  {
   "cell_type": "code",
   "execution_count": 11,
   "metadata": {},
   "outputs": [],
   "source": [
    "def sigmoid(x: np.ndarray) -> np.ndarray:\n",
    "    return 1 / (1 + np.exp(-x))\n",
    "\n",
    "# for logistic regression we'd have the following\n",
    "# but we don't have weights here\n",
    "# def f_fn(x: np.ndarray, w: np.ndarray) -> np.ndarray:\n",
    "#     return sigmoid(np.dot(x, w))"
   ]
  },
  {
   "cell_type": "code",
   "execution_count": 12,
   "metadata": {},
   "outputs": [],
   "source": [
    "def log_likelihood(f: np.ndarray, y: np.ndarray):\n",
    "    return np.sum(list(sigmoid(f_i * y_i) for f_i, y_i in zip(f, y)))"
   ]
  },
  {
   "cell_type": "code",
   "execution_count": 13,
   "metadata": {},
   "outputs": [
    {
     "data": {
      "text/plain": [
       "2.8627654701470884"
      ]
     },
     "execution_count": 13,
     "metadata": {},
     "output_type": "execute_result"
    }
   ],
   "source": [
    "log_likelihood(np.array([-2, 10, -4]), np.array([-1, 1, -1]))"
   ]
  },
  {
   "cell_type": "markdown",
   "metadata": {},
   "source": [
    "---\n",
    "\n",
    "At this point all inputs to Algorithm 3.1 are available. Below are some loose notes."
   ]
  },
  {
   "cell_type": "code",
   "execution_count": 14,
   "metadata": {},
   "outputs": [
    {
     "data": {
      "text/plain": [
       "(array([[1., 0.],\n",
       "        [0., 1.]]),\n",
       " array([0., 0.]))"
      ]
     },
     "execution_count": 14,
     "metadata": {},
     "output_type": "execute_result"
    }
   ],
   "source": [
    "sigma = np.eye(dim)\n",
    "mean = np.zeros(dim)\n",
    "sigma, mean"
   ]
  },
  {
   "cell_type": "code",
   "execution_count": 15,
   "metadata": {},
   "outputs": [
    {
     "data": {
      "text/plain": [
       "array([-0.69945598, -0.06696755])"
      ]
     },
     "execution_count": 15,
     "metadata": {},
     "output_type": "execute_result"
    }
   ],
   "source": [
    "w = np.random.multivariate_normal(mean=mean, cov=sigma)\n",
    "w"
   ]
  },
  {
   "cell_type": "code",
   "execution_count": 16,
   "metadata": {},
   "outputs": [
    {
     "data": {
      "text/plain": [
       "array([[-0.38077228,  0.92208212],\n",
       "       [-0.84656416,  0.19081165],\n",
       "       [-0.25058657,  1.00564805],\n",
       "       [ 1.93094542, -0.44024182],\n",
       "       [ 1.05682622,  1.86683679],\n",
       "       [-0.2389167 ,  0.86866776],\n",
       "       [-0.3677289 ,  0.23643138],\n",
       "       [ 0.55936696,  0.70165352],\n",
       "       [ 0.50956195,  1.21448093],\n",
       "       [ 1.06004475, -1.17508539],\n",
       "       [ 0.29713977, -1.6804509 ],\n",
       "       [-0.70277781,  1.13216453],\n",
       "       [-1.4380746 , -1.49197532],\n",
       "       [-0.19640104, -1.0491104 ],\n",
       "       [-0.99887056,  0.92016536],\n",
       "       [-0.32282379,  0.37537038],\n",
       "       [ 0.52600455,  0.36389268],\n",
       "       [ 0.01964815, -1.2496305 ],\n",
       "       [ 1.45842263, -0.77458526],\n",
       "       [ 0.32270997, -0.05232213]])"
      ]
     },
     "execution_count": 16,
     "metadata": {},
     "output_type": "execute_result"
    }
   ],
   "source": [
    "X"
   ]
  },
  {
   "cell_type": "markdown",
   "metadata": {},
   "source": [
    "**General note:**\n",
    "\n",
    "* $Ax = b$ --> $O(n^2 + n)$ (?) but numerically stable\n",
    "* $x = A^{-1}b$ --> $O(n^3)$ numerically instable"
   ]
  },
  {
   "cell_type": "markdown",
   "metadata": {},
   "source": [
    "_On line 7 in Algorithm 3.1:_\n",
    "\n",
    "Instead of solving $Ax=b$ we run $L:=\\operatorname{cholesky}(A)$ and solve for $LL^Tx=b$\n",
    "\n",
    "---\n",
    "\n",
    "$L\\underbrace{\\left(L^Tx\\right)}_z=b$\n",
    "\n",
    "$L$ is a lower-triangular matrix.\n",
    "\n",
    "$z:=L^Tx$\n",
    "\n",
    "Solve $Lz=b$, once we got $z$ we solve $L^Tx=z$."
   ]
  },
  {
   "cell_type": "markdown",
   "metadata": {},
   "source": [
    "Example\n",
    "\n",
    "```\n",
    "A = [[1, 2], [3, 4]]\n",
    "LL^T := A\n",
    "\n",
    "A[1][1] = L[1][1]*L[1][1] + L[1][1]*L[1][2] + ...\n",
    "# gives n^2 equations (one for each entry in the L matrix)\n",
    "```"
   ]
  },
  {
   "cell_type": "markdown",
   "metadata": {},
   "source": [
    "### Prediction"
   ]
  },
  {
   "cell_type": "code",
   "execution_count": 17,
   "metadata": {},
   "outputs": [],
   "source": [
    "from scipy.linalg import cho_solve, cho_factor"
   ]
  },
  {
   "cell_type": "code",
   "execution_count": 18,
   "metadata": {},
   "outputs": [],
   "source": [
    "G = kXX + noise_scale ** 2 * np.eye(X.shape[0])"
   ]
  },
  {
   "cell_type": "code",
   "execution_count": 19,
   "metadata": {},
   "outputs": [],
   "source": [
    "# with Cholesky\n",
    "L = cho_factor(G)\n",
    "A = cho_solve(L, kxX.T).T"
   ]
  },
  {
   "cell_type": "code",
   "execution_count": 20,
   "metadata": {},
   "outputs": [],
   "source": [
    "# alternative (w/o Cholesky)\n",
    "# kxX.shape = [num_test X_test.shape[0], num_train X.shape[0]]\n",
    "# AG = kxX\n",
    "# G^TA^T = kxX^t\n",
    "# cholesky(G^T) = L^TL\n",
    "# L^T @ (L @ A^T) = kxX^T\n",
    "# L^T @ z = kxX^T  (solve this first)  # corresponds to 'A = cho_solve(L, kxX.T).T'\n",
    "# L @ A&^T = z\n",
    "\n",
    "A = kxX @ np.linalg.inv(G)"
   ]
  },
  {
   "cell_type": "code",
   "execution_count": 21,
   "metadata": {},
   "outputs": [],
   "source": [
    "# mpost = mean_function(X_test) + A @ (Y - mean_function(X))\n",
    "# vpost = kernel(X_test, X_test) - A @ kxX.T\n",
    "\n",
    "# mpost = mx + A @ (Y - mX)\n",
    "# vpost = kxx - A @ kxX.T"
   ]
  },
  {
   "cell_type": "markdown",
   "metadata": {},
   "source": [
    "We want to maximize $p(f\\mid X, y)$ (from Eq. 3.9). It is proportional to\n",
    "\n",
    "$$\\displaystyle p(y\\mid f)p(f\\mid X)\\,.$$\n",
    "\n",
    "\n",
    "We can take the log of the function we want to maximize:\n",
    "\n",
    "$\\max_f\\quad\\ln \\underbrace{p(y\\mid f)}_{\\text{likelihood}}+\\ln \\underbrace{p(f\\mid X)}_\\text{prior}$\n",
    "\n",
    "The **likelihood** factorizes: $\\Pi_i p(y_i\\mid f_i)=\\Pi_i \\sigma(y_i f_i)$; $f$ are the _parameters_ (here function values) over which we optimize.\n",
    "\n",
    "The log of the likelihood is a sum: $\\ln\\Pi_i \\sigma(y_i f_i)=\\sum_i \\ln\\sigma(y_i f_i)$. This is a concrete function, the derivative and second derivative are known (see Eq. 3.15), so we can optimize it.\n",
    "\n",
    "The **prior** $p(f\\mid X)$ is a normal distribution with mean 0 and variance $K$ (`kXX`) (see Eq. 3.12 on the right-hand side)."
   ]
  },
  {
   "cell_type": "markdown",
   "metadata": {},
   "source": [
    "## Algorithm 3.1 / Equation 3.9"
   ]
  },
  {
   "cell_type": "code",
   "execution_count": 22,
   "metadata": {},
   "outputs": [],
   "source": [
    "arr = np.ndarray"
   ]
  },
  {
   "cell_type": "code",
   "execution_count": 23,
   "metadata": {},
   "outputs": [],
   "source": [
    "sqrt_elem = np.vectorize(np.sqrt)\n",
    "sigmoid_elem = np.vectorize(sigmoid)"
   ]
  },
  {
   "cell_type": "code",
   "execution_count": 24,
   "metadata": {},
   "outputs": [],
   "source": [
    "def algorithm_31(K: arr, y: arr, log_likelihood_fn: Callable[[arr, arr], arr], eps: float) -> Tuple[arr, arr]:\n",
    "    n = y.shape[0]\n",
    "    f = np.zeros_like(y)\n",
    "    converged = False\n",
    "    prev_obj = 0\n",
    "    \n",
    "    while not converged:\n",
    "        W = -np.diag([-sigmoid(f_i * y_i) * (1 - sigmoid(f_i * y_i)) for f_i, y_i in zip(f, y)])  # line 4\n",
    "        G = np.eye(n) + sqrt_elem(W) @ K @ sqrt_elem(W)  # line 5 a\n",
    "        L, lower = cho_factor(G, lower=True)  # line 5 b\n",
    "        \n",
    "        b = W @ f + (y + 1) / 2 - sigmoid_elem(f * y)  # line 6; Eq. 3.15\n",
    "        # A\\b --> Ax = b --> cho_solve(cho_factor(A), b)\n",
    "        \n",
    "        # line 7\n",
    "        z2 = cho_solve((L, lower), sqrt_elem(W) @ K @ b)\n",
    "        z1 = cho_solve((L.T, lower), z2)\n",
    "        a = b - sqrt_elem(W) @ z1\n",
    "        \n",
    "        f = K @ a  # line 8\n",
    "        \n",
    "        obj = -.5 * a.T @ f + log_likelihood_fn(f, y)  # line 9 (right)\n",
    "        print(obj)\n",
    "        converged = abs(obj - prev_obj) < eps    # line 9 (left)\n",
    "        prev_obj = obj\n",
    "    \n",
    "    # log likelihood = p(y | X, theta) aka. quality of the fit\n",
    "    approx_log_marginal_likelihood = obj - np.trace(np.log(L))  # line 10\n",
    "    f_hat = f  # mpost\n",
    "    return f_hat, approx_log_marginal_likelihood"
   ]
  },
  {
   "cell_type": "code",
   "execution_count": 25,
   "metadata": {
    "scrolled": false
   },
   "outputs": [
    {
     "name": "stdout",
     "output_type": "stream",
     "text": [
      "10.401570372328756\n",
      "2.433610369929056\n",
      "-1.4342553250354904\n",
      "-1.7069628164661275\n",
      "-1.7816083590795646\n",
      "-1.7745091845329934\n",
      "-1.7789887962956943\n",
      "-1.7777124574728909\n",
      "-1.7781741063671355\n"
     ]
    },
    {
     "name": "stderr",
     "output_type": "stream",
     "text": [
      "<ipython-input-24-df0e3c0d2502>:28: RuntimeWarning: invalid value encountered in log\n",
      "  approx_log_marginal_likelihood = obj - np.trace(np.log(L))  # line 10\n"
     ]
    },
    {
     "data": {
      "text/plain": [
       "(array([-3.01715706, -4.47956794, -2.60293737,  0.66045881,  0.58492893,\n",
       "        -2.93753846, -4.43347654, -1.20143416, -0.4944395 , -0.98370121,\n",
       "        -2.64962896, -2.69132946, -2.41127821, -4.19991655, -3.10870846,\n",
       "        -4.16241968, -1.83544484, -3.69059696,  0.06223257, -3.05764171]),\n",
       " -2.579975227516937)"
      ]
     },
     "execution_count": 25,
     "metadata": {},
     "output_type": "execute_result"
    }
   ],
   "source": [
    "out = algorithm_31(K=kXX, y=y, log_likelihood_fn=log_likelihood, eps=.001)\n",
    "f_hat, approx_log_marginal_likelihood = out\n",
    "f_hat, approx_log_marginal_likelihood"
   ]
  },
  {
   "cell_type": "markdown",
   "metadata": {},
   "source": [
    "$\\hat{f}$ has greater values where $y=1$"
   ]
  },
  {
   "cell_type": "code",
   "execution_count": 26,
   "metadata": {},
   "outputs": [
    {
     "data": {
      "text/plain": [
       "[(-3.017157061143825, -1),\n",
       " (-4.479567940663416, -1),\n",
       " (-2.6029373659118082, 1),\n",
       " (0.6604588120430783, 1),\n",
       " (0.584928926876484, 1),\n",
       " (-2.9375384641849536, -1),\n",
       " (-4.433476543857579, -1),\n",
       " (-1.2014341590297772, 1),\n",
       " (-0.49443949852393243, 1),\n",
       " (-0.9837012132776526, 1),\n",
       " (-2.6496289553916075, -1),\n",
       " (-2.691329464684224, 1),\n",
       " (-2.4112782103188324, -1),\n",
       " (-4.19991654906715, -1),\n",
       " (-3.1087084591402814, -1),\n",
       " (-4.162419683998193, -1),\n",
       " (-1.8354448385991449, 1),\n",
       " (-3.6905969573623567, -1),\n",
       " (0.06223256822799908, 1),\n",
       " (-3.057641706582496, -1)]"
      ]
     },
     "execution_count": 26,
     "metadata": {},
     "output_type": "execute_result"
    }
   ],
   "source": [
    "list(zip(f_hat, y))"
   ]
  },
  {
   "cell_type": "code",
   "execution_count": 27,
   "metadata": {},
   "outputs": [
    {
     "data": {
      "text/plain": [
       "[(-0.9067, -1),\n",
       " (-0.9776, -1),\n",
       " (-0.8621, 1),\n",
       " (0.3187, 1),\n",
       " (0.2844, 1),\n",
       " (-0.8993, -1),\n",
       " (-0.9765, -1),\n",
       " (-0.5376, 1),\n",
       " (-0.2423, 1),\n",
       " (-0.4557, 1),\n",
       " (-0.868, -1),\n",
       " (-0.873, 1),\n",
       " (-0.8354, -1),\n",
       " (-0.9704, -1),\n",
       " (-0.9145, -1),\n",
       " (-0.9693, -1),\n",
       " (-0.7248, 1),\n",
       " (-0.9513, -1),\n",
       " (0.0311, 1),\n",
       " (-0.9102, -1)]"
      ]
     },
     "execution_count": 27,
     "metadata": {},
     "output_type": "execute_result"
    }
   ],
   "source": [
    "list(zip((round(sigmoid(f_i) * 2 - 1, 4) for f_i in f_hat), y))"
   ]
  },
  {
   "cell_type": "markdown",
   "metadata": {},
   "source": [
    "## Algorithm 3.2 / Equation 3.10"
   ]
  },
  {
   "cell_type": "code",
   "execution_count": 28,
   "metadata": {},
   "outputs": [],
   "source": [
    "from scipy import integrate\n",
    "from scipy.stats import norm"
   ]
  },
  {
   "cell_type": "code",
   "execution_count": 29,
   "metadata": {},
   "outputs": [],
   "source": [
    "def algorithm_32(\n",
    "    f_hat: arr, X: arr, y: arr, k: Callable, log_likelihood_fn: Callable[[arr, arr], arr], x_test: arr\n",
    ") -> arr:\n",
    "    \"\"\"\n",
    "    Algorithm 3.2: Predictions for binary Laplace GPC.\n",
    "    f_hat: mode (from Algorithm 3.1)\n",
    "    X: inputs\n",
    "    y: +-1 targets\n",
    "    k: covariance function (kernel)\n",
    "    log_likelihood_fn: log likelihood function\n",
    "    x_test: test input\n",
    "    \"\"\"\n",
    "    n = y.shape[0]\n",
    "    K = kernel(X, X)\n",
    "    \n",
    "    W = -np.diag([-sigmoid(f_i * y_i) * (1 - sigmoid(f_i * y_i)) for f_i, y_i in zip(f_hat, y)])  # line 2\n",
    "    G = np.eye(n) + sqrt_elem(W) @ K @ sqrt_elem(W)  # line 3 a\n",
    "    L, lower = cho_factor(G, lower=True)  # line 3 b\n",
    "    f_bar_star = kernel(x_test, X) @ ((y + 1) / 2 - sigmoid_elem(f_hat * y))  # line 4; Eq. 3.15\n",
    "\n",
    "    v = cho_solve((L, lower), sqrt_elem(W) @ kernel(x_test, X).T)  # line 5\n",
    "    V_f_star = kernel(x_test, x_test) - v.T @ v  # line 6\n",
    "    \n",
    "    def integral_fn(z: arr, f_bar_star_i: arr, V_f_star_ii: arr):\n",
    "        return sigmoid(z) * norm(f_bar_star_i, V_f_star_ii).pdf(z)\n",
    "    \n",
    "    pi_bar_star = np.array([\n",
    "        integrate.quad(\n",
    "            func=partial(integral_fn, f_bar_star_i=f_bar_star_i, V_f_star_ii=V_f_star_ii), \n",
    "            a=-10, b=10)[0]\n",
    "        for f_bar_star_i, V_f_star_ii in zip(f_bar_star, np.diagonal(V_f_star))\n",
    "    ])  # line 7 (heavy computation!)\n",
    "    return pi_bar_star # line 8"
   ]
  },
  {
   "cell_type": "code",
   "execution_count": 30,
   "metadata": {},
   "outputs": [],
   "source": [
    "pi_bar_star = algorithm_32(f_hat=f_hat, X=X, y=y, k=kernel, log_likelihood_fn=log_likelihood, x_test=X_test)"
   ]
  },
  {
   "cell_type": "code",
   "execution_count": 31,
   "metadata": {},
   "outputs": [
    {
     "data": {
      "text/plain": [
       "array([0.48045046, 0.46251281, 0.44286982, 0.42907881, 0.42481838,\n",
       "       0.42723159, 0.43246959, 0.44087491, 0.45420165, 0.47048553])"
      ]
     },
     "execution_count": 31,
     "metadata": {},
     "output_type": "execute_result"
    }
   ],
   "source": [
    "pi_bar_star[:10]"
   ]
  },
  {
   "cell_type": "code",
   "execution_count": 32,
   "metadata": {},
   "outputs": [
    {
     "data": {
      "image/png": "[encoded data removed]",
      "text/plain": [
       "<Figure size 432x288 with 1 Axes>"
      ]
     },
     "metadata": {
      "needs_background": "light"
     },
     "output_type": "display_data"
    }
   ],
   "source": [
    "import matplotlib.tri as tri\n",
    "import matplotlib.pyplot as plt\n",
    "\n",
    "plt.tricontour(*X_test.T, pi_bar_star, 15, linewidths=0.5, colors='k')\n",
    "plt.tricontourf(*X_test.T, pi_bar_star, 15, alpha=.7)\n",
    "plt.scatter(*X.T, c=y, s=100, edgecolors='black');"
   ]
  },
  {
   "cell_type": "markdown",
   "metadata": {},
   "source": [
    "Test points are are in the grid (dots) `X_test`, train points are the `+`es, `X`."
   ]
  },
  {
   "cell_type": "code",
   "execution_count": 33,
   "metadata": {},
   "outputs": [
    {
     "data": {
      "image/png": "[encoded data removed]",
      "text/plain": [
       "<Figure size 432x288 with 1 Axes>"
      ]
     },
     "metadata": {
      "needs_background": "light"
     },
     "output_type": "display_data"
    }
   ],
   "source": [
    "plt.scatter(*X_test.T, c=pi_bar_star, s=20)\n",
    "plt.scatter(*X.T, c=y, marker='+', s=200);"
   ]
  },
  {
   "cell_type": "code",
   "execution_count": null,
   "metadata": {},
   "outputs": [],
   "source": []
  }
 ],
 "metadata": {
  "kernelspec": {
   "display_name": "Python 3",
   "language": "python",
   "name": "python3"
  },
  "language_info": {
   "codemirror_mode": {
    "name": "ipython",
    "version": 3
   },
   "file_extension": ".py",
   "mimetype": "text/x-python",
   "name": "python",
   "nbconvert_exporter": "python",
   "pygments_lexer": "ipython3",
   "version": "3.8.6"
  }
 },
 "nbformat": 4,
 "nbformat_minor": 4
}
