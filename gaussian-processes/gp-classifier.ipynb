{
 "cells": [
  {
   "cell_type": "markdown",
   "metadata": {},
   "source": [
    "# GP Classifier"
   ]
  },
  {
   "cell_type": "code",
   "execution_count": 1,
   "metadata": {},
   "outputs": [],
   "source": [
    "from functools import partial\n",
    "import matplotlib.pyplot as plt\n",
    "import numpy as np\n",
    "from typing import *"
   ]
  },
  {
   "cell_type": "markdown",
   "metadata": {},
   "source": [
    "## Inputs \n",
    "\n",
    "Input to Algorithm 3.1\n",
    "\n",
    "### Train Data"
   ]
  },
  {
   "cell_type": "code",
   "execution_count": 2,
   "metadata": {},
   "outputs": [],
   "source": [
    "num_samples = 10\n",
    "dim = 2\n",
    "\n",
    "X = np.random.uniform(low=-2, high=2, size=(num_samples,dim))\n",
    "\n",
    "# random classes in {-1, +1}\n",
    "# y = np.random.randint(low=0, high=2, size=(num_samples,)) * 2 - 1\n",
    "\n",
    "# some dependence between X and y\n",
    "y = np.logical_or(X[:, 0] > .5, X[:, 1] > 1).astype(np.int32) * 2 - 1"
   ]
  },
  {
   "cell_type": "code",
   "execution_count": 3,
   "metadata": {},
   "outputs": [
    {
     "data": {
      "text/plain": [
       "(array([[-0.29075729,  1.79016797],\n",
       "        [ 1.79171745, -1.98810892],\n",
       "        [ 0.708504  , -0.38183235],\n",
       "        [ 1.09422407,  0.83458448],\n",
       "        [-0.59669488,  1.86338645],\n",
       "        [-1.3376016 , -1.25560801],\n",
       "        [-1.87141278, -1.1499176 ],\n",
       "        [ 1.25364176, -1.35900628],\n",
       "        [ 1.98349523,  0.75854529],\n",
       "        [-0.95000106, -0.67639185]]),\n",
       " array([ 1,  1,  1,  1,  1, -1, -1,  1,  1, -1], dtype=int32))"
      ]
     },
     "execution_count": 3,
     "metadata": {},
     "output_type": "execute_result"
    }
   ],
   "source": [
    "X, y"
   ]
  },
  {
   "cell_type": "code",
   "execution_count": 4,
   "metadata": {},
   "outputs": [
    {
     "data": {
      "text/plain": [
       "<matplotlib.collections.PathCollection at 0x1191f64c0>"
      ]
     },
     "execution_count": 4,
     "metadata": {},
     "output_type": "execute_result"
    },
    {
     "data": {
      "image/png": "[encoded data removed]",
      "text/plain": [
       "<Figure size 432x288 with 1 Axes>"
      ]
     },
     "metadata": {
      "needs_background": "light"
     },
     "output_type": "display_data"
    }
   ],
   "source": [
    "plt.scatter(*X.T, c=y)"
   ]
  },
  {
   "cell_type": "code",
   "execution_count": 5,
   "metadata": {},
   "outputs": [
    {
     "data": {
      "text/plain": [
       "array([[-3.  , -3.  ],\n",
       "       [-3.  , -2.75],\n",
       "       [-3.  , -2.5 ],\n",
       "       ...,\n",
       "       [ 3.  ,  2.5 ],\n",
       "       [ 3.  ,  2.75],\n",
       "       [ 3.  ,  3.  ]])"
      ]
     },
     "execution_count": 5,
     "metadata": {},
     "output_type": "execute_result"
    }
   ],
   "source": [
    "X_test = np.mgrid[-3:3.01:0.25, -3:3.01:0.25].reshape(2,-1).T\n",
    "# np.linspace(start=-3, stop=3, num=100)\n",
    "X_test"
   ]
  },
  {
   "cell_type": "markdown",
   "metadata": {},
   "source": [
    "### Kernel \"Squared-Exponential Covariance Function\"\n",
    "\n",
    "~~Eq. (2.16) from the book~~ Eq. 2.31 from the book (and for multi-dimensional see [here](https://stats.stackexchange.com/a/362537/249793))."
   ]
  },
  {
   "cell_type": "code",
   "execution_count": 6,
   "metadata": {},
   "outputs": [],
   "source": [
    "def se_y_onedim(x_p: float, x_q: float, l: float, sigma_f: float) -> float:\n",
    "    return sigma_f ** 2 * np.exp(-((x_p - x_q) ** 2) / (2.0 * l ** 2))\n",
    "\n",
    "def se_y(x_p: np.ndarray, x_q: np.ndarray, l: float, sigma_f: float) -> float:\n",
    "    return sigma_f ** 2 * np.exp(-.5 * np.sum(((x_p - x_q) / l) ** 2))\n",
    "\n",
    "def se(x_p: np.ndarray, x_q: np.ndarray, l: float, sigma_f: float) -> float:\n",
    "    f = partial(se_y, l=l, sigma_f=sigma_f)\n",
    "    \n",
    "    return np.array(\n",
    "        [\n",
    "            [f(x_p[i], x_q[j]) for j in range(x_q.shape[0])] \n",
    "            for i in range(x_p.shape[0])\n",
    "        ]\n",
    "    )"
   ]
  },
  {
   "cell_type": "code",
   "execution_count": 7,
   "metadata": {},
   "outputs": [],
   "source": [
    "kernel = partial(se, l=.01, sigma_f=1)"
   ]
  },
  {
   "cell_type": "markdown",
   "metadata": {},
   "source": [
    "### Covariance matrix\n",
    "\n",
    "See also [page 105 here](https://www.microsoft.com/en-us/research/uploads/prod/2006/01/Bishop-Pattern-Recognition-and-Machine-Learning-2006.pdf)."
   ]
  },
  {
   "cell_type": "code",
   "execution_count": 8,
   "metadata": {},
   "outputs": [],
   "source": [
    "noise_scale = 0\n",
    "\n",
    "# K in the book; input to Algorithm 3.1\n",
    "kXX = kernel(X, X)  # sigma_bb\n",
    "\n",
    "# K* in the book\n",
    "kxX = kernel(X_test, X)  # sigma_ab and sigma_ba\n",
    "\n",
    "kxx = kernel(X_test, X_test)  # sigma_aa\n",
    "\n",
    "m_pre = np.linalg.inv(kXX + noise_scale**2 * np.eye(X.shape[0]))\n",
    "\n",
    "mpost = kxX @ m_pre @ y\n",
    "vpost = kxx - kxX @ m_pre @ kxX.T\n",
    "\n",
    "spost = np.random.multivariate_normal(mpost.flatten(), vpost, size=10).T"
   ]
  },
  {
   "cell_type": "code",
   "execution_count": 9,
   "metadata": {},
   "outputs": [
    {
     "data": {
      "text/plain": [
       "(625,)"
      ]
     },
     "execution_count": 9,
     "metadata": {},
     "output_type": "execute_result"
    }
   ],
   "source": [
    "mpost.shape"
   ]
  },
  {
   "cell_type": "code",
   "execution_count": 10,
   "metadata": {},
   "outputs": [
    {
     "data": {
      "image/png": "[encoded data removed]",
      "text/plain": [
       "<Figure size 432x288 with 2 Axes>"
      ]
     },
     "metadata": {
      "needs_background": "light"
     },
     "output_type": "display_data"
    }
   ],
   "source": [
    "plt.imshow(kXX)\n",
    "plt.colorbar()\n",
    "plt.show()"
   ]
  },
  {
   "cell_type": "markdown",
   "metadata": {},
   "source": [
    "### Likelihood function\n",
    "\n",
    "$p(\\boldsymbol{y}\\mid\\boldsymbol{f})$\n",
    "\n",
    "(Equation 3.5; using logit sigmoid function here)  \n",
    "$\\log p(y_i\\mid f_i) = \\log\\sigma(y_i\\times f_i) = -\\log(1 + \\exp(-y_i f_i))$\n",
    "\n",
    "$p(y\\mid f)=\\sigma(f_iy_i)$\n",
    "\n",
    "$\\nabla\\sigma(z)=\\sigma(z)\\times(1-\\sigma(z))$  \n",
    "$\\nabla\\nabla\\sigma(z)=\\sigma(z)\\times(1-\\sigma(z))\\times(1-\\sigma(z))+\\sigma(z)\\times-\\sigma(z)\\times(1-\\sigma(z))$ substitute $\\pi=\\sigma(z)$\n",
    "\n",
    "(Equation 3.15)  \n",
    "$\\nabla\\nabla\\sigma(z)=\\pi\\times(1-\\pi)\\times(1-\\pi)+\\pi\\times-\\pi\\times(1-\\pi)=\\pi\\times(1-\\pi)$\n",
    "\n",
    "Second derivative $\\nabla\\nabla\\log p(y_i\\mid f_i) = -\\pi_i\\times(1-\\pi_i)$ with $\\pi_i=p(y_i=1\\mid f_i)$"
   ]
  },
  {
   "cell_type": "markdown",
   "metadata": {},
   "source": [
    "$p(y\\mid f)=\\Pi_i(p(y_i\\mid f_i))=\\Pi_i(\\sigma(y_i\\times f_i))$\n",
    "\n",
    "$\\log$ for sum"
   ]
  },
  {
   "cell_type": "code",
   "execution_count": 11,
   "metadata": {},
   "outputs": [],
   "source": [
    "def sigmoid(x: np.ndarray) -> np.ndarray:\n",
    "    return 1 / (1 + np.exp(-x))\n",
    "\n",
    "# for logistic regression we'd have the following\n",
    "# but we don't have weights here\n",
    "# def f_fn(x: np.ndarray, w: np.ndarray) -> np.ndarray:\n",
    "#     return sigmoid(np.dot(x, w))"
   ]
  },
  {
   "cell_type": "code",
   "execution_count": 12,
   "metadata": {},
   "outputs": [],
   "source": [
    "def log_likelihood(f: np.ndarray, y: np.ndarray):\n",
    "    return np.sum(list(sigmoid(f_i * y_i) for f_i, y_i in zip(f, y)))"
   ]
  },
  {
   "cell_type": "code",
   "execution_count": 13,
   "metadata": {},
   "outputs": [
    {
     "data": {
      "text/plain": [
       "2.8627654701470884"
      ]
     },
     "execution_count": 13,
     "metadata": {},
     "output_type": "execute_result"
    }
   ],
   "source": [
    "log_likelihood(np.array([-2, 10, -4]), np.array([-1, 1, -1]))"
   ]
  },
  {
   "cell_type": "markdown",
   "metadata": {},
   "source": [
    "---\n",
    "\n",
    "At this point all inputs to Algorithm 3.1 are available. Below are some loose notes."
   ]
  },
  {
   "cell_type": "code",
   "execution_count": 14,
   "metadata": {},
   "outputs": [
    {
     "data": {
      "text/plain": [
       "(array([[1., 0.],\n",
       "        [0., 1.]]),\n",
       " array([0., 0.]))"
      ]
     },
     "execution_count": 14,
     "metadata": {},
     "output_type": "execute_result"
    }
   ],
   "source": [
    "sigma = np.eye(dim)\n",
    "mean = np.zeros(dim)\n",
    "sigma, mean"
   ]
  },
  {
   "cell_type": "code",
   "execution_count": 15,
   "metadata": {},
   "outputs": [
    {
     "data": {
      "text/plain": [
       "array([-0.92785187,  1.02210942])"
      ]
     },
     "execution_count": 15,
     "metadata": {},
     "output_type": "execute_result"
    }
   ],
   "source": [
    "w = np.random.multivariate_normal(mean=mean, cov=sigma)\n",
    "w"
   ]
  },
  {
   "cell_type": "code",
   "execution_count": 16,
   "metadata": {},
   "outputs": [
    {
     "data": {
      "text/plain": [
       "array([[-0.29075729,  1.79016797],\n",
       "       [ 1.79171745, -1.98810892],\n",
       "       [ 0.708504  , -0.38183235],\n",
       "       [ 1.09422407,  0.83458448],\n",
       "       [-0.59669488,  1.86338645],\n",
       "       [-1.3376016 , -1.25560801],\n",
       "       [-1.87141278, -1.1499176 ],\n",
       "       [ 1.25364176, -1.35900628],\n",
       "       [ 1.98349523,  0.75854529],\n",
       "       [-0.95000106, -0.67639185]])"
      ]
     },
     "execution_count": 16,
     "metadata": {},
     "output_type": "execute_result"
    }
   ],
   "source": [
    "X"
   ]
  },
  {
   "cell_type": "markdown",
   "metadata": {},
   "source": [
    "**General note:**\n",
    "\n",
    "* $Ax = b$ --> $O(n^2 + n)$ (?) but numerically stable\n",
    "* $x = A^{-1}b$ --> $O(n^3)$ numerically instable"
   ]
  },
  {
   "cell_type": "markdown",
   "metadata": {},
   "source": [
    "_On line 7 in Algorithm 3.1:_\n",
    "\n",
    "Instead of solving $Ax=b$ we run $L:=\\operatorname{cholesky}(A)$ and solve for $LL^Tx=b$\n",
    "\n",
    "---\n",
    "\n",
    "$L\\underbrace{\\left(L^Tx\\right)}_z=b$\n",
    "\n",
    "$L$ is a lower-triangular matrix.\n",
    "\n",
    "$z:=L^Tx$\n",
    "\n",
    "Solve $Lz=b$, once we got $z$ we solve $L^Tx=z$."
   ]
  },
  {
   "cell_type": "markdown",
   "metadata": {},
   "source": [
    "Example\n",
    "\n",
    "```\n",
    "A = [[1, 2], [3, 4]]\n",
    "LL^T := A\n",
    "\n",
    "A[1][1] = L[1][1]*L[1][1] + L[1][1]*L[1][2] + ...\n",
    "# gives n^2 equations (one for each entry in the L matrix)\n",
    "```"
   ]
  },
  {
   "cell_type": "markdown",
   "metadata": {},
   "source": [
    "### Prediction"
   ]
  },
  {
   "cell_type": "code",
   "execution_count": 17,
   "metadata": {},
   "outputs": [],
   "source": [
    "from scipy.linalg import cho_solve, cho_factor"
   ]
  },
  {
   "cell_type": "code",
   "execution_count": 18,
   "metadata": {},
   "outputs": [],
   "source": [
    "G = kXX + noise_scale ** 2 * np.eye(X.shape[0])"
   ]
  },
  {
   "cell_type": "code",
   "execution_count": 19,
   "metadata": {},
   "outputs": [],
   "source": [
    "# with Cholesky\n",
    "L = cho_factor(G)\n",
    "A = cho_solve(L, kxX.T).T"
   ]
  },
  {
   "cell_type": "code",
   "execution_count": 20,
   "metadata": {},
   "outputs": [],
   "source": [
    "# alternative (w/o Cholesky)\n",
    "# kxX.shape = [num_test X_test.shape[0], num_train X.shape[0]]\n",
    "# AG = kxX\n",
    "# G^TA^T = kxX^t\n",
    "# cholesky(G^T) = L^TL\n",
    "# L^T @ (L @ A^T) = kxX^T\n",
    "# L^T @ z = kxX^T  (solve this first)  # corresponds to 'A = cho_solve(L, kxX.T).T'\n",
    "# L @ A&^T = z\n",
    "\n",
    "A = kxX @ np.linalg.inv(G)"
   ]
  },
  {
   "cell_type": "code",
   "execution_count": 21,
   "metadata": {},
   "outputs": [],
   "source": [
    "# mpost = mean_function(X_test) + A @ (Y - mean_function(X))\n",
    "# vpost = kernel(X_test, X_test) - A @ kxX.T\n",
    "\n",
    "# mpost = mx + A @ (Y - mX)\n",
    "# vpost = kxx - A @ kxX.T"
   ]
  },
  {
   "cell_type": "markdown",
   "metadata": {},
   "source": [
    "## Algorithm 3.1 / Equation 3.9"
   ]
  },
  {
   "cell_type": "code",
   "execution_count": 22,
   "metadata": {},
   "outputs": [],
   "source": [
    "arr = np.ndarray"
   ]
  },
  {
   "cell_type": "code",
   "execution_count": 23,
   "metadata": {},
   "outputs": [],
   "source": [
    "sqrt_elem = np.vectorize(np.sqrt)\n",
    "sigmoid_elem = np.vectorize(sigmoid)"
   ]
  },
  {
   "cell_type": "code",
   "execution_count": 24,
   "metadata": {},
   "outputs": [],
   "source": [
    "def algorithm_31(K: arr, y: arr, log_likelihood_fn: Callable[[arr, arr], arr], eps: float) -> Tuple[arr, arr]:\n",
    "    n = y.shape[0]\n",
    "    f = np.zeros_like(y)\n",
    "    converged = False\n",
    "    prev_obj = 0\n",
    "    \n",
    "    while not converged:\n",
    "        W = -np.diag([-sigmoid(f_i * y_i) * (1 - sigmoid(f_i * y_i)) for f_i, y_i in zip(f, y)])  # line 4\n",
    "        G = np.eye(n) + sqrt_elem(W) @ K @ sqrt_elem(W)  # line 5 a\n",
    "        L, lower = cho_factor(G, lower=True)  # line 5 b\n",
    "        \n",
    "        b = W @ f + (y + 1) / 2 - sigmoid_elem(f * y)  # Eq. 3.15\n",
    "        # A\\b --> Ax = b --> cho_solve(cho_factor(A), b)\n",
    "        \n",
    "        # line 7\n",
    "        z2 = cho_solve((L, lower), sqrt_elem(W) @ K @ b)\n",
    "        z1 = cho_solve((L.T, lower), z2)\n",
    "        a = b - sqrt_elem(W) @ z1\n",
    "        \n",
    "        f = K @ a  # line 8\n",
    "        \n",
    "        obj = -.5 * a.T @ f + log_likelihood_fn(f, y)  # line 9 (right)\n",
    "        print(obj)\n",
    "        converged = abs(obj - prev_obj) < eps    # line 9 (left)\n",
    "        prev_obj = obj\n",
    "    \n",
    "    # log likelihood = p(y | X, theta) aka. quality of the fit\n",
    "    approx_log_marginal_likelihood = obj - np.trace(np.log(L))  # line 10\n",
    "    f_hat = f  # mpost\n",
    "    return f_hat, approx_log_marginal_likelihood"
   ]
  },
  {
   "cell_type": "code",
   "execution_count": 25,
   "metadata": {
    "scrolled": false
   },
   "outputs": [
    {
     "name": "stdout",
     "output_type": "stream",
     "text": [
      "5.152832498647262\n",
      "5.010774962970374\n",
      "4.929071715794077\n",
      "4.894958563451414\n",
      "4.882044314401903\n",
      "4.877319293729336\n",
      "4.875611380109621\n",
      "4.874996712343016\n"
     ]
    },
    {
     "name": "stderr",
     "output_type": "stream",
     "text": [
      "<ipython-input-24-969424b8df4b>:28: RuntimeWarning: divide by zero encountered in log\n",
      "  approx_log_marginal_likelihood = obj - np.trace(np.log(L))  # line 10\n"
     ]
    },
    {
     "data": {
      "text/plain": [
       "(array([ 0.41958446,  0.41958446,  0.41958446,  0.41958446,  0.41958446,\n",
       "        -0.70144335, -0.70144335,  0.41958446,  0.41958446, -0.70144335]),\n",
       " 3.82376224889014)"
      ]
     },
     "execution_count": 25,
     "metadata": {},
     "output_type": "execute_result"
    }
   ],
   "source": [
    "out = algorithm_31(K=kXX, y=y, log_likelihood_fn=log_likelihood, eps=.001)\n",
    "f_hat, approx_log_marginal_likelihood = out\n",
    "f_hat, approx_log_marginal_likelihood"
   ]
  },
  {
   "cell_type": "markdown",
   "metadata": {},
   "source": [
    "$\\hat{f}$ has greater values where $y=1$"
   ]
  },
  {
   "cell_type": "code",
   "execution_count": 26,
   "metadata": {},
   "outputs": [
    {
     "data": {
      "text/plain": [
       "[(0.41958445565421837, 1),\n",
       " (0.41958445565421837, 1),\n",
       " (0.41958445565421837, 1),\n",
       " (0.41958445565421837, 1),\n",
       " (0.41958445565421837, 1),\n",
       " (-0.7014433508965847, -1),\n",
       " (-0.7014433508965847, -1),\n",
       " (0.41958445565421837, 1),\n",
       " (0.41958445565421837, 1),\n",
       " (-0.7014433508965847, -1)]"
      ]
     },
     "execution_count": 26,
     "metadata": {},
     "output_type": "execute_result"
    }
   ],
   "source": [
    "list(zip(f_hat, y))"
   ]
  },
  {
   "cell_type": "code",
   "execution_count": 27,
   "metadata": {},
   "outputs": [
    {
     "data": {
      "text/plain": [
       "[(0.2068, 1),\n",
       " (0.2068, 1),\n",
       " (0.2068, 1),\n",
       " (0.2068, 1),\n",
       " (0.2068, 1),\n",
       " (-0.337, -1),\n",
       " (-0.337, -1),\n",
       " (0.2068, 1),\n",
       " (0.2068, 1),\n",
       " (-0.337, -1)]"
      ]
     },
     "execution_count": 27,
     "metadata": {},
     "output_type": "execute_result"
    }
   ],
   "source": [
    "list(zip((round(sigmoid(f_i) * 2 - 1, 4) for f_i in f_hat), y))"
   ]
  }
 ],
 "metadata": {
  "kernelspec": {
   "display_name": "Python 3",
   "language": "python",
   "name": "python3"
  },
  "language_info": {
   "codemirror_mode": {
    "name": "ipython",
    "version": 3
   },
   "file_extension": ".py",
   "mimetype": "text/x-python",
   "name": "python",
   "nbconvert_exporter": "python",
   "pygments_lexer": "ipython3",
   "version": "3.8.6"
  }
 },
 "nbformat": 4,
 "nbformat_minor": 4
}
