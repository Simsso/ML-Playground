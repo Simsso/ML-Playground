{
 "cells": [
  {
   "cell_type": "code",
   "execution_count": 31,
   "metadata": {},
   "outputs": [],
   "source": [
    "model_size = \"70m\"  # or 2.8b"
   ]
  },
  {
   "cell_type": "code",
   "execution_count": 32,
   "metadata": {},
   "outputs": [],
   "source": [
    "import matplotlib.pyplot as plt\n",
    "import torch\n",
    "import torch.nn\n",
    "import torch.optim\n",
    "from transformers import GPTNeoXForCausalLM, AutoTokenizer"
   ]
  },
  {
   "cell_type": "code",
   "execution_count": 33,
   "metadata": {},
   "outputs": [],
   "source": [
    "tokenizer = AutoTokenizer.from_pretrained(\n",
    "  f\"EleutherAI/pythia-{model_size}-deduped\",\n",
    "  revision=\"step3000\",\n",
    "  cache_dir=f\"./pythia-{model_size}-deduped/step3000\",\n",
    ")"
   ]
  },
  {
   "cell_type": "code",
   "execution_count": 34,
   "metadata": {},
   "outputs": [],
   "source": [
    "model = GPTNeoXForCausalLM.from_pretrained(\n",
    "  f\"EleutherAI/pythia-{model_size}-deduped\",\n",
    "  revision=\"step3000\",\n",
    "  cache_dir=f\"./pythia-{model_size}-deduped/step3000\",\n",
    ")"
   ]
  },
  {
   "cell_type": "code",
   "execution_count": 35,
   "metadata": {},
   "outputs": [],
   "source": [
    "train_data = tokenizer(\"Training example #1 is continuing just this text. That's all.\", return_tensors=\"pt\")"
   ]
  },
  {
   "cell_type": "code",
   "execution_count": 36,
   "metadata": {},
   "outputs": [
    {
     "name": "stderr",
     "output_type": "stream",
     "text": [
      "Setting `pad_token_id` to `eos_token_id`:0 for open-end generation.\n"
     ]
    },
    {
     "data": {
      "text/plain": [
       "tensor([[47416,  1650,  1852,    18,   310, 11440,   816,   436,  2505,    15,\n",
       "          2064,   434,   512,    15,   187,   187,    34,    27,   187,   187,\n",
       "            42,  1158,   368,  1472,   987,    15,   309,  1158,   368,  1472]])"
      ]
     },
     "execution_count": 36,
     "metadata": {},
     "output_type": "execute_result"
    }
   ],
   "source": [
    "# This actually samples from the model and continues the inputs sequence.\n",
    "model.generate(**train_data, max_length=30)"
   ]
  },
  {
   "cell_type": "code",
   "execution_count": 37,
   "metadata": {},
   "outputs": [
    {
     "data": {
      "text/plain": [
       "torch.Size([1, 14, 50304])"
      ]
     },
     "execution_count": 37,
     "metadata": {},
     "output_type": "execute_result"
    }
   ],
   "source": [
    "# This is one parallel forward pass through the model, useful for training / perplexity on a sentence.\n",
    "# Output logits have the shape (batch, num_tokens, vocab_size)\n",
    "model(**train_data).logits.shape"
   ]
  },
  {
   "attachments": {},
   "cell_type": "markdown",
   "metadata": {},
   "source": [
    "Vocab is ~50k. Tradeoff between memory consumption (long seq len) and more model parameters.\n",
    "\n",
    "Last layer parameters in this case: $50304 \\times 512 = 25M$"
   ]
  },
  {
   "cell_type": "code",
   "execution_count": 38,
   "metadata": {},
   "outputs": [
    {
     "data": {
      "text/plain": [
       "Embedding(50304, 512)"
      ]
     },
     "execution_count": 38,
     "metadata": {},
     "output_type": "execute_result"
    }
   ],
   "source": [
    "dict(model.named_modules())['gpt_neox.embed_in']"
   ]
  },
  {
   "attachments": {},
   "cell_type": "markdown",
   "metadata": {},
   "source": [
    "(Or is it shared with the emb space?) Comparison of `gpt_neox.embed_in` and `embed_out`"
   ]
  },
  {
   "cell_type": "code",
   "execution_count": 39,
   "metadata": {},
   "outputs": [
    {
     "data": {
      "text/plain": [
       "Linear(in_features=512, out_features=50304, bias=False)"
      ]
     },
     "execution_count": 39,
     "metadata": {},
     "output_type": "execute_result"
    }
   ],
   "source": [
    "dict(model.named_modules())['embed_out']"
   ]
  },
  {
   "attachments": {},
   "cell_type": "markdown",
   "metadata": {},
   "source": [
    "## First and last layer inspection"
   ]
  },
  {
   "cell_type": "code",
   "execution_count": 40,
   "metadata": {},
   "outputs": [
    {
     "data": {
      "text/plain": [
       "(Parameter containing:\n",
       " tensor([[-0.0324,  0.0372, -0.0339,  ...,  0.0141, -0.0041,  0.0731],\n",
       "         [-0.0323,  0.0438, -0.0388,  ..., -0.0005,  0.0452,  0.0865],\n",
       "         [ 0.0770, -0.0487,  0.0957,  ...,  0.0418, -0.0245,  0.0255],\n",
       "         ...,\n",
       "         [ 0.0094,  0.0218, -0.0342,  ...,  0.0123,  0.0355,  0.0566],\n",
       "         [-0.0061,  0.0197, -0.0467,  ...,  0.0004, -0.0008,  0.0076],\n",
       "         [ 0.0226, -0.0023, -0.0380,  ...,  0.0126,  0.0422,  0.0599]],\n",
       "        requires_grad=True),\n",
       " Parameter containing:\n",
       " tensor([[ 0.0308, -0.0087,  0.0353,  ...,  0.0028,  0.0612, -0.0313],\n",
       "         [-0.0188,  0.0053, -0.0140,  ...,  0.0042, -0.0359, -0.0329],\n",
       "         [-0.0215, -0.0540, -0.0469,  ..., -0.0137,  0.0544, -0.0139],\n",
       "         ...,\n",
       "         [-0.0400,  0.0041, -0.0577,  ..., -0.0170,  0.0236, -0.0073],\n",
       "         [-0.0121, -0.0004,  0.0441,  ..., -0.0316, -0.0187,  0.0260],\n",
       "         [ 0.0440,  0.0214,  0.0234,  ..., -0.0043, -0.0058, -0.0082]],\n",
       "        requires_grad=True))"
      ]
     },
     "execution_count": 40,
     "metadata": {},
     "output_type": "execute_result"
    }
   ],
   "source": [
    "emb_out_layer = dict(model.named_modules())['embed_out']\n",
    "emb_in_layer = dict(model.named_modules())['gpt_neox.embed_in']\n",
    "\n",
    "list(emb_out_layer.parameters())[0], list(emb_in_layer.parameters())[0]"
   ]
  },
  {
   "attachments": {},
   "cell_type": "markdown",
   "metadata": {},
   "source": [
    "activation_i (512) @ large_weight_matrix (512x50k) ==> logits\n",
    "\n",
    "May --> month\n",
    "May --> ask for permission\n",
    "\"The word to greet is ____\" --> logits(\"hi\") --> high value; logits(\"hello\") --> high value"
   ]
  },
  {
   "cell_type": "code",
   "execution_count": 41,
   "metadata": {},
   "outputs": [],
   "source": [
    "vocab_emb_mat = list(emb_out_layer.parameters())[0]"
   ]
  },
  {
   "cell_type": "code",
   "execution_count": 42,
   "metadata": {},
   "outputs": [],
   "source": [
    "def get_similar_words(word: str) -> list[str]:\n",
    "    hello_emb = vocab_emb_mat[tokenizer(word)['input_ids'][0]]\n",
    "    sim_scores = vocab_emb_mat @ hello_emb\n",
    "    top_similar = torch.argsort(sim_scores, descending=True)[:20]\n",
    "    return [tokenizer.decode([s]) for s in top_similar]"
   ]
  },
  {
   "cell_type": "code",
   "execution_count": 43,
   "metadata": {},
   "outputs": [
    {
     "name": "stdout",
     "output_type": "stream",
     "text": [
      "aa | aaa | aaaa | ais | aan | ae | a | aea | uu | af | aaaaaaaa | aq | ua | avat | ana | ea | aha | afa | eed | ira\n"
     ]
    }
   ],
   "source": [
    "print(*get_similar_words(\"aa\"), sep=\" | \")"
   ]
  },
  {
   "cell_type": "code",
   "execution_count": 44,
   "metadata": {},
   "outputs": [
    {
     "name": "stdout",
     "output_type": "stream",
     "text": [
      "Test | TestCase | Tests | Testing | test |  Test |  Tests | Mock | tests | Unit | Ignore | testing | Suite | Sample | Trial | TEST | Rule | ittest | Assert | Override\n"
     ]
    }
   ],
   "source": [
    "print(*get_similar_words(\"Test\"), sep=\" | \")"
   ]
  },
  {
   "cell_type": "code",
   "execution_count": 45,
   "metadata": {},
   "outputs": [
    {
     "name": "stdout",
     "output_type": "stream",
     "text": [
      "Hello | Hi | hello | Welcome | Dear | Hey | Wow |  Hello | Excuse | Nice | Looks | Yesterday | Bye | Sorry | Alright | Excellent | Been | ====== | Yeah | noreply\n"
     ]
    }
   ],
   "source": [
    "print(*get_similar_words(\"Hello\"), sep=\" | \")"
   ]
  },
  {
   "cell_type": "code",
   "execution_count": 46,
   "metadata": {},
   "outputs": [
    {
     "name": "stdout",
     "output_type": "stream",
     "text": [
      "May | April | June | October | February | March | November | July | December | September | August | January | Feb | Apr | Aug | Sept | Nov | Oct | Jun | Jan\n"
     ]
    }
   ],
   "source": [
    "print(*get_similar_words(\"May\"), sep=\" | \")"
   ]
  },
  {
   "attachments": {},
   "cell_type": "markdown",
   "metadata": {},
   "source": [
    "## Run fine-tuning"
   ]
  },
  {
   "cell_type": "code",
   "execution_count": 58,
   "metadata": {},
   "outputs": [],
   "source": [
    "tokenizer.pad_token = tokenizer.eos_token\n",
    "tokenizer.pad_token_id = tokenizer.eos_token_id"
   ]
  },
  {
   "cell_type": "code",
   "execution_count": 84,
   "metadata": {},
   "outputs": [],
   "source": [
    "result = tokenizer([\n",
    "        \"hi\",\n",
    "        \"how are you\",\n",
    "        \"this is\"\n",
    "    ],\n",
    "    add_special_tokens=True,\n",
    "    return_tensors=\"pt\",\n",
    "    padding='longest',\n",
    "    return_attention_mask=True,)"
   ]
  },
  {
   "cell_type": "code",
   "execution_count": 85,
   "metadata": {},
   "outputs": [
    {
     "data": {
      "text/plain": [
       "{'input_ids': tensor([[5801,    0,    0],\n",
       "        [5430,  403,  368],\n",
       "        [2520,  310,    0]]), 'attention_mask': tensor([[1, 0, 0],\n",
       "        [1, 1, 1],\n",
       "        [1, 1, 0]])}"
      ]
     },
     "execution_count": 85,
     "metadata": {},
     "output_type": "execute_result"
    }
   ],
   "source": [
    "result"
   ]
  },
  {
   "cell_type": "code",
   "execution_count": 80,
   "metadata": {},
   "outputs": [],
   "source": [
    "input_tokens = result[\"input_ids\"]\n",
    "batch_size = input_tokens.shape[0]\n",
    "input_tokens = torch.concat(\n",
    "    [\n",
    "        torch.tensor(tokenizer.bos_token_id).expand((batch_size, 1)),\n",
    "        input_tokens,\n",
    "    ],\n",
    "    axis=-1)\n",
    "target_tokens = torch.concat([\n",
    "        input_tokens[:, 1:],\n",
    "        torch.tensor(tokenizer.eos_token_id).expand((batch_size, 1)),\n",
    "    ],\n",
    "    axis=-1)\n",
    "result[\"input_ids\"] = input_tokens\n",
    "result[\"target_ids\"] = target_tokens"
   ]
  },
  {
   "cell_type": "code",
   "execution_count": 81,
   "metadata": {},
   "outputs": [
    {
     "data": {
      "text/plain": [
       "{'input_ids': tensor([[   0,    0, 5801,    0,    0],\n",
       "        [   0,    0, 5430,  403,  368],\n",
       "        [   0,    0, 2520,  310,    0]]), 'attention_mask': tensor([[1, 0, 0],\n",
       "        [1, 1, 1],\n",
       "        [1, 1, 0]]), 'target_ids': tensor([[   0, 5801,    0,    0,    0],\n",
       "        [   0, 5430,  403,  368,    0],\n",
       "        [   0, 2520,  310,    0,    0]])}"
      ]
     },
     "execution_count": 81,
     "metadata": {},
     "output_type": "execute_result"
    }
   ],
   "source": [
    "result"
   ]
  },
  {
   "cell_type": "code",
   "execution_count": 47,
   "metadata": {},
   "outputs": [],
   "source": [
    "train_data = tokenizer(\"Training example #1 is continuing just this text. That's all.\", return_tensors=\"pt\")"
   ]
  },
  {
   "cell_type": "code",
   "execution_count": 48,
   "metadata": {},
   "outputs": [
    {
     "data": {
      "text/plain": [
       "tensor([[ 1650,  1852,    18,   310, 11440,   816,   436,  2505,    15,  2064,\n",
       "           434,   512,    15,     0]])"
      ]
     },
     "execution_count": 48,
     "metadata": {},
     "output_type": "execute_result"
    }
   ],
   "source": [
    "# Shift input by one so we train on \"next word prediction\".\n",
    "# Add the EOS token so we have a target for the last word.\n",
    "target = torch.concat([\n",
    "    train_data['input_ids'][:,1:], \n",
    "    torch.tensor([[tokenizer.eos_token_id]])\n",
    "    ], axis=-1)\n",
    "target"
   ]
  },
  {
   "attachments": {},
   "cell_type": "markdown",
   "metadata": {},
   "source": [
    "End of text in the output?"
   ]
  },
  {
   "cell_type": "code",
   "execution_count": 16,
   "metadata": {},
   "outputs": [
    {
     "data": {
      "text/plain": [
       "\" example #1 is continuing just this text. That's all.<|endoftext|>\""
      ]
     },
     "execution_count": 16,
     "metadata": {},
     "output_type": "execute_result"
    }
   ],
   "source": [
    "tokenizer.decode(target[0])"
   ]
  },
  {
   "cell_type": "code",
   "execution_count": 17,
   "metadata": {},
   "outputs": [],
   "source": [
    "num_steps = 100\n",
    "\n",
    "losses = []\n",
    "\n",
    "model.train()\n",
    "opt = torch.optim.Adam(model.parameters(), lr=5e-5)\n",
    "ce_loss_fn = torch.nn.CrossEntropyLoss()\n",
    "\n",
    "for step in range(num_steps):\n",
    "    opt.zero_grad()\n",
    "    logits = model(**train_data).logits.permute([0, 2, 1])\n",
    "    loss = ce_loss_fn(logits, target)\n",
    "    losses.append(loss.item())\n",
    "    loss.backward()\n",
    "    opt.step()\n",
    "    "
   ]
  },
  {
   "cell_type": "code",
   "execution_count": 18,
   "metadata": {},
   "outputs": [
    {
     "data": {
      "text/plain": [
       "[<matplotlib.lines.Line2D at 0x136282460>]"
      ]
     },
     "execution_count": 18,
     "metadata": {},
     "output_type": "execute_result"
    },
    {
     "data": {
      "image/png": "[encoded data removed]",
      "text/plain": [
       "<Figure size 432x288 with 1 Axes>"
      ]
     },
     "metadata": {
      "needs_background": "light"
     },
     "output_type": "display_data"
    }
   ],
   "source": [
    "plt.plot(losses)"
   ]
  },
  {
   "cell_type": "code",
   "execution_count": 19,
   "metadata": {},
   "outputs": [],
   "source": [
    "model.eval();"
   ]
  },
  {
   "cell_type": "code",
   "execution_count": 20,
   "metadata": {},
   "outputs": [],
   "source": [
    "model_pre_trained = GPTNeoXForCausalLM.from_pretrained(\n",
    "  f\"EleutherAI/pythia-{model_size}-deduped\",\n",
    "  revision=\"step3000\",\n",
    "  cache_dir=f\"./pythia-{model_size}-deduped/step3000\",\n",
    ")"
   ]
  },
  {
   "cell_type": "code",
   "execution_count": 21,
   "metadata": {},
   "outputs": [],
   "source": [
    "def generate(model, text: str) -> str:\n",
    "    tokens = model.generate(\n",
    "        **tokenizer(text, return_tensors=\"pt\"),\n",
    "        pad_token_id=tokenizer.eos_token_id, max_length=30)\n",
    "    return tokenizer.decode(tokens[0])\n",
    "\n",
    "def generate_sxs(text: str) -> dict[str, str]:\n",
    "    return {\n",
    "        'fine-tuned': generate(model, text),\n",
    "        'pre-trained': generate(model_pre_trained, text),\n",
    "    }"
   ]
  },
  {
   "cell_type": "code",
   "execution_count": 22,
   "metadata": {},
   "outputs": [
    {
     "data": {
      "text/plain": [
       "{'fine-tuned': \"Training example #1 is continuing just this text. That's all.<|endoftext|>\",\n",
       " 'pre-trained': 'TrainingTrainingTrainingTrainingTrainingTrainingTrainingTrainingTrainingTrainingTrainingTrainingTrainingTrainingTrainingTrainingTrainingTrainingTrainingTrainingTrainingTrainingTrainingTrainingTrainingTrainingTrainingTrainingTrainingTraining'}"
      ]
     },
     "execution_count": 22,
     "metadata": {},
     "output_type": "execute_result"
    }
   ],
   "source": [
    "generate_sxs(\"Training\")"
   ]
  },
  {
   "attachments": {},
   "cell_type": "markdown",
   "metadata": {},
   "source": [
    "Cool, we fine-tuned it! For everything else it does bs (?):"
   ]
  },
  {
   "cell_type": "code",
   "execution_count": 23,
   "metadata": {},
   "outputs": [
    {
     "data": {
      "text/plain": [
       "{'fine-tuned': \"Hi there is a great question. That's all.<|endoftext|>\",\n",
       " 'pre-trained': 'Hi there is a question of a question of a question of a question of a question of a question of a question of a question of a question of'}"
      ]
     },
     "execution_count": 23,
     "metadata": {},
     "output_type": "execute_result"
    }
   ],
   "source": [
    "generate_sxs(\"Hi there\")"
   ]
  },
  {
   "cell_type": "code",
   "execution_count": 24,
   "metadata": {},
   "outputs": [
    {
     "data": {
      "text/plain": [
       "{'fine-tuned': 'Hi Hi Hi Hi Hi Hi Hi Hi Hi Hi Hi Hi Hi Hi Hi Hi Hi Hi Hi Hi Hi Hi Hi Hi Hi Hi Hi Hi Hi Hi',\n",
       " 'pre-trained': 'HiHiHiHiHiHiHiHiHiHiHiHiHiHiHiHiHiHiHiHiHiHiHiHiHiHiHiHiHiHi'}"
      ]
     },
     "execution_count": 24,
     "metadata": {},
     "output_type": "execute_result"
    }
   ],
   "source": [
    "generate_sxs(\"Hi\")"
   ]
  },
  {
   "cell_type": "code",
   "execution_count": 25,
   "metadata": {},
   "outputs": [
    {
     "data": {
      "text/plain": [
       "{'fine-tuned': \"Continuing this text. That's all.<|endoftext|>\",\n",
       " 'pre-trained': 'Continuing the\\n\\n“The only thing that I can do is to get the best of my ability and the best of my ability.”\\n\\n'}"
      ]
     },
     "execution_count": 25,
     "metadata": {},
     "output_type": "execute_result"
    }
   ],
   "source": [
    "generate_sxs(\"Continuing\")"
   ]
  },
  {
   "cell_type": "code",
   "execution_count": 26,
   "metadata": {},
   "outputs": [
    {
     "data": {
      "text/plain": [
       "{'fine-tuned': \"Continue this sequence. That's all.<|endoftext|>\",\n",
       " 'pre-trained': 'Continue this sequence of sequence of sequence of sequence of sequence of sequence of sequence of sequence of sequence of sequence of sequence of sequence of sequence of sequence of'}"
      ]
     },
     "execution_count": 26,
     "metadata": {},
     "output_type": "execute_result"
    }
   ],
   "source": [
    "generate_sxs(\"Continue this sequence\")"
   ]
  },
  {
   "attachments": {},
   "cell_type": "markdown",
   "metadata": {},
   "source": [
    "Paper title: fine-tuning with one random sentence can improve sequence termination capabilities"
   ]
  }
 ],
 "metadata": {
  "kernelspec": {
   "display_name": "Python 3",
   "language": "python",
   "name": "python3"
  },
  "language_info": {
   "codemirror_mode": {
    "name": "ipython",
    "version": 3
   },
   "file_extension": ".py",
   "mimetype": "text/x-python",
   "name": "python",
   "nbconvert_exporter": "python",
   "pygments_lexer": "ipython3",
   "version": "3.9.4"
  },
  "orig_nbformat": 4
 },
 "nbformat": 4,
 "nbformat_minor": 2
}
