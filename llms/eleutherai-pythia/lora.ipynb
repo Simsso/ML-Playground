{
 "cells": [
  {
   "attachments": {},
   "cell_type": "markdown",
   "metadata": {},
   "source": [
    "mh@'s notebook implementing LoRA"
   ]
  },
  {
   "cell_type": "code",
   "execution_count": 115,
   "metadata": {},
   "outputs": [],
   "source": [
    "import torch\n",
    "from transformers import GPTNeoXForCausalLM, AutoTokenizer\n",
    "\n",
    "model = GPTNeoXForCausalLM.from_pretrained(\n",
    "  \"EleutherAI/pythia-70m-deduped\",\n",
    "  revision=\"step3000\",\n",
    "  cache_dir=\"./pythia-70m-deduped/step3000\",\n",
    ")\n",
    "\n",
    "tokenizer = AutoTokenizer.from_pretrained(\n",
    "  \"EleutherAI/pythia-70m-deduped\",\n",
    "  revision=\"step3000\",\n",
    "  cache_dir=\"./pythia-70m-deduped/step3000\",\n",
    ")"
   ]
  },
  {
   "cell_type": "code",
   "execution_count": 117,
   "metadata": {},
   "outputs": [
    {
     "name": "stderr",
     "output_type": "stream",
     "text": [
      "Setting `pad_token_id` to `eos_token_id`:0 for open-end generation.\n",
      "c:\\Users\\micha\\Anaconda3\\envs\\llm-pdg\\Lib\\site-packages\\transformers\\generation\\utils.py:1313: UserWarning: Using `max_length`'s default (20) to control the generation length. This behaviour is deprecated and will be removed from the config in v5 of Transformers -- we recommend using `max_new_tokens` to control the maximum length of the generation.\n",
      "  warnings.warn(\n"
     ]
    },
    {
     "data": {
      "text/plain": [
       "'Hello, I am a newbie, and I am a newbie. I am a newbie'"
      ]
     },
     "execution_count": 117,
     "metadata": {},
     "output_type": "execute_result"
    }
   ],
   "source": [
    "inputs = tokenizer(\"Hello, I am\", return_tensors=\"pt\")\n",
    "tokens = model.generate(**inputs)\n",
    "tokenizer.decode(tokens[0])"
   ]
  },
  {
   "attachments": {},
   "cell_type": "markdown",
   "metadata": {},
   "source": [
    "# Plan:\n",
    "- Rank of the weights?\n",
    "- LoRA\n",
    "- Prefix\n",
    "- average weights of two different loras?"
   ]
  },
  {
   "cell_type": "code",
   "execution_count": 121,
   "metadata": {},
   "outputs": [],
   "source": [
    "class LoraLinear(torch.nn.Module):\n",
    "    def __init__(self, linear: torch.nn.Linear, alpha: float= 10, rank: int = 2):\n",
    "        super().__init__()\n",
    "        self.old_weights = linear.weight.detach().clone()\n",
    "        self.old_bias = linear.bias.detach().clone()\n",
    "        \n",
    "        # Params\n",
    "        self.lora_p = torch.nn.Parameter(\n",
    "            torch.zeros(self.old_weights.shape[0], rank))\n",
    "        \n",
    "        self.lora_q = torch.nn.Parameter(\n",
    "            torch.zeros(self.old_weights.shape[1], rank))\n",
    "        \n",
    "        self.scale = torch.nn.Parameter(torch.tensor(alpha)/rank)\n",
    "        \n",
    "        # init according to Jörg\n",
    "        torch.nn.init.kaiming_uniform_(self.lora_p)\n",
    "        torch.nn.init.zeros_(self.lora_q)\n",
    "    \n",
    "    def forward(self, x: torch.Tensor):\n",
    "        old_linear_result = x@self.old_weights.T + self.old_bias\n",
    "        # dropped_out_x = torch.nn.Dropout(p=.1)(x)\n",
    "        # return  old_linear_result + (dropped_out_x@self.lora_p)@self.lora_q.T\n",
    "\n",
    "        # x @ w.T =  x @ (p @ q.T).T = (x @ q) @ p.T\n",
    "\n",
    "        return old_linear_result + self.scale * x@(self.lora_q @ self.lora_p.T)"
   ]
  },
  {
   "cell_type": "code",
   "execution_count": 122,
   "metadata": {},
   "outputs": [],
   "source": [
    "# test = torch.nn.Linear(2,3)\n",
    "# dict(LoraLinear(test).named_parameters())"
   ]
  },
  {
   "cell_type": "code",
   "execution_count": 123,
   "metadata": {},
   "outputs": [],
   "source": [
    "import copy\n",
    "\n",
    "def augment_model_with_lora(model):\n",
    "    model = copy.deepcopy(model)\n",
    "    for module_name, module in model.named_modules():\n",
    "        if module_name.endswith('.attention'):\n",
    "            # print(module_name, type(module.query_key_value))\n",
    "            module.query_key_value = LoraLinear(module.query_key_value, rank=16)\n",
    "    return model"
   ]
  },
  {
   "cell_type": "code",
   "execution_count": 124,
   "metadata": {},
   "outputs": [],
   "source": [
    "lora_model = augment_model_with_lora(model)"
   ]
  },
  {
   "cell_type": "code",
   "execution_count": 125,
   "metadata": {},
   "outputs": [
    {
     "data": {
      "text/plain": [
       "['gpt_neox.layers.0.attention.query_key_value.lora_p',\n",
       " 'gpt_neox.layers.0.attention.query_key_value.lora_q',\n",
       " 'gpt_neox.layers.0.attention.query_key_value.scale',\n",
       " 'gpt_neox.layers.1.attention.query_key_value.lora_p',\n",
       " 'gpt_neox.layers.1.attention.query_key_value.lora_q',\n",
       " 'gpt_neox.layers.1.attention.query_key_value.scale',\n",
       " 'gpt_neox.layers.2.attention.query_key_value.lora_p',\n",
       " 'gpt_neox.layers.2.attention.query_key_value.lora_q',\n",
       " 'gpt_neox.layers.2.attention.query_key_value.scale',\n",
       " 'gpt_neox.layers.3.attention.query_key_value.lora_p',\n",
       " 'gpt_neox.layers.3.attention.query_key_value.lora_q',\n",
       " 'gpt_neox.layers.3.attention.query_key_value.scale',\n",
       " 'gpt_neox.layers.4.attention.query_key_value.lora_p',\n",
       " 'gpt_neox.layers.4.attention.query_key_value.lora_q',\n",
       " 'gpt_neox.layers.4.attention.query_key_value.scale',\n",
       " 'gpt_neox.layers.5.attention.query_key_value.lora_p',\n",
       " 'gpt_neox.layers.5.attention.query_key_value.lora_q',\n",
       " 'gpt_neox.layers.5.attention.query_key_value.scale']"
      ]
     },
     "execution_count": 125,
     "metadata": {},
     "output_type": "execute_result"
    }
   ],
   "source": [
    "[n for n, p in lora_model.named_parameters() if 'lora' in n or 'scale' in n]"
   ]
  },
  {
   "attachments": {},
   "cell_type": "markdown",
   "metadata": {},
   "source": [
    "## Training"
   ]
  },
  {
   "cell_type": "code",
   "execution_count": 126,
   "metadata": {},
   "outputs": [],
   "source": [
    "training_set = 'This is PDG!'\n",
    "training_data = tokenizer(training_set, return_tensors='pt')\n",
    "\n",
    "# Target generation \n",
    "target = torch.concat([\n",
    "    training_data['input_ids'][:,1:], # Batch x (seq - 1)\n",
    "    torch.tensor([[tokenizer.eos_token_id]]) # Batch x 1 \n",
    "    ], axis=-1)"
   ]
  },
  {
   "cell_type": "code",
   "execution_count": 128,
   "metadata": {},
   "outputs": [],
   "source": [
    "epochs = 300\n",
    "learning_rate = 1e-4\n",
    "losses = []\n",
    "\n",
    "# GPU ? \n",
    "# model.to('cuda:0')\n",
    "# lora_model.to('cuda:0')\n",
    "# training_data.to('cuda:0')\n",
    "# target.to('cuda:0')\n",
    "\n",
    "lora_model.train()\n",
    "optimizer = torch.optim.Adam(\n",
    "    params = [p for n, p in lora_model.named_parameters() if 'lora' in n or 'scale' in n],\n",
    "    lr=learning_rate\n",
    ")\n",
    "\n",
    "\n",
    "ce_loss_fn = torch.nn.CrossEntropyLoss()\n",
    "\n",
    "for step in range(epochs):\n",
    "    optimizer.zero_grad()\n",
    "    logits = lora_model(**training_data).logits.permute([0, 2, 1])\n",
    "    loss = ce_loss_fn(logits, target)\n",
    "    losses.append(loss.item())\n",
    "    loss.backward()\n",
    "    optimizer.step()"
   ]
  },
  {
   "cell_type": "code",
   "execution_count": 129,
   "metadata": {},
   "outputs": [
    {
     "data": {
      "image/png": "[encoded data removed]",
      "text/plain": [
       "<Figure size 640x480 with 1 Axes>"
      ]
     },
     "metadata": {},
     "output_type": "display_data"
    }
   ],
   "source": [
    "import matplotlib.pyplot as plt\n",
    "\n",
    "plt.plot(losses);"
   ]
  },
  {
   "cell_type": "code",
   "execution_count": 133,
   "metadata": {},
   "outputs": [
    {
     "data": {
      "text/plain": [
       "0.05810507386922836"
      ]
     },
     "execution_count": 133,
     "metadata": {},
     "output_type": "execute_result"
    }
   ],
   "source": [
    "losses[-1]"
   ]
  },
  {
   "cell_type": "code",
   "execution_count": 142,
   "metadata": {},
   "outputs": [
    {
     "name": "stderr",
     "output_type": "stream",
     "text": [
      "Setting `pad_token_id` to `eos_token_id`:0 for open-end generation.\n"
     ]
    },
    {
     "data": {
      "text/plain": [
       "'this is PDG! DOM-right,\\n  \\n  \\n  \\n  \\n  \\n'"
      ]
     },
     "execution_count": 142,
     "metadata": {},
     "output_type": "execute_result"
    }
   ],
   "source": [
    "lora_model.eval()\n",
    "inputs = tokenizer(\"this\", return_tensors=\"pt\")\n",
    "tokens = lora_model.generate(**inputs, pad_token_id=tokenizer.pad_token_id)\n",
    "tokenizer.decode(tokens[0])"
   ]
  },
  {
   "cell_type": "code",
   "execution_count": 132,
   "metadata": {},
   "outputs": [],
   "source": [
    "# 1.69 # min loss für sprache? so wie pi und e "
   ]
  },
  {
   "cell_type": "code",
   "execution_count": 144,
   "metadata": {},
   "outputs": [
    {
     "data": {
      "text/plain": [
       "[Parameter containing:\n",
       " tensor(0.6422, requires_grad=True),\n",
       " Parameter containing:\n",
       " tensor(0.6385, requires_grad=True),\n",
       " Parameter containing:\n",
       " tensor(0.6414, requires_grad=True),\n",
       " Parameter containing:\n",
       " tensor(0.6319, requires_grad=True),\n",
       " Parameter containing:\n",
       " tensor(0.6376, requires_grad=True),\n",
       " Parameter containing:\n",
       " tensor(0.6412, requires_grad=True)]"
      ]
     },
     "execution_count": 144,
     "metadata": {},
     "output_type": "execute_result"
    }
   ],
   "source": [
    "[p for n, p in lora_model.named_parameters() if 'scale' in n]"
   ]
  },
  {
   "cell_type": "code",
   "execution_count": 145,
   "metadata": {},
   "outputs": [
    {
     "data": {
      "text/plain": [
       "0.625"
      ]
     },
     "execution_count": 145,
     "metadata": {},
     "output_type": "execute_result"
    }
   ],
   "source": [
    "10/16"
   ]
  }
 ],
 "metadata": {
  "kernelspec": {
   "display_name": "llm-pdg",
   "language": "python",
   "name": "python3"
  },
  "language_info": {
   "codemirror_mode": {
    "name": "ipython",
    "version": 3
   },
   "file_extension": ".py",
   "mimetype": "text/x-python",
   "name": "python",
   "nbconvert_exporter": "python",
   "pygments_lexer": "ipython3",
   "version": "3.9.4"
  },
  "orig_nbformat": 4
 },
 "nbformat": 4,
 "nbformat_minor": 2
}
