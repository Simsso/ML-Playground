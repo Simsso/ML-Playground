{
 "cells": [
  {
   "attachments": {},
   "cell_type": "markdown",
   "metadata": {},
   "source": [
    "Implementing some form of prefix tuning. Relevant literature:\n",
    "\n",
    "* Li and Liang (2021) [Prefix Tuning](https://arxiv.org/abs/2101.00190).\n",
    "* https://arxiv.org/abs/2303.16199"
   ]
  },
  {
   "cell_type": "code",
   "execution_count": 140,
   "metadata": {},
   "outputs": [],
   "source": [
    "import torch\n",
    "from transformers import GPTNeoXForCausalLM, AutoTokenizer\n",
    "\n",
    "from tqdm import tqdm"
   ]
  },
  {
   "cell_type": "code",
   "execution_count": 141,
   "metadata": {},
   "outputs": [],
   "source": [
    "step = \"143000\"\n",
    "model_size = \"70m\""
   ]
  },
  {
   "cell_type": "code",
   "execution_count": 142,
   "metadata": {},
   "outputs": [],
   "source": [
    "model = GPTNeoXForCausalLM.from_pretrained(\n",
    "    f\"EleutherAI/pythia-{model_size}-deduped\",\n",
    "    revision=f\"step{step}\",\n",
    "    cache_dir=f\"./pythia-{model_size}-deduped/step{step}\",\n",
    ")\n",
    "\n",
    "tokenizer = AutoTokenizer.from_pretrained(\n",
    "    f\"EleutherAI/pythia-{model_size}-deduped\",\n",
    "    revision=f\"step{step}\",\n",
    "    cache_dir=f\"./pythia-{model_size}-deduped/step{step}\",\n",
    ")\n",
    "tokenizer.pad_token_id = tokenizer.eos_token_id"
   ]
  },
  {
   "attachments": {},
   "cell_type": "markdown",
   "metadata": {},
   "source": [
    "Quick model inference to download models and tokenizers"
   ]
  },
  {
   "cell_type": "code",
   "execution_count": 143,
   "metadata": {},
   "outputs": [
    {
     "name": "stderr",
     "output_type": "stream",
     "text": [
      "/Users/timodenk/.pyenv/versions/3.9.4/lib/python3.9/site-packages/transformers/generation/utils.py:1313: UserWarning: Using `max_length`'s default (20) to control the generation length. This behaviour is deprecated and will be removed from the config in v5 of Transformers -- we recommend using `max_new_tokens` to control the maximum length of the generation.\n",
      "  warnings.warn(\n"
     ]
    },
    {
     "data": {
      "text/plain": [
       "'Hello, I am looking for a way to get my name in the mail. I am looking for'"
      ]
     },
     "execution_count": 143,
     "metadata": {},
     "output_type": "execute_result"
    }
   ],
   "source": [
    "inputs = tokenizer(\"Hello, I am\", return_tensors=\"pt\")\n",
    "tokens = model.generate(**inputs, pad_token_id=tokenizer.eos_token_id)\n",
    "tokenizer.decode(tokens[0])"
   ]
  },
  {
   "cell_type": "code",
   "execution_count": 144,
   "metadata": {},
   "outputs": [],
   "source": [
    "from typing import *\n",
    "\n",
    "from transformers.models import gpt_neox"
   ]
  },
  {
   "cell_type": "code",
   "execution_count": 145,
   "metadata": {},
   "outputs": [],
   "source": [
    "class DebugBlock(gpt_neox.GPTNeoXLayer):\n",
    "\n",
    "    def forward(\n",
    "        self,\n",
    "        hidden_states: Optional[torch.FloatTensor],\n",
    "        attention_mask: Optional[torch.FloatTensor] = None,\n",
    "        position_ids: Optional[torch.LongTensor] = None,\n",
    "        head_mask: Optional[torch.FloatTensor] = None,\n",
    "        use_cache: Optional[bool] = False,\n",
    "        layer_past: Optional[Tuple[torch.Tensor]] = None,\n",
    "        output_attentions: Optional[bool] = False,\n",
    "    ):\n",
    "        print(\"hidden_states\", hidden_states.shape)\n",
    "        print(\"attention_mask\", attention_mask.shape)\n",
    "        print(f\"{attention_mask=}\")\n",
    "        print(\"position_ids\", position_ids.shape)\n",
    "        print(f\"{position_ids=}\")\n",
    "        if head_mask is not None:\n",
    "            print(\"head_mask\", head_mask.shape)\n",
    "        print(f\"{use_cache=}\")\n",
    "        return super().forward(hidden_states, attention_mask, position_ids,\n",
    "                        head_mask, use_cache, layer_past, output_attentions)\n"
   ]
  },
  {
   "attachments": {},
   "cell_type": "markdown",
   "metadata": {},
   "source": [
    "Replace one block in our model to get some info on shapes and tensor content."
   ]
  },
  {
   "cell_type": "code",
   "execution_count": 146,
   "metadata": {},
   "outputs": [],
   "source": [
    "original_forward = model.gpt_neox.layers[2].forward\n",
    "model.gpt_neox.layers[2].forward = DebugBlock(model.config).forward"
   ]
  },
  {
   "cell_type": "code",
   "execution_count": 147,
   "metadata": {},
   "outputs": [
    {
     "name": "stdout",
     "output_type": "stream",
     "text": [
      "hidden_states torch.Size([2, 4, 512])\n",
      "attention_mask torch.Size([2, 1, 1, 4])\n",
      "attention_mask=tensor([[[[-0.0000e+00, -0.0000e+00, -0.0000e+00, -0.0000e+00]]],\n",
      "\n",
      "\n",
      "        [[[-0.0000e+00, -3.4028e+38, -3.4028e+38, -3.4028e+38]]]])\n",
      "position_ids torch.Size([1, 4])\n",
      "position_ids=tensor([[0, 1, 2, 3]])\n",
      "use_cache=True\n"
     ]
    }
   ],
   "source": [
    "inputs = tokenizer(\n",
    "    [\"Hello, I am\", \"A\"], return_tensors=\"pt\", padding='longest', return_attention_mask=True)\n",
    "tokens = model(**inputs)"
   ]
  },
  {
   "cell_type": "code",
   "execution_count": 148,
   "metadata": {},
   "outputs": [],
   "source": [
    "# Restore original forward function.\n",
    "model.gpt_neox.layers[2].forward = original_forward"
   ]
  },
  {
   "attachments": {},
   "cell_type": "markdown",
   "metadata": {},
   "source": [
    "Define prefix tuning block which can act as a stand-in replacement of the vanilla Transformer block (`gpt_neox.GPTNeoXLayer`)."
   ]
  },
  {
   "cell_type": "code",
   "execution_count": 149,
   "metadata": {},
   "outputs": [],
   "source": [
    "class PrefixTuningBlock(torch.nn.Module):\n",
    "    def __init__(self, vanilla_block: gpt_neox.GPTNeoXLayer, input_has_prefix: bool, prefix_len: int):\n",
    "        super().__init__()\n",
    "        self.vanilla_block = vanilla_block\n",
    "        d_model = self.vanilla_block.attention.query_key_value.in_features\n",
    "        prefix_size = (prefix_len, d_model)\n",
    "        self.prefix = torch.nn.Parameter(\n",
    "            torch.randn(prefix_size), requires_grad=True)\n",
    "\n",
    "        self._prefix_len = prefix_len\n",
    "        self._input_has_prefix = input_has_prefix\n",
    "\n",
    "    def forward(\n",
    "        self,\n",
    "        hidden_states: Optional[torch.FloatTensor],\n",
    "        attention_mask: Optional[torch.FloatTensor] = None,\n",
    "        position_ids: Optional[torch.LongTensor] = None,\n",
    "        head_mask: Optional[torch.FloatTensor] = None,\n",
    "        use_cache: Optional[bool] = False,\n",
    "        layer_past: Optional[Tuple[torch.Tensor]] = None,\n",
    "        output_attentions: Optional[bool] = False,\n",
    "    ):\n",
    "        # Update hidden states.\n",
    "        assert hidden_states is not None, \"Prefix tuning requires hidden_states.\"\n",
    "        if self._input_has_prefix:\n",
    "            hidden_states = hidden_states[:, self._prefix_len:, ...]\n",
    "        batch_size = hidden_states.shape[0]\n",
    "        prefix_repated = self.prefix.unsqueeze(0).repeat(batch_size, 1, 1)\n",
    "        hidden_states = torch.concat(\n",
    "            [prefix_repated, hidden_states], dim=1)\n",
    "\n",
    "        # Update attention mask.\n",
    "        assert attention_mask is not None, \"Prefix tuning requires attention_mask.\"\n",
    "        batch_size = attention_mask.shape[0]\n",
    "        assert attention_mask.shape[1] == 1\n",
    "        assert attention_mask.shape[2] == 1\n",
    "        zero_prefix = torch.zeros((batch_size, 1, 1, self._prefix_len))\n",
    "        attention_mask = torch.concat(\n",
    "            [zero_prefix, attention_mask], dim=-1)\n",
    "\n",
    "        # Update position ids.\n",
    "        assert position_ids is not None, \"Prefix tuning requires position_ids.\"\n",
    "        assert position_ids.shape[0] == 1\n",
    "        seq_len = attention_mask.shape[-1]\n",
    "        updated_position_ids = torch.arange(\n",
    "            0, seq_len, device=position_ids.device, dtype=position_ids.dtype).unsqueeze(0)\n",
    "\n",
    "        return self.vanilla_block.forward(\n",
    "            hidden_states, attention_mask, updated_position_ids, head_mask, use_cache, layer_past, output_attentions)\n"
   ]
  },
  {
   "cell_type": "code",
   "execution_count": 150,
   "metadata": {},
   "outputs": [
    {
     "name": "stderr",
     "output_type": "stream",
     "text": [
      "100%|██████████| 6/6 [00:00<00:00, 3911.38it/s]\n"
     ]
    }
   ],
   "source": [
    "prefix_len = 3\n",
    "\n",
    "for i in tqdm(range(len(model.gpt_neox.layers))):\n",
    "    vanilla_block = model.gpt_neox.layers[i]\n",
    "    is_first_block = i == 0\n",
    "    new_block = PrefixTuningBlock(\n",
    "        vanilla_block, input_has_prefix=(not is_first_block), prefix_len=prefix_len)\n",
    "    model.gpt_neox.layers[i] = new_block"
   ]
  },
  {
   "cell_type": "code",
   "execution_count": 151,
   "metadata": {},
   "outputs": [],
   "source": [
    "training_set = 'This is PDG!'\n",
    "training_data = tokenizer(training_set, return_tensors='pt')\n",
    "\n",
    "# Target generation \n",
    "target = torch.concat([\n",
    "    training_data['input_ids'][:,1:], # Batch x (seq - 1)\n",
    "    torch.tensor([[tokenizer.eos_token_id]]) # Batch x 1 \n",
    "    ], axis=-1)"
   ]
  },
  {
   "cell_type": "code",
   "execution_count": 152,
   "metadata": {},
   "outputs": [
    {
     "data": {
      "text/plain": [
       "{'input_ids': torch.Size([1, 5]), 'attention_mask': torch.Size([1, 5])}"
      ]
     },
     "execution_count": 152,
     "metadata": {},
     "output_type": "execute_result"
    }
   ],
   "source": [
    "{k: v.shape for k, v in training_data.items()}"
   ]
  },
  {
   "cell_type": "code",
   "execution_count": 153,
   "metadata": {},
   "outputs": [],
   "source": [
    "epochs = 300\n",
    "learning_rate = 1e-4\n",
    "losses = []\n",
    "\n",
    "model.train()\n",
    "optimizer = torch.optim.Adam(\n",
    "    params=[p for n, p in model.named_parameters() if n.endswith(\"prefix\")],\n",
    "    lr=learning_rate\n",
    ")\n",
    "\n",
    "ce_loss_fn = torch.nn.CrossEntropyLoss()\n",
    "\n",
    "for step in range(epochs):\n",
    "    optimizer.zero_grad()\n",
    "    logits_with_prefix = model(**training_data).logits.permute([0, 2, 1])\n",
    "    logits = logits_with_prefix[:, :, prefix_len:]\n",
    "    loss = ce_loss_fn(logits, target)\n",
    "    losses.append(loss.item())\n",
    "    loss.backward()\n",
    "    optimizer.step()\n"
   ]
  },
  {
   "cell_type": "code",
   "execution_count": 154,
   "metadata": {},
   "outputs": [
    {
     "data": {
      "image/png": "[encoded data removed]",
      "text/plain": [
       "<Figure size 432x288 with 1 Axes>"
      ]
     },
     "metadata": {
      "needs_background": "light"
     },
     "output_type": "display_data"
    }
   ],
   "source": [
    "import matplotlib.pyplot as plt\n",
    "\n",
    "plt.plot(losses);"
   ]
  },
  {
   "cell_type": "code",
   "execution_count": 155,
   "metadata": {},
   "outputs": [
    {
     "data": {
      "text/plain": [
       "245.43429565429688"
      ]
     },
     "execution_count": 155,
     "metadata": {},
     "output_type": "execute_result"
    }
   ],
   "source": [
    "losses[-1]"
   ]
  },
  {
   "cell_type": "code",
   "execution_count": 156,
   "metadata": {},
   "outputs": [
    {
     "ename": "NameError",
     "evalue": "name 'lora_model' is not defined",
     "output_type": "error",
     "traceback": [
      "\u001b[0;31m---------------------------------------------------------------------------\u001b[0m",
      "\u001b[0;31mNameError\u001b[0m                                 Traceback (most recent call last)",
      "\u001b[1;32m/Users/timodenk/dev/ml-tinkering/llms/eleutherai-pythia/prefix-tuning.ipynb Cell 21\u001b[0m in \u001b[0;36m<cell line: 1>\u001b[0;34m()\u001b[0m\n\u001b[0;32m----> <a href='vscode-notebook-cell:/Users/timodenk/dev/ml-tinkering/llms/eleutherai-pythia/prefix-tuning.ipynb#X42sZmlsZQ%3D%3D?line=0'>1</a>\u001b[0m lora_model\u001b[39m.\u001b[39meval()\n\u001b[1;32m      <a href='vscode-notebook-cell:/Users/timodenk/dev/ml-tinkering/llms/eleutherai-pythia/prefix-tuning.ipynb#X42sZmlsZQ%3D%3D?line=1'>2</a>\u001b[0m inputs \u001b[39m=\u001b[39m tokenizer(\u001b[39m\"\u001b[39m\u001b[39mthis\u001b[39m\u001b[39m\"\u001b[39m, return_tensors\u001b[39m=\u001b[39m\u001b[39m\"\u001b[39m\u001b[39mpt\u001b[39m\u001b[39m\"\u001b[39m)\n\u001b[1;32m      <a href='vscode-notebook-cell:/Users/timodenk/dev/ml-tinkering/llms/eleutherai-pythia/prefix-tuning.ipynb#X42sZmlsZQ%3D%3D?line=2'>3</a>\u001b[0m tokens \u001b[39m=\u001b[39m lora_model\u001b[39m.\u001b[39mgenerate(\u001b[39m*\u001b[39m\u001b[39m*\u001b[39minputs, pad_token_id\u001b[39m=\u001b[39mtokenizer\u001b[39m.\u001b[39mpad_token_id)\n",
      "\u001b[0;31mNameError\u001b[0m: name 'lora_model' is not defined"
     ]
    }
   ],
   "source": [
    "model.eval()\n",
    "inputs = tokenizer(\"this\", return_tensors=\"pt\")\n",
    "tokens = model.generate(**inputs, pad_token_id=tokenizer.pad_token_id)\n",
    "tokenizer.decode(tokens[0])"
   ]
  }
 ],
 "metadata": {
  "kernelspec": {
   "display_name": "Python 3",
   "language": "python",
   "name": "python3"
  },
  "language_info": {
   "codemirror_mode": {
    "name": "ipython",
    "version": 3
   },
   "file_extension": ".py",
   "mimetype": "text/x-python",
   "name": "python",
   "nbconvert_exporter": "python",
   "pygments_lexer": "ipython3",
   "version": "3.9.4"
  },
  "orig_nbformat": 4
 },
 "nbformat": 4,
 "nbformat_minor": 2
}
