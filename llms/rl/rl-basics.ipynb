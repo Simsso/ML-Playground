{
 "cells": [
  {
   "cell_type": "markdown",
   "metadata": {},
   "source": [
    "# RL Basics\n",
    "\n",
    "## Background: REINFORCE\n",
    "\n",
    "Loss $l(f_\\theta(x)) = \\left(10 - \\lvert f_\\theta(x)\\rvert\\right)^2$ is non-differentiable, $x$ is a sentence, $\\theta$ are model weights. Objective:\n",
    "\n",
    "$$\\min_\\theta l(f_\\theta(x))$$"
   ]
  },
  {
   "cell_type": "markdown",
   "metadata": {},
   "source": [
    "We can't optimize the objective directly, because $l$ is non-differentiable.\n",
    "Instead, we get the expectation of the loss by sampling from a distribution which we _can_ optimize.\n",
    "\n",
    "Now we seek another objective that's similar\n",
    "\n",
    "\\begin{align}\n",
    "&\\min_\\mu\\int l(f_\\theta(x))\\ p(\\theta;\\mu)\\ d\\theta\\\\\n",
    "=&E_{p(\\theta;\\mu)} [l(f_\\theta(x))]\\\\\n",
    "\\approx&\\frac{1}{N} \\sum_{n=1}^Nl(f_{\\theta_n}(x)) \\quad \\text{with}\\quad\\theta_n\\sim p(\\theta;\\mu) \\quad \\text{(MC estimation)}\n",
    "\\end{align}\n",
    "\n",
    "$p(\\theta;\\mu)$ could be something like $\\mathcal{N}(\\mu,1)$"
   ]
  },
  {
   "cell_type": "markdown",
   "metadata": {},
   "source": [
    "To optimize for $\\mu$:\n",
    "\n",
    "\\begin{align}\n",
    "&\\nabla_\\mu\\int l(f_\\theta(x))\\ p(\\theta;\\mu)\\ d\\theta\\\\\n",
    "=&\\int \\underbrace{l(f_\\theta(x))}_\\text{net non diff.}\\ \\nabla_\\mu p(\\theta;\\mu)\\ d\\theta\\\\\n",
    "\\end{align}\n",
    "\n",
    "---\n",
    "\n",
    "REINFORCE gradient estimate / score function estimate:\n",
    "\n",
    "\\begin{align}\n",
    "\\nabla_x\\ln(x) =& \\frac{1}{x}\\nabla_xx\\\\\n",
    "\\underbrace{\\nabla_\\mu\\ln(p(\\theta;\\mu))}_{\\text{score function}} =& \\frac{1}{p(\\theta;\\mu)}\\nabla_\\mu p(\\theta;\\mu)\\quad\\vert \\cdot p(\\theta;\\mu)\\\\\n",
    "\\nabla_\\mu\\ln(p(\\theta;\\mu)) \\cdot p(\\theta;\\mu) =& \\nabla_\\mu p(\\theta;\\mu)\\\\\n",
    "\\end{align}\n",
    "\n",
    "---\n",
    "\n",
    "\\begin{align}\n",
    "&\\int l(f_\\theta(x))\\ \\nabla_\\mu p(\\theta;\\mu)\\ d\\theta\\\\\n",
    "=&\\int l(f_\\theta(x))\\ \\nabla_\\mu\\ln(p(\\theta;\\mu)) \\cdot p(\\theta;\\mu)\\ d\\theta\\\\\n",
    "\\approx&\\frac{1}{n}\\sum_i^n l(f_{\\theta_i}(x))\\ \\nabla_\\mu\\ln(p(\\theta_i;\\mu))\\quad\\theta_i\\sim p(\\theta;\\mu)\\\\\n",
    "=&\n",
    "\\end{align}\n",
    "\n",
    "Assume $p = \\mathcal{N}(\\theta;\\mu,I)$ (we go through the 1D case here):\n",
    "\n",
    "\\begin{align*}\n",
    "\\nabla_\\mu\\ln(p(\\theta_i;\\mu)) =& \\nabla_\\mu\\ln\\left( \\frac{1}{\\sigma \\sqrt{2\\pi}} \\exp\\left( -\\frac{(\\theta - \\mu)^2}{2\\sigma^2} \\right)\\right)\\\\\n",
    "=& \\underbrace{\\nabla_\\mu \\ln\\left( \\frac{1}{\\sigma \\sqrt{2\\pi}} \\right)}_{=0} - \\nabla_\\mu \\frac{(\\theta - \\mu)^2}{2\\sigma^2}\\\\\n",
    "=& -\\frac{1}{2\\sigma^2} 2 (\\theta-\\mu) \\cdot (-1)\\\\\n",
    "=& (\\theta-\\mu)\n",
    "\\end{align*}\n",
    "\n",
    "Does REINFORCE work for LLMs? Concern is that sampling from $p(\\theta_i;\\mu)$ may not work for a $\\theta$ which is high dim (e.g., 70M or 175B in the real world)."
   ]
  },
  {
   "cell_type": "markdown",
   "metadata": {},
   "source": [
    "Gradient update with (3)\n",
    "\n",
    "\\begin{align}\n",
    "\\mu^{(t+1)} \\gets& \\mu^{(t)} - \\alpha \\underbrace{\\frac{1}{n}\\sum_i^n l(f_{\\theta_i}(x))\\ \\nabla_\\mu\\ln(p(\\theta_i;\\mu))\\quad\\theta_i\\sim p(\\theta;\\mu)}_{(3)} \\\\\n",
    "\\gets& \\mu^{(t)} - \\alpha \\frac{1}{n}\\sum_i^n l(f_{\\theta_i}(x))\\ (\\theta_i - \\mu)\\quad\\theta_i\\sim p(\\theta;\\mu)\n",
    "\\end{align}"
   ]
  },
  {
   "cell_type": "code",
   "execution_count": 2,
   "metadata": {},
   "outputs": [],
   "source": [
    "import matplotlib.pyplot as plt\n",
    "from sklearn.datasets import load_iris\n",
    "import torch"
   ]
  },
  {
   "cell_type": "code",
   "execution_count": 3,
   "metadata": {},
   "outputs": [
    {
     "data": {
      "text/plain": [
       "(torch.Size([150, 4]), torch.Size([150]))"
      ]
     },
     "execution_count": 3,
     "metadata": {},
     "output_type": "execute_result"
    }
   ],
   "source": [
    "x, y = load_iris(return_X_y=True)\n",
    "x, y = torch.tensor(x).float(), torch.tensor(y)\n",
    "x.shape, y.shape"
   ]
  },
  {
   "cell_type": "code",
   "execution_count": 4,
   "metadata": {},
   "outputs": [],
   "source": [
    "torch.manual_seed(42);"
   ]
  },
  {
   "cell_type": "markdown",
   "metadata": {},
   "source": [
    "\\begin{align}\n",
    "\\min_w \\quad \\int \\operatorname{acc}(y, y_\\text{true}) p(y;w)\\ dy\\\\\n",
    "\\min_w \\quad \\sum_{i} \\operatorname{acc}(y_i, y_\\text{true}) p(y(x);w)_i\\\\\n",
    "\\end{align}\n",
    "\n",
    "We could use (2) if we didn't want to sample. For a discrete RV with just four possible outcomes as we have it here we could loop, for an LLM the # of outcomes is much larger. Below we do the case where we sample from the discrete RM.\n",
    "\n",
    "\\begin{align}\n",
    "\\nabla_w \\int \\operatorname{acc}(y, y_\\text{true}) p(y;w)\\ dy =& \\int \\operatorname{acc}(y, y_\\text{true})\\ \\nabla_w p(y;w)\\ dy \\\\\n",
    "=& \\int \\operatorname{acc}(y, y_\\text{true})\\ \\nabla_w\\ln(p(y;w)) \\cdot p(y;w)\\ dy \\quad \\vert \\quad \\text{for a given }x\\\\\n",
    "\\approx& \\frac{1}{N}\\sum_{i=1}^N \\operatorname{acc}(y_n(x), y_\\text{true})\\ \\nabla_w\\ln(p(y_n(x);w)) \\quad \\text{with} \\quad y_n\\sim p(y(x);w)\n",
    "\\end{align}"
   ]
  },
  {
   "cell_type": "markdown",
   "metadata": {},
   "source": [
    "\\begin{align}\n",
    "&\\nabla_w \\quad \\sum_{i} \\operatorname{acc}(y_i, y_\\text{true})\\ p(y(x);w)_i\\\\\n",
    "=&\\sum_{i} \\operatorname{acc}(y_i, y_\\text{true})\\ \\nabla_w p(y(x);w)_i\\\\\n",
    "=&\\sum_{i} \\operatorname{acc}(y_i, y_\\text{true})\\ \\nabla_w \\log p(y(x);w)_i \\cdot p(y(x);w)\\\\\n",
    "=&\\sum_{i=1}^N \\operatorname{acc}(y_i, y_\\text{true})\\ \\nabla_w \\underbrace{\\log p(y(x);w)_i}_{\\text{log\\_probs[drawn\\_class]}} \\quad y_i \\sim p(y(x);w)\\\\\n",
    "\\end{align}"
   ]
  },
  {
   "cell_type": "code",
   "execution_count": 5,
   "metadata": {},
   "outputs": [
    {
     "data": {
      "text/plain": [
       "(tensor(0.3451), tensor(0.3271))"
      ]
     },
     "execution_count": 5,
     "metadata": {},
     "output_type": "execute_result"
    }
   ],
   "source": [
    "# with num_mc_samples\n",
    "net = torch.nn.Sequential(\n",
    "    torch.nn.Linear(in_features=x.shape[1], out_features=3),\n",
    "    torch.nn.GELU(),\n",
    "    torch.nn.Linear(in_features=3, out_features=3),\n",
    "    torch.nn.GELU(),\n",
    "    torch.nn.Linear(in_features=3, out_features=3),\n",
    ")\n",
    "\n",
    "opt = torch.optim.Adam(net.parameters(), lr=.01)\n",
    "\n",
    "rewards = []\n",
    "accuracies = []\n",
    "\n",
    "num_epochs = 1000\n",
    "num_mc_samples = 2\n",
    "for i in range(num_epochs):\n",
    "    logits = net(x)\n",
    "    probs = torch.softmax(logits, dim=-1)\n",
    "    drawn_class = torch.multinomial(probs, num_samples=num_mc_samples, replacement=True)\n",
    "    reward = (drawn_class == y.unsqueeze(-1)).float()  # [batch, num_mc_samples]\n",
    "    log_probs = torch.log_softmax(logits, dim=-1)  # [batch, num_classes]\n",
    "    selected_log_probs = []\n",
    "    for i in range(num_mc_samples):\n",
    "        selected_log_probs.append(log_probs.index_select(dim=-1, index=drawn_class[:, i].flatten()))\n",
    "    selected_log_probs = torch.stack(selected_log_probs, dim=-1)\n",
    "\n",
    "    baseline = reward.mean().detach()\n",
    "    loss = - 1 / num_mc_samples * ((reward - baseline) * selected_log_probs).mean()\n",
    "    loss.backward()\n",
    "    opt.step()\n",
    "    opt.zero_grad()\n",
    "\n",
    "    rewards.append(reward.mean())\n",
    "\n",
    "    predicted_class = torch.argmax(probs, dim=-1)  # [batch]\n",
    "    accuracy = (predicted_class == y).float().mean()\n",
    "    accuracies.append(accuracy)\n",
    "\n",
    "\n",
    "rewards = torch.asarray(rewards)\n",
    "rewards[:50].mean(), rewards[-50:].mean()"
   ]
  },
  {
   "cell_type": "markdown",
   "metadata": {},
   "source": [
    "# REINFORCE"
   ]
  },
  {
   "cell_type": "code",
   "execution_count": 7,
   "metadata": {},
   "outputs": [
    {
     "data": {
      "text/plain": [
       "(tensor(0.3319), tensor(0.8152))"
      ]
     },
     "execution_count": 7,
     "metadata": {},
     "output_type": "execute_result"
    }
   ],
   "source": [
    "net = torch.nn.Sequential(\n",
    "    torch.nn.Linear(in_features=x.shape[1], out_features=16),\n",
    "    torch.nn.GELU(),\n",
    "    torch.nn.Linear(in_features=16, out_features=16),\n",
    "    torch.nn.GELU(),\n",
    "    torch.nn.Linear(in_features=16, out_features=3),\n",
    ")\n",
    "\n",
    "opt = torch.optim.Adam(net.parameters(), lr=1e-3)\n",
    "\n",
    "rewards = []\n",
    "\n",
    "num_epochs = 10000\n",
    "for i in range(num_epochs):\n",
    "    logits = net(x)\n",
    "    probs = torch.softmax(logits, dim=-1)\n",
    "    drawn_class = torch.multinomial(probs, num_samples=1).squeeze()\n",
    "    reward = (drawn_class == y).float().mean().detach()\n",
    "\n",
    "    log_probs = torch.log_softmax(logits, dim=-1)\n",
    "    selected_log_probs = log_probs[torch.arange(len(drawn_class)), drawn_class]\n",
    "\n",
    "    baseline =  0.33333\n",
    "    loss = -((reward - baseline) * selected_log_probs).mean()\n",
    "    \n",
    "    opt.zero_grad()\n",
    "    loss.backward()\n",
    "    opt.step()\n",
    "\n",
    "    rewards.append(reward.mean().item())\n",
    "\n",
    "rewards = torch.tensor(rewards)\n",
    "rewards[:50].mean(), rewards[-50:].mean()"
   ]
  },
  {
   "cell_type": "code",
   "execution_count": 8,
   "metadata": {},
   "outputs": [
    {
     "data": {
      "image/png": "[encoded data removed]",
      "text/plain": [
       "<Figure size 640x480 with 1 Axes>"
      ]
     },
     "metadata": {},
     "output_type": "display_data"
    }
   ],
   "source": [
    "plt.plot(rewards);"
   ]
  },
  {
   "cell_type": "markdown",
   "metadata": {},
   "source": [
    "# GRPO"
   ]
  },
  {
   "cell_type": "code",
   "execution_count": 129,
   "metadata": {},
   "outputs": [
    {
     "data": {
      "text/plain": [
       "(tensor(0.3597), tensor(0.9780))"
      ]
     },
     "execution_count": 129,
     "metadata": {},
     "output_type": "execute_result"
    }
   ],
   "source": [
    "net = torch.nn.Sequential(\n",
    "    torch.nn.Linear(in_features=x.shape[1], out_features=16),\n",
    "    torch.nn.GELU(),\n",
    "    torch.nn.Linear(in_features=16, out_features=16),\n",
    "    torch.nn.GELU(),\n",
    "    torch.nn.Linear(in_features=16, out_features=3),\n",
    ")\n",
    "\n",
    "opt = torch.optim.Adam(net.parameters(), lr=1e-3)\n",
    "\n",
    "rewards = []\n",
    "baselines = []\n",
    "\n",
    "num_epochs = 10000\n",
    "for i in range(num_epochs):\n",
    "    logits = net(x)\n",
    "    probs = torch.softmax(logits, dim=-1)\n",
    "    drawn_class = torch.multinomial(probs, num_samples=1).squeeze()\n",
    "    reward = (drawn_class == y).float().mean().detach()\n",
    "\n",
    "    log_probs = torch.log_softmax(logits, dim=-1)\n",
    "    selected_log_probs = log_probs[torch.arange(len(drawn_class)), drawn_class]\n",
    "\n",
    "    group_size = 64\n",
    "    group = torch.multinomial(probs, num_samples=group_size, replacement=True)\n",
    "    baseline = (group == y.unsqueeze(dim=-1)).float().mean().detach()\n",
    "    loss = -((reward - baseline) * selected_log_probs).mean()\n",
    "    \n",
    "    opt.zero_grad()\n",
    "    loss.backward()\n",
    "    opt.step()\n",
    "\n",
    "    rewards.append(reward.mean().item())\n",
    "    baselines.append(baseline.item())\n",
    "\n",
    "rewards = torch.tensor(rewards)\n",
    "rewards[:50].mean(), rewards[-50:].mean()"
   ]
  },
  {
   "cell_type": "code",
   "execution_count": 130,
   "metadata": {},
   "outputs": [
    {
     "data": {
      "text/plain": [
       "[<matplotlib.lines.Line2D at 0x28bf94250>]"
      ]
     },
     "execution_count": 130,
     "metadata": {},
     "output_type": "execute_result"
    },
    {
     "data": {
      "image/png": "[encoded data removed]",
      "text/plain": [
       "<Figure size 432x288 with 1 Axes>"
      ]
     },
     "metadata": {
      "needs_background": "light"
     },
     "output_type": "display_data"
    }
   ],
   "source": [
    "plt.plot(baselines)"
   ]
  },
  {
   "cell_type": "markdown",
   "metadata": {},
   "source": [
    "Prof. mh remarks: the key is to reduce the variance and converge faster, both is acheived with a baseline computed from the average of the group."
   ]
  },
  {
   "cell_type": "markdown",
   "metadata": {},
   "source": [
    "## Gradient Descent on CE Loss (Sanity Check)"
   ]
  },
  {
   "cell_type": "code",
   "execution_count": 53,
   "metadata": {},
   "outputs": [
    {
     "name": "stdout",
     "output_type": "stream",
     "text": [
      "Epoch [100/1000], Loss: 1.1233, Accuracy: 0.3333\n",
      "Epoch [200/1000], Loss: 0.9311, Accuracy: 0.3600\n",
      "Epoch [300/1000], Loss: 0.7714, Accuracy: 0.7267\n",
      "Epoch [400/1000], Loss: 0.6677, Accuracy: 0.7933\n",
      "Epoch [500/1000], Loss: 0.5952, Accuracy: 0.8467\n",
      "Epoch [600/1000], Loss: 0.5414, Accuracy: 0.8667\n",
      "Epoch [700/1000], Loss: 0.4986, Accuracy: 0.8800\n",
      "Epoch [800/1000], Loss: 0.4621, Accuracy: 0.9067\n",
      "Epoch [900/1000], Loss: 0.4293, Accuracy: 0.9200\n",
      "Epoch [1000/1000], Loss: 0.3989, Accuracy: 0.9600\n"
     ]
    }
   ],
   "source": [
    "net = torch.nn.Sequential(\n",
    "    torch.nn.Linear(in_features=x.shape[1], out_features=3),\n",
    "    torch.nn.GELU(),\n",
    "    torch.nn.Linear(in_features=3, out_features=3),\n",
    "    torch.nn.GELU(),\n",
    "    torch.nn.Linear(in_features=3, out_features=4),\n",
    ")\n",
    "opt = torch.optim.Adam(net.parameters(), lr=1e-3)\n",
    "criterion = torch.nn.CrossEntropyLoss()\n",
    "accuracies = []\n",
    "num_epochs = 1000\n",
    "for i in range(num_epochs):\n",
    "\n",
    "    logits = net(x)\n",
    "    \n",
    "    loss = criterion(logits, y)\n",
    "    \n",
    "    net.zero_grad()\n",
    "    loss.backward()\n",
    "    opt.step()    \n",
    "\n",
    "    predicted = torch.argmax(logits, dim=1)\n",
    "    accuracy = (predicted == y).float().mean()\n",
    "    accuracies.append(accuracy.item())    \n",
    "\n",
    "    if (i+1) % 100 == 0:\n",
    "        print(f'Epoch [{i+1}/{num_epochs}], Loss: {loss.item():.4f}, Accuracy: {accuracy.item():.4f}')"
   ]
  },
  {
   "cell_type": "markdown",
   "metadata": {},
   "source": [
    "## Background: PPO\n",
    "\n",
    "Importance sampling: \n",
    "\n",
    "\\begin{align}\n",
    "&\\int f(x)p(x)\\ dx = E_p[f(x)]\\\\\n",
    "=&\\int f(x)p(x) \\cdot 1\\ dx\\\\\n",
    "=&\\int f(x)p(x) \\cdot \\frac{q(x)}{q(x)}\\ dx\\\\\n",
    "=&\\int f(x)q(x) \\cdot \\frac{p(x)}{q(x)}\\ dx = E_q\\left[f(x)\\frac{p(x)}{q(x)}\\right]\\\\\n",
    "\\end{align}"
   ]
  },
  {
   "cell_type": "markdown",
   "metadata": {},
   "source": [
    "$L(\\theta) = \\mathbb{E}_t \\left[ \\min \\left( r_t A_t, \\text{clip}(r_t, 1 - \\epsilon, 1 + \\epsilon) A_t \\right) \\right]$"
   ]
  },
  {
   "cell_type": "markdown",
   "metadata": {},
   "source": [
    "Rewrite after looking into `grpo_loss` in [this file](https://github.com/aburkov/theLMbook/blob/main/GRPO.py)."
   ]
  },
  {
   "cell_type": "markdown",
   "metadata": {},
   "source": [
    "| Symbol | Meaning |\n",
    "| ---:| --- |\n",
    "| $\\phi$ | model weights |\n",
    "| $x,y$ | model input (prompt) and sampled outputs |\n",
    "| $r(x,y)$ | reward |\n",
    "| $\\pi_\\phi^\\text{RL}$ | policy (model) |"
   ]
  },
  {
   "cell_type": "markdown",
   "metadata": {},
   "source": [
    "What we want to find / our objective:\n",
    "\n",
    "\\begin{align}\n",
    "&\\displaystyle \\nabla_\\phi E_{\\pi_\\phi^\\text{RL}(x,y)}\\left[r(x,y)\\right]\\\\\n",
    "=&\\nabla_\\phi\\int r(x,y)\\ \\pi_\\phi^\\text{RL}(x,y)\\ dxdy\\\\\n",
    "=&\\int r(x,y)\\ \\nabla_\\phi \\pi_\\phi^\\text{RL}(x,y)\\ dxdy\\\\\n",
    "=&\\int r(x,y)\\ \\nabla_\\phi \\ln \\pi_\\phi^\\text{RL}(x,y) \\cdot \\pi_\\phi^\\text{RL}(x,y)\\ dxdy\\\\\n",
    "\\approx&\\frac{1}{N}\\sum_n^N r(x,y)\\  \\nabla_\\phi \\ln \\pi_\\phi^\\text{RL}(x_n,y_n) & \\text{with } (x_n,y_n) \\sim \\pi_\\phi^\\text{RL}(x,y)\\\\\n",
    "\\end{align}"
   ]
  }
 ],
 "metadata": {
  "kernelspec": {
   "display_name": ".venv",
   "language": "python",
   "name": "python3"
  },
  "language_info": {
   "codemirror_mode": {
    "name": "ipython",
    "version": 3
   },
   "file_extension": ".py",
   "mimetype": "text/x-python",
   "name": "python",
   "nbconvert_exporter": "python",
   "pygments_lexer": "ipython3",
   "version": "3.11.12"
  }
 },
 "nbformat": 4,
 "nbformat_minor": 2
}
