{
 "cells": [
  {
   "cell_type": "markdown",
   "metadata": {},
   "source": [
    "# Integrating Over Parameters, Tractability, MLE, MAP, Bayesian, and Probability Theory"
   ]
  },
  {
   "cell_type": "markdown",
   "metadata": {},
   "source": [
    "## Probability Theory Basics"
   ]
  },
  {
   "cell_type": "markdown",
   "metadata": {},
   "source": [
    "There are two rules in probability theory that are relevant in the following. Everything else is derived from them:\n",
    "\n",
    "**Rule I**: $\\displaystyle p(a)=\\int p(a,b)\\,db$\n",
    "\n",
    "**Rule II**: $\\displaystyle p(a\\mid b)=\\frac{p(a,b)}{p(b)}$\n",
    "\n",
    "Bayes rule is the first derivation:\n",
    "\n",
    "**Bayes Rule**: $\\displaystyle p(a\\mid b)=\\frac{p(b\\mid a)\\cdot p(a)}{p(b)}$"
   ]
  },
  {
   "cell_type": "markdown",
   "metadata": {},
   "source": [
    "## Maximum Likelihood Estimation (MLE)\n",
    "\n",
    "Method for estimating the parameter(s) of a distribution."
   ]
  },
  {
   "cell_type": "markdown",
   "metadata": {},
   "source": [
    "Given is a set of points $\\mathcal{D}=\\{y_n\\}_{n=1}^N$.\n",
    "We _choose to model_ the points with a normal distribution $\\mathcal{N}(\\mu,\\sigma)$ so we can assess the probability of a new point $y$ as $p(y;\\mu,\\sigma)\\sim\\mathcal{N}(\\mu,\\sigma)$.\n",
    "The goal is to be able to compute $p(y;\\mu,\\sigma)$ for any $y$.\n",
    "To be able to do that we need to estimate $\\mu$ and $\\sigma$ (the parameters of the normal distribution) and that is what we use MLE for.\n",
    "\n",
    "Note that the normal distribution is our modeling choice. The underlying _data-generating distribution_ might very well be something else, that we do not know about."
   ]
  },
  {
   "cell_type": "markdown",
   "metadata": {},
   "source": [
    "The data is all information we have, so we want $p(\\mathcal{D};\\mu,\\sigma)$ to be high (hence the name \"maximum likelihood\").\n",
    "We assume the data is i.i.d. given the parameters $\\mu$ and $\\sigma$.\n",
    "We can therefore decompose $p(\\mathcal{D};\\mu,\\sigma)$ into the product over all data points:\n",
    "\n",
    "$$p(\\mathcal{D};\\mu,\\sigma)=\\prod_{n=1}^Np(y_n;\\mu,\\sigma)\\,.$$\n",
    "\n",
    "What we actually look for are the parameters.\n",
    "We are interested in the particular set of parameters for which $p(\\mathcal{D};\\mu,\\sigma)$ is maximized.\n",
    "Let $\\mu^\\star$ and $\\sigma^\\star$ denote this maximizer.\n",
    "We search for\n",
    "\\begin{align}\n",
    "\\mu^\\star=&\\arg\\max_\\mu p(\\mathcal{D};\\mu,\\sigma)\\\\\n",
    "=&\\arg\\max_\\mu\\prod_{n=1}^Np(y_n;\\mu,\\sigma)\\\\\n",
    "=&\\arg\\max_\\mu\\log\\prod_{n=1}^Np(y_n;\\mu,\\sigma)\\\\\n",
    "=&\\arg\\max_\\mu\\sum_{n=1}^N\\log p(y_n;\\mu,\\sigma)\n",
    "\\end{align}\n",
    "\n",
    "We can apply a $\\log$ to the product because it will not change the maximizer. Dealing with a sum rather than a product is, however, more convenient.\n",
    "\n",
    "The same formulation can be written down for the parameter $\\sigma^\\star$, to find its optimal value."
   ]
  },
  {
   "cell_type": "markdown",
   "metadata": {},
   "source": [
    "In order to _actually_ get a value for $\\mu^\\star$ we replace $p(y_n;\\mu,\\sigma)$ with the definition of our model.\n",
    "Above it is a normal distribution, so we can plug in the definition of the normal distribution, ${\\displaystyle {\\frac {1}{\\sigma {\\sqrt {2\\pi }}}}e^{-{\\frac {1}{2}}\\left({\\frac {x-\\mu^\\star }{\\sigma }}\\right)^{2}}}$:\n",
    "\n",
    "\\begin{align}\n",
    "\\mu^\\star=&\\arg\\max_\\mu\\sum_{n=1}^N\\log p(y_n;\\mu,\\sigma)\\\\\n",
    "=&\\arg\\max_\\mu\\sum_{n=1}^N\\log \\left({\\displaystyle {\\frac {1}{\\sigma {\\sqrt {2\\pi }}}}e^{-{\\frac {1}{2}}\\left({\\frac {y_n-\\mu^\\star }{\\sigma }}\\right)^{2}}}\\right)\\\\\n",
    "\\end{align}\n",
    "\n",
    "We can then compute the derivative and search for its root. This yields [after some reshaping](https://towardsdatascience.com/maximum-likelihood-estimation-explained-normal-distribution-6207b322e47f) to the solution\n",
    "\n",
    "$$\n",
    "\\mu^\\star=\\frac{1}{N}\\sum_{n=1}^Ny_n\n",
    "$$\n",
    "\n",
    "which is simply the mean of all data points.\n",
    "\n",
    "Depending on the model there may be a closed-form solution (as above) for the MLE. If not, one can resort to other methods like gradient descent to find the most likely parameter value."
   ]
  },
  {
   "cell_type": "markdown",
   "metadata": {},
   "source": [
    "## Maximum A Posteriori (MAP) Estimation\n",
    "\n",
    "Just like MLE an approach for estimating parameters of a distribution, except the probabilistic approach is a bit different, because it includes a prior."
   ]
  },
  {
   "cell_type": "markdown",
   "metadata": {},
   "source": [
    "Previously, with MLE, we modeled $p(\\mathcal{D};\\mu,\\sigma)$, that is, the probability of the data given the parameters.\n",
    "We then looked for the parameters for which this probability is the highest.\n",
    "Now we model the probability $p(\\mu\\mid\\mathcal{D})$, that is, the probability of the parameters given the data.\n",
    "Note that $\\sigma$ is also a parameter; it's left out for readability."
   ]
  },
  {
   "cell_type": "markdown",
   "metadata": {},
   "source": [
    "Again, analogous to MLE, we seek for the argument that maximizes the probability.\n",
    "Mathematically speaking, that is\n",
    "\n",
    "$$\\mu^\\star=\\arg\\max_\\mu p(\\mu\\mid\\mathcal{D})\\,.$$\n",
    "\n",
    "Following Bayes rule, \n",
    "\n",
    "$$p(\\mu\\mid\\mathcal{D})=\\frac{p(\\mathcal{D}\\mid\\mu)\\cdot p(\\mu)}{p(\\mathcal{D})}\\,.$$\n",
    "\n",
    "We can plug the rewritten version of $p(\\mu\\mid\\mathcal{D})$ into the optimization objective from above:\n",
    "\n",
    "\\begin{align}\n",
    "\\mu^\\star=&\\arg\\max_\\mu p(\\mu\\mid\\mathcal{D})\\\\\n",
    "=&\\arg\\max_\\mu\\frac{p(\\mathcal{D}\\mid\\mu)\\cdot p(\\mu)}{p(\\mathcal{D})}\\\\\n",
    "=&\\arg\\max_\\mu p(\\mathcal{D}\\mid\\mu)\\cdot p(\\mu)\n",
    "\\end{align}\n",
    "\n",
    "Note that the denominator $p(\\mathcal{D})$ can be dropped because it does not depend on $\\mu$."
   ]
  },
  {
   "cell_type": "markdown",
   "metadata": {},
   "source": [
    "Just like we did with MLE, we first expand $p(\\mathcal{D}\\mid\\mu)$ into a product over all data samples available to us, and second, apply a $\\log$ to ease the optimization, without affecting the position of the maximum (the best parameter configuration).\n",
    "\n",
    "\\begin{align}\n",
    "\\mu^\\star=&\\arg\\max_\\mu p(\\mathcal{D}\\mid\\mu)\\cdot p(\\mu)\\\\\n",
    "=&\\arg\\max_\\mu\\prod_{n=1}^Np(y_n\\mid\\mu)\\cdot p(\\mu)\\\\\n",
    "=&\\arg\\max_\\mu\\log\\left(\\prod_{n=1}^N p(y_n\\mid\\mu)\\cdot p(\\mu)\\right)\\\\\n",
    "=&\\arg\\max_\\mu\\sum_{n=1}^N\\log p(y_n\\mid\\mu)+\\log p(\\mu)\\\\\n",
    "\\end{align}"
   ]
  },
  {
   "cell_type": "markdown",
   "metadata": {},
   "source": [
    "This is very similar to MLE, with the only difference that there is a new component in the optimization problem that we need to consider.\n",
    "It is the probability of the parameters, $p(\\mu)$, also known as the **prior**.\n",
    "\n",
    "This is where we have to _explicitly_ make an assumption, for example, by saying our parameter is normally distributed. This is in contrast to MLE where this assumption is made implicitly."
   ]
  },
  {
   "cell_type": "markdown",
   "metadata": {},
   "source": [
    "## Bayesian Modeling\n",
    "\n",
    "Instead of just estimating a single value per parameter (like above just a scalar for the mean of our normal distribution), we now **model the parameters as random variables** themselves.\n",
    "\n",
    "What was previously $\\mu$ is now $\\mu$ but stands for a random variable, which is defined by a parameterized distribution we choose."
   ]
  },
  {
   "cell_type": "markdown",
   "metadata": {},
   "source": [
    "**Terminology**\n",
    "\n",
    "* Parameters: $\\mu$\n",
    "* Data: $\\mathcal{D}$\n",
    "* Prior: $p(\\mu)$\n",
    "* Posterior: generally _after having seen the data_, i.e., $p(\\cdot\\mid\\mathcal{D})$, for example the updated parameters $p(\\mu\\mid\\mathcal{D})$\n",
    "* Likelihood: model of the data given the parameters, i.e., $p(y\\mid\\mu,\\mathcal{D})=p(y\\mid\\mu)$\n",
    "* Posterior predictive distribution: $p(y\\mid\\mathcal{D})$\n",
    "* Evidence: probability of the data $p(\\mathcal{D})$\n",
    "* Marginal: simplified form in which a random variable was integrated away, e.g., $p(y)$ where the $\\mu$ was integrated over"
   ]
  },
  {
   "cell_type": "markdown",
   "metadata": {},
   "source": [
    "This section is a little bit nested. It's outline is\n",
    "\n",
    "* the definition of the goal, namely the posterior predictive distribution $p(y\\mid\\mathcal{D})$,\n",
    "  * an analysis of its first component, the posterior distribution of the parameters $p(\\mu\\mid\\mathcal{D})$, which itself is a fraction consisting of the two parts\n",
    "    * numerator $p(\\mathcal{D}\\mid\\mu)\\cdot p(\\mu))$ with likelihood and piror, and\n",
    "    * denomintor $p(\\mathcal{D})$.\n",
    "* After drilling into them we return to the posterior predictive distribution and evaluate it in an example case to determine the probability of a data point."
   ]
  },
  {
   "cell_type": "markdown",
   "metadata": {},
   "source": [
    "What we are interested in is modeling the probability of a new (test) data point $y$ given all the information we have, namely the data $\\mathcal{D}$. It is called the **posterior predictive distribution**.\n",
    "\n",
    "\\begin{align}\n",
    "p(y\\mid\\mathcal{D})=&\\int p(y\\mid\\mu,\\mathcal{D})\\cdot p(\\mu\\mid\\mathcal{D})\\,d\\mu\\\\\n",
    "=&\\int p(y\\mid\\mu)\\cdot p(\\mu\\mid\\mathcal{D})\\,d\\mu\n",
    "\\end{align}\n",
    "\n",
    "We constructed the integral using Rule I.\n",
    "The choice of $\\mu$ is an arbitrary one, one could have integrated over anything, but it is a _helpful_ one. In the second equality we remove $\\mathcal{D}$ from the first term, because the data is i.i.d. given the parameter. Having the parameter plus the data does not provide additional information.\n",
    "\n",
    "For example: We know the mean and standard deviation of a normal distribution. Gathering additional samples from it will not provide us with additional information."
   ]
  },
  {
   "cell_type": "markdown",
   "metadata": {},
   "source": [
    "There are now two components in the integral.\n",
    "The first is the **likelihood** $p(y\\mid\\mu)$ and something we _can_ compute. That is, because it was our model choice, how we decide to model $y$s.\n",
    "\n",
    "For example: $p(y\\mid\\mu)=\\mathcal{N}(\\mu,\\sigma=1)$; $\\sigma=1$ for brevity."
   ]
  },
  {
   "cell_type": "markdown",
   "metadata": {},
   "source": [
    "As for the second part, the so called **posterior distribution of the parameters** $p(\\mu\\mid\\mathcal{D})$, we can again apply Bayes rule as done in MAP above:\n",
    "\n",
    "$$p(\\mu\\mid\\mathcal{D})=\\frac{p(\\mathcal{D}\\mid\\mu)\\cdot p(\\mu)}{p(\\mathcal{D})}\\,.$$\n",
    "\n",
    "This time around we cannot just discard $p(\\mathcal{D})$, because we are not looking for the $\\arg\\max_\\mu$ but the actual probability $p(\\mu\\mid\\mathcal{D})$.\n",
    "\n",
    "There are two difficulties: One is the numerator, one the denominator."
   ]
  },
  {
   "cell_type": "markdown",
   "metadata": {},
   "source": [
    "**Numerator** $p(\\mathcal{D}\\mid\\mu)\\cdot p(\\mu))$. Because the data is i.i.d. given the parameters we can break it up into a product of the likelihoods of the data samples. (It is called a likelihood, because the part that we condition on is unknown, not the one in the front, in which case it would be a probability).\n",
    "\n",
    "$$p(\\mathcal{D}\\mid\\mu)\\cdot p(\\mu)=\\prod_{i=1}^Np(y_i\\mid\\mu)\\cdot p(\\mu)$$\n",
    "\n",
    "The two distributions which we multiply with each other can easily – once multiplied with each other – turn into a new distribution which is hard to handle / entirely unknown. In some cases, though, for example, for two normal distributions, we know what the product is (also normally distributed).\n",
    "\n",
    "More generally, if the two distributions (likelihood and prior) are **conjugate** to each other, the resulting posterior is the same kind of distribution as the prior. Some examples are:\n",
    "\n",
    "* Normal and normal → normal\n",
    "* Bernoulli and beta → beta\n",
    "* Multinoulli and dirichlet → dirichlet\n",
    "\n",
    "An exemplary multiplication of bernoulli likelihood and beta prior is in Appendix A."
   ]
  },
  {
   "cell_type": "markdown",
   "metadata": {},
   "source": [
    "**Denominator** $p(\\mathcal{D})$. This term is just some constant. So the part that actually determines the _distribution part_ of $p(\\mu\\mid\\mathcal{D})$ is the numerator."
   ]
  },
  {
   "cell_type": "markdown",
   "metadata": {},
   "source": [
    "In the following, $\\mathcal{D}=\\{y\\}$, i.e., there is only a single data point. Suppose we use a bernoulli likelihood and beta prior for modeling the problem. We can reshape p(\\mu\\mid\\mathcal{D}) to separate the parts which depends on the parameters and those which don't:\n",
    "\n",
    "\\begin{align}\n",
    "p(\\mu\\mid\\mathcal{D})=&\\frac{\\mu^{y}(1-\\mu)^{1-y}\\cdot\\frac{\\mu^{\\alpha-1}(1-\\mu)^{\\beta-1}}{B(\\alpha,\\beta)}}{p(\\mathcal{D})}\\\\\n",
    "=&\\underbrace{\\frac{1}{p(\\mathcal{D})\\cdot B(\\alpha,\\beta)}}_{\\text{numbers}}\\cdot\\underbrace{\\mu^{y}(1-\\mu)^{1-y}\\cdot\\mu^{\\alpha-1}(1-\\mu)^{\\beta-1}}_{\\text{depends on }\\mu}\\\\\n",
    "=&\\underbrace{\\frac{1}{p(\\mathcal{D})\\cdot B(\\alpha,\\beta)}}_{\\text{numbers}}\\cdot\\underbrace{\\mu^{(\\alpha+y)-1}(1-\\mu)^{(\\beta+1-y)-1}}_{\\text{depends on }\\mu}\n",
    "\\end{align}"
   ]
  },
  {
   "cell_type": "markdown",
   "metadata": {},
   "source": [
    "Every probability distribution has to integrate to 1. That helps us determine the unknown component $p(\\mathcal{D})$ of the term above.\n",
    "\n",
    "\\begin{align}\n",
    "\\int p(\\mu\\mid\\mathcal{D})\\,d\\mu=&1\\\\\n",
    "\\int \\frac{1}{p(\\mathcal{D})\\cdot B(\\alpha,\\beta)}\\cdot\\mu^{(\\alpha+y)-1}(1-\\mu)^{(\\beta+1-y)-1}\\,d\\mu=&1\\\\\n",
    "\\frac{1}{p(\\mathcal{D})\\cdot B(\\alpha,\\beta)}\\cdot\\int\\mu^{(\\alpha+y)-1}(1-\\mu)^{(\\beta+1-y)-1}\\,d\\mu=&1\\\\\n",
    "\\int\\mu^{(\\alpha+y)-1}(1-\\mu)^{(\\beta+1-y)-1}\\,d\\mu=&\\underbrace{p(\\mathcal{D})}_\\text{unknown}\\cdot B(\\alpha,\\beta)\\\\\n",
    "\\int\\mu^{(\\alpha+y)-1}(1-\\mu)^{(\\beta+1-y)-1}\\,d\\mu=&B(\\alpha+y,\\beta+1-y)\n",
    "\\end{align}\n",
    "\n",
    "The last equality holds because we know that the left side is an unnormalized $\\operatorname{Beta}(\\alpha+y,\\beta+1-y)$ distribution PDF. So we define the right-hand side to be its corresponding normalization constant, which is $B(\\alpha+y,\\beta+1-y)$. And $p(\\mathcal{D})$ is just a part of it.\n",
    "\n",
    "$$p(\\mathcal{D})=\\frac{B(\\alpha+y,\\beta+1-y)}{B(\\alpha,\\beta)}$$"
   ]
  },
  {
   "cell_type": "markdown",
   "metadata": {},
   "source": [
    "This is an example of computing $p(D)$. It is generally difficult and often intractable."
   ]
  },
  {
   "cell_type": "markdown",
   "metadata": {},
   "source": [
    "Now we can jump back to the posterior predictive distribution, where we aim to determine the probability of a test point $y^*$ given the data. The above paragraphs helped determine the $p(\\mu\\mid\\mathcal{D})$ part of it, and the likelihood is given by the model which is our choice and easy to evalute. In Appendix B is an example with the modeling choice $p(y\\mid\\mu)=\\operatorname{Ber}(\\mu)=\\mu^{y}(1-\\mu)^{1-y}$."
   ]
  },
  {
   "cell_type": "markdown",
   "metadata": {},
   "source": [
    "The Appendix examples are for a conjugate prior (bernoulli likelihood and beta prior) in which a closed-form solution is available. In cases where there is no closed-form solution, one can solve\n",
    "\n",
    "$$p(y^*\\mid\\mathcal{D})=\\int p(y^*\\mid\\mu)\\cdot p(\\mu\\mid\\mathcal{D})\\,d\\mu=\\mathbb{E}_{p(\\mu\\mid\\mathcal{D})}\\left[p(y^*\\mid\\mu)\\right]$$\n",
    "\n",
    "by sampling from $p(\\mu\\mid\\mathcal{D})$ to approximate the expectation (**Monte Carlo**). When sampling, the exact computation of $p(\\mathcal{D})$ is conveniently no longer required."
   ]
  },
  {
   "cell_type": "markdown",
   "metadata": {},
   "source": [
    "## Appendix\n",
    "\n",
    "### A. Example of Conjugate Likelihood and Prior\n",
    "\n",
    "Our prior is $$p(\\mu)=\\operatorname{Beta}(1,1)=\\frac{\\mu^{\\alpha-1}(1-\\mu)^{\\beta-1}}{B(\\alpha,\\beta)}$$\n",
    "\n",
    "with ${\\displaystyle \\mathrm {B} (\\alpha ,\\beta )={\\frac {\\Gamma (\\alpha )\\Gamma (\\beta )}{\\Gamma (\\alpha +\\beta )}}}$.\n",
    "\n",
    "The likelihood is $$p(y\\mid\\mu)=\\operatorname{Ber}(\\mu)=\\mu^{y}(1-\\mu)^{1-y}$$\n",
    "\n",
    "This gives the numerator\n",
    "\n",
    "$$\\mu^{y}(1-\\mu)^{1-y}\\cdot\\frac{\\mu^{\\alpha-1}(1-\\mu)^{\\beta-1}}{B(\\alpha,\\beta)}\\,.$$"
   ]
  },
  {
   "cell_type": "markdown",
   "metadata": {},
   "source": [
    "For a data point $y=1$ it is\n",
    "\n",
    "\\begin{align}\n",
    "&\\mu\\cdot\\frac{\\mu^{\\alpha-1}(1-\\mu)^{\\beta-1}}{B(\\alpha,\\beta)}\\\\\n",
    "=&\\frac{1}{B(\\alpha,\\beta)}\\cdot\\mu\\cdot\\mu^{\\alpha-1}(1-\\mu)^{\\beta-1}\\\\\n",
    "=&\\frac{1}{B(\\alpha,\\beta)}\\cdot\\mu^{\\underbrace{(\\alpha+1)}_{\\text{new }\\alpha}-1}(1-\\mu)^{\\beta-1}\\\\\n",
    "\\end{align}\n",
    "\n",
    "It is apparent how the multiplication with Bernoulli did not change the distribution type.\n",
    "We still have a Beta distribution and its parameter $\\alpha$ has changed slightly to turn into $\\alpha+1$.\n",
    "Had our data point been $y=0$, would $\\alpha$ have stayed the same whereas $\\beta$ would have been incremented."
   ]
  },
  {
   "cell_type": "markdown",
   "metadata": {},
   "source": [
    "### B. Computing the Posterior Predictive Distribution\n",
    "\n",
    "The modeling choice is $p(y\\mid\\mu)=\\operatorname{Ber}(\\mu)=\\mu^{y}(1-\\mu)^{1-y}$."
   ]
  },
  {
   "cell_type": "markdown",
   "metadata": {},
   "source": [
    "\\begin{align}\n",
    "p(y^*\\mid\\mathcal{D})=&\\int p(y^*\\mid\\mu)\\cdot p(\\mu\\mid\\mathcal{D})\\,d\\mu=\\mathbb{E}_{p(\\mu\\mid\\mathcal{D})}\\left[p(y^*\\mid\\mu)\\right]\\\\\n",
    "=&\\int p(y^*\\mid\\mu)\\cdot\\frac{1}{p(\\mathcal{D})\\cdot B(\\alpha,\\beta)}\\cdot\\mu^{(\\alpha+y)-1}(1-\\mu)^{(\\beta+1-y)-1}\\,d\\mu\\\\\n",
    "=&\\int p(y^*\\mid\\mu)\\cdot\\frac{1}{B(\\alpha+y,\\beta+1-y)}\\cdot\\mu^{(\\alpha+y)-1}(1-\\mu)^{(\\beta+1-y)-1}\\,d\\mu\\\\\n",
    "=&\\int \\mu^{y^*}(1-\\mu)^{1-y^*}\\cdot\\frac{1}{B(\\alpha+y,\\beta+1-y)}\\cdot\\mu^{(\\alpha+y)-1}(1-\\mu)^{(\\beta+1-y)-1}\\,d\\mu\\\\\n",
    "=&\\frac{1}{B(\\alpha+y,\\beta+1-y)}\\cdot\\int \\mu^{y^*}(1-\\mu)^{1-y^*}\\cdot\\mu^{(\\alpha+y)-1}(1-\\mu)^{(\\beta+1-y)-1}\\,d\\mu\\\\\n",
    "=&\\frac{1}{B(\\alpha+y,\\beta+1-y)}\\cdot\\int \\mu^{y^*}(1-\\mu)^{1-y^*}\\cdot\\mu^{(\\alpha+y)-1}(1-\\mu)^{(\\beta+1-y)-1}\\,d\\mu\\\\\n",
    "=&\\frac{1}{B(\\alpha+y,\\beta+1-y)}\\cdot\\int \\mu^{(\\alpha+y+y^*)-1}(1-\\mu)^{(\\beta+1-y+1-y^*)-1}\\,d\\mu\\\\\n",
    "=&\\frac{1}{B(\\alpha+y,\\beta+1-y)}\\cdot B(\\alpha+y+y^*,\\beta+1-y+1-y^*)\\\\\n",
    "=&\\frac{B(\\alpha+y+y^*,\\beta+1-y+1-y^*)}{B(\\alpha+y,\\beta+1-y)}\\\\\n",
    "\\end{align}"
   ]
  },
  {
   "cell_type": "markdown",
   "metadata": {},
   "source": [
    "\\begin{align}\n",
    "p(y^*\\mid\\mathcal{D})=&\\begin{cases}\n",
    "\\underbrace{\\frac{B(\\alpha+y,\\beta-y+2)}{B(\\alpha+y,\\beta+1-y)}}_{1-\\mu?} & \\text{if }y^*=0\\\\\n",
    "\\underbrace{\\frac{B(\\alpha+y+1,\\beta+1-y)}{B(\\alpha+y,\\beta+1-y)}}_{\\mu?} & \\text{if }y^*=1\n",
    "\\end{cases}\\\\\n",
    "=&\\operatorname{Ber}\\left(\\frac{B(\\alpha+y+1,\\beta+1-y)}{B(\\alpha+y,\\beta+1-y)}\\right)\n",
    "\\end{align}\n",
    "\n",
    "Note: Here $y$ is the data that we learned from (a single point)."
   ]
  },
  {
   "cell_type": "markdown",
   "metadata": {},
   "source": [
    "Here we would have almost given up. What we hope here is (as **successfully** validated in the following) that \n",
    "\n",
    "\\begin{align}\n",
    "\\frac{B(\\alpha+y,\\beta-y+2)}{B(\\alpha+y,\\beta-y+1)}+\\frac{B(\\alpha+y+1,\\beta-y+1)}{B(\\alpha+y,\\beta-y+1)}\\overset{?}{=}&1\\\\\\\\\n",
    "\\frac{B(\\alpha+y,\\beta-y+2)+B(\\alpha+y+1,\\beta-y+1)}{B(\\alpha+y,\\beta-y+1)}\\overset{?}{=}&1\\\\\n",
    "\\end{align}"
   ]
  },
  {
   "cell_type": "markdown",
   "metadata": {},
   "source": [
    "With the definition of $B$ \n",
    "\n",
    "$${\\displaystyle \\mathrm {B} (\\alpha ,\\beta )={\\frac {\\Gamma (\\alpha )\\Gamma (\\beta )}{\\Gamma (\\alpha +\\beta )}}}$$\n",
    "\n",
    "we get the fraction\n",
    "\n",
    "\\begin{align}\n",
    "\\frac{\\frac{\\Gamma(\\alpha+y)\\Gamma(\\beta-y+2)}{\\Gamma(\\alpha+y+\\beta-y+2)}+\\frac{\\Gamma(\\alpha+y+1)\\Gamma(\\beta-y+1)}{\\Gamma(\\alpha+y+1+\\beta-y+1)}}{\\frac{\\Gamma(\\alpha+y)\\Gamma(\\beta-y+1)}{\\Gamma(\\alpha+y+\\beta-y+1)}}\\overset{?}{=}&1\\\\\\\\\n",
    "\\frac{\\frac{\\Gamma(\\alpha+y)\\Gamma(\\beta-y+2)}{\\Gamma(\\alpha+\\beta+2)}+\\frac{\\Gamma(\\alpha+y+1)\\Gamma(\\beta-y+1)}{\\Gamma(\\alpha+\\beta+2)}}{\\frac{\\Gamma(\\alpha+y)\\Gamma(\\beta-y+1)}{\\Gamma(\\alpha+\\beta+1)}}\\overset{?}{=}&1\\\\\\\\\n",
    "\\frac{\\frac{\\Gamma(\\alpha+y)\\Gamma(\\beta-y+2)+\\Gamma(\\alpha+y+1)\\Gamma(\\beta-y+1)}{\\Gamma(\\alpha+\\beta+2)}}{\\frac{\\Gamma(\\alpha+y)\\Gamma(\\beta-y+1)}{\\Gamma(\\alpha+\\beta+1)}}\\overset{?}{=}&1\\\\\n",
    "\\end{align}"
   ]
  },
  {
   "cell_type": "markdown",
   "metadata": {},
   "source": [
    "With the definition of ${\\displaystyle \\Gamma (n)=(n-1)!}$ we continue to pursue our goals at 00:43 am...\n",
    "\n",
    "$$\\Gamma (n+1)=\\Gamma(n)\\cdot n=n!$$"
   ]
  },
  {
   "cell_type": "markdown",
   "metadata": {},
   "source": [
    "\\begin{align}\n",
    "\\frac{\\frac{\\Gamma(\\alpha+y)\\Gamma(\\beta-y+2)+\\Gamma(\\alpha+y+1)\\Gamma(\\beta-y+1)}{\\Gamma(\\alpha+\\beta+2)}}{\\frac{\\Gamma(\\alpha+y)\\Gamma(\\beta-y+1)}{\\Gamma(\\alpha+\\beta+1)}}\\overset{?}{=}&1\\\\\\\\\n",
    "\\frac{\n",
    "    (\\Gamma(\\alpha+y)\n",
    "    \\Gamma(\\beta-y+2)+\\Gamma(\\alpha+y+1)\\Gamma(\\beta-y+1))\\cdot\\Gamma(\\alpha+\\beta+1)}\n",
    "    {\\Gamma(\\alpha+\\beta+2)\\cdot\\Gamma(\\alpha+y)\\cdot\\Gamma(\\beta-y+1)}\\overset{?}{=}&1\\\\\\\\\n",
    "\\frac{\n",
    "    (\\Gamma(\\alpha+y)\n",
    "    \\Gamma(\\beta-y+2)+\\Gamma(\\alpha+y+1)\\Gamma(\\beta-y+1))}\n",
    "    {(\\alpha+\\beta+1)\\cdot\\Gamma(\\alpha+y)\\cdot\\Gamma(\\beta-y+1)}\\overset{?}{=}&1\\\\\\\\\n",
    "\\frac{\n",
    "    (\n",
    "    \\Gamma(\\beta-y+2)+(\\alpha+y)\\Gamma(\\beta-y+1))}\n",
    "    {(\\alpha+\\beta+1)\\cdot\\Gamma(\\beta-y+1)}\\overset{?}{=}&1\\\\\\\\\n",
    "\\frac{\\beta-y+1+\\alpha+y}{\\alpha+\\beta+1}\\overset{?}{=}&1\\\\\\\\\n",
    "\\frac{\\beta+1+\\alpha}{\\alpha+\\beta+1}\\overset{!}{=}&1\\\\\\\\\n",
    "\\end{align}"
   ]
  }
 ],
 "metadata": {
  "kernelspec": {
   "display_name": "Python 3 (ipykernel)",
   "language": "python",
   "name": "python3"
  },
  "language_info": {
   "codemirror_mode": {
    "name": "ipython",
    "version": 3
   },
   "file_extension": ".py",
   "mimetype": "text/x-python",
   "name": "python",
   "nbconvert_exporter": "python",
   "pygments_lexer": "ipython3",
   "version": "3.9.4"
  }
 },
 "nbformat": 4,
 "nbformat_minor": 4
}
