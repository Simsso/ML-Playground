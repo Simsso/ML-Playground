{
 "cells": [
  {
   "cell_type": "markdown",
   "id": "09718c50",
   "metadata": {},
   "source": [
    "# Generative Modeling by Estimating Gradients of the Data Distribution\n",
    "\n",
    "Paper: [Song and Ermon (2019)](https://arxiv.org/abs/1907.05600)\n",
    "\n",
    "End-of-day notes (implementation PDG #13):\n",
    "\n",
    "* The implementation was way easier than the EBMs and diffusion models were.\n",
    "* We did not manage to generate samples with the model.\n",
    "* A hparam sweep would be the logical next step."
   ]
  },
  {
   "cell_type": "markdown",
   "id": "a4642b8b",
   "metadata": {},
   "source": [
    "### Imports and Data Loading"
   ]
  },
  {
   "cell_type": "code",
   "execution_count": 1,
   "id": "a3d91046",
   "metadata": {},
   "outputs": [],
   "source": [
    "from typing import *\n",
    "\n",
    "from collections import defaultdict\n",
    "import matplotlib.pyplot as plt\n",
    "import math\n",
    "import numpy as np\n",
    "import sklearn.datasets\n",
    "import torch\n",
    "from tqdm import tqdm"
   ]
  },
  {
   "cell_type": "code",
   "execution_count": 2,
   "id": "a11bd309",
   "metadata": {},
   "outputs": [],
   "source": [
    "dataset = sklearn.datasets.load_digits()\n",
    "data_np, labels_np = dataset['data'], dataset['target']\n",
    "data_np = data_np[labels_np == 1]\n",
    "del labels_np"
   ]
  },
  {
   "cell_type": "code",
   "execution_count": 3,
   "id": "ead768d5",
   "metadata": {},
   "outputs": [
    {
     "data": {
      "text/plain": [
       "(182, 64)"
      ]
     },
     "execution_count": 3,
     "metadata": {},
     "output_type": "execute_result"
    }
   ],
   "source": [
    "data_np.shape"
   ]
  },
  {
   "cell_type": "code",
   "execution_count": 4,
   "id": "1cf2d2d5",
   "metadata": {},
   "outputs": [],
   "source": [
    "data = torch.from_numpy(data_np.astype(np.float32))\n",
    "# data = (data - torch.mean(data, axis=0)) / (torch.std(data, axis=0) + 1e-7)\n",
    "data = ((data / 15) - 0.5) * 2  # Normalize between [-1, 1]"
   ]
  },
  {
   "cell_type": "code",
   "execution_count": 5,
   "id": "98a642c7",
   "metadata": {},
   "outputs": [
    {
     "data": {
      "text/plain": [
       "tensor([-1.0000, -1.0000, -1.0000,  0.6000,  0.7333, -0.3333, -1.0000, -1.0000,\n",
       "        -1.0000, -1.0000, -1.0000,  0.4667,  1.1333,  0.2000, -1.0000, -1.0000,\n",
       "        -1.0000, -1.0000, -0.6000,  1.0000,  1.1333, -0.2000, -1.0000, -1.0000,\n",
       "        -1.0000, -0.0667,  1.0000,  1.1333,  1.1333, -0.7333, -1.0000, -1.0000,\n",
       "        -1.0000, -1.0000, -0.8667,  1.1333,  1.1333, -0.6000, -1.0000, -1.0000,\n",
       "        -1.0000, -1.0000, -0.8667,  1.1333,  1.1333, -0.2000, -1.0000, -1.0000,\n",
       "        -1.0000, -1.0000, -0.8667,  1.1333,  1.1333, -0.2000, -1.0000, -1.0000,\n",
       "        -1.0000, -1.0000, -1.0000,  0.4667,  1.1333,  0.3333, -1.0000, -1.0000])"
      ]
     },
     "execution_count": 5,
     "metadata": {},
     "output_type": "execute_result"
    }
   ],
   "source": [
    "data[0]"
   ]
  },
  {
   "cell_type": "code",
   "execution_count": 6,
   "id": "ab7190a4",
   "metadata": {},
   "outputs": [
    {
     "data": {
      "image/png": "[encoded data removed]",
      "text/plain": [
       "<Figure size 432x288 with 1 Axes>"
      ]
     },
     "metadata": {
      "needs_background": "light"
     },
     "output_type": "display_data"
    }
   ],
   "source": [
    "plt.imshow(data_np[0].reshape((8, 8)));"
   ]
  },
  {
   "cell_type": "markdown",
   "id": "c9933b7d",
   "metadata": {},
   "source": [
    "### Hparams"
   ]
  },
  {
   "cell_type": "code",
   "execution_count": 7,
   "id": "5cb6957b",
   "metadata": {},
   "outputs": [],
   "source": [
    "SIGMA = .2\n",
    "NUM_EPOCHS = 500\n",
    "LEARNING_RATE = 1e-3"
   ]
  },
  {
   "cell_type": "markdown",
   "id": "29b2feaf",
   "metadata": {},
   "source": [
    "### Model Definition"
   ]
  },
  {
   "cell_type": "code",
   "execution_count": 8,
   "id": "f4c67117",
   "metadata": {},
   "outputs": [],
   "source": [
    "score_nn = torch.nn.Sequential(\n",
    "    torch.nn.Linear(in_features=64, out_features=20),\n",
    "    torch.nn.SiLU(),\n",
    "    torch.nn.Linear(in_features=20, out_features=20),\n",
    "    torch.nn.SiLU(),\n",
    "    torch.nn.Linear(in_features=20, out_features=64),\n",
    ")"
   ]
  },
  {
   "cell_type": "code",
   "execution_count": 9,
   "id": "8b4a5105",
   "metadata": {},
   "outputs": [],
   "source": [
    "class NoiseConditionalScoreNN(torch.nn.Module):\n",
    "    \n",
    "    def __init__(self):\n",
    "        super().__init__()\n",
    "        self.fnn = torch.nn.Sequential(\n",
    "            torch.nn.Linear(in_features=64+1, out_features=20),\n",
    "            torch.nn.SiLU(),\n",
    "            torch.nn.Linear(in_features=20, out_features=20),\n",
    "            torch.nn.SiLU(),\n",
    "            torch.nn.Linear(in_features=20, out_features=64),\n",
    "        )\n",
    "    \n",
    "    def forward(self, x: torch.Tensor, noise: torch.Tensor) -> torch.Tensor:\n",
    "        return self.fnn(torch.concat([x, torch.tensor([noise])]))"
   ]
  },
  {
   "cell_type": "code",
   "execution_count": 10,
   "id": "e5ec0621",
   "metadata": {},
   "outputs": [],
   "source": [
    "noise_cond_score_nn = NoiseConditionalScoreNN()"
   ]
  },
  {
   "cell_type": "markdown",
   "id": "b7a5fb37",
   "metadata": {},
   "source": [
    "### Loss: Denoising Score Matching\n",
    "\n",
    "**Eq. (2)**"
   ]
  },
  {
   "cell_type": "markdown",
   "id": "255af280",
   "metadata": {},
   "source": [
    "Defining this as an object because we'll have to compute its grad."
   ]
  },
  {
   "cell_type": "code",
   "execution_count": 11,
   "id": "4e49924c",
   "metadata": {},
   "outputs": [],
   "source": [
    "def loss_dsm(data: torch.Tensor, model: torch.nn.Module) -> torch.Tensor:\n",
    "    loss_sum = torch.zeros(1)\n",
    "    \n",
    "    for x in data:\n",
    "        q = torch.distributions.MultivariateNormal(x, SIGMA * torch.eye(x.shape[0]))\n",
    "        x_tilde = q.sample()\n",
    "        x_tilde.requires_grad = True\n",
    "        q_log_prob = q.log_prob(x_tilde)\n",
    "        nabla_q_wrt_x_tilde = torch.autograd.grad(outputs=[q_log_prob], inputs=x_tilde)[0]\n",
    "        \n",
    "        score = model(x_tilde)\n",
    "        \n",
    "        loss_sum += torch.linalg.norm(score - nabla_q_wrt_x_tilde.detach(), ord=2) ** 2 / 2\n",
    "    \n",
    "    return loss_sum"
   ]
  },
  {
   "cell_type": "markdown",
   "id": "98d180b6",
   "metadata": {},
   "source": [
    "### Loss: Noise Conditional Score Matching\n",
    "\n",
    "**Eq. (5) and (6)**\n",
    "\n",
    "The network is provided an additional input, the noise."
   ]
  },
  {
   "cell_type": "code",
   "execution_count": 12,
   "id": "c63ebcb9",
   "metadata": {},
   "outputs": [
    {
     "data": {
      "text/plain": [
       "tensor([1.0000, 0.7525, 0.5050, 0.2575, 0.0100])"
      ]
     },
     "execution_count": 12,
     "metadata": {},
     "output_type": "execute_result"
    }
   ],
   "source": [
    "SIGMAS = torch.linspace(1, 0.01, 5)\n",
    "SIGMAS"
   ]
  },
  {
   "cell_type": "code",
   "execution_count": 13,
   "id": "799dd709",
   "metadata": {},
   "outputs": [],
   "source": [
    "def loss_ncsm(data: torch.Tensor, model: torch.nn.Module) -> torch.Tensor:\n",
    "    \"\"\"Eq. (5) & (6)\"\"\"\n",
    "    loss_sum = torch.zeros(1)\n",
    "    \n",
    "    for sigma in SIGMAS:\n",
    "        for x in data:\n",
    "            q = torch.distributions.MultivariateNormal(x, sigma * torch.eye(x.shape[0]))\n",
    "            x_tilde = q.sample()\n",
    "            x_tilde.requires_grad = True\n",
    "            q_log_prob = q.log_prob(x_tilde)\n",
    "            nabla_q_wrt_x_tilde = torch.autograd.grad(outputs=[q_log_prob], inputs=x_tilde)[0]\n",
    "\n",
    "            score = model(x_tilde, sigma)\n",
    "            lamda = sigma ** 2\n",
    "\n",
    "            loss_sum += lamda * torch.linalg.norm(score - nabla_q_wrt_x_tilde.detach(), ord=2) ** 2 / 2\n",
    "    \n",
    "    return loss_sum / len(SIGMAS)"
   ]
  },
  {
   "cell_type": "markdown",
   "id": "5893234a",
   "metadata": {},
   "source": [
    "### Train Loop"
   ]
  },
  {
   "cell_type": "code",
   "execution_count": 14,
   "id": "5d66277a",
   "metadata": {},
   "outputs": [],
   "source": [
    "def train(data: torch.Tensor, model: torch.nn.Module, loss_fn: Callable, num_epochs: int):\n",
    "    opt = torch.optim.Adam(model.parameters(), lr=LEARNING_RATE)\n",
    "    train_stats = defaultdict(list)\n",
    "    \n",
    "    for _ in tqdm(range(num_epochs)):\n",
    "        opt.zero_grad()\n",
    "        loss_val = loss_fn(data, model)\n",
    "        loss_val.backward()\n",
    "        opt.step()\n",
    "        \n",
    "        train_stats['loss'].append(loss_val.item())\n",
    "        \n",
    "    return model, train_stats"
   ]
  },
  {
   "cell_type": "code",
   "execution_count": 15,
   "id": "7a193e8f",
   "metadata": {},
   "outputs": [
    {
     "name": "stderr",
     "output_type": "stream",
     "text": [
      "100%|██████████████████████████████████████████████████████████████| 500/500 [00:30<00:00, 16.64it/s]\n"
     ]
    },
    {
     "data": {
      "image/png": "[encoded data removed]",
      "text/plain": [
       "<Figure size 432x288 with 1 Axes>"
      ]
     },
     "metadata": {
      "needs_background": "light"
     },
     "output_type": "display_data"
    }
   ],
   "source": [
    "score_nn, train_stats = train(data, score_nn, loss_dsm, NUM_EPOCHS)\n",
    "plt.plot(train_stats['loss']);"
   ]
  },
  {
   "cell_type": "code",
   "execution_count": 17,
   "id": "65707e3b",
   "metadata": {},
   "outputs": [
    {
     "name": "stderr",
     "output_type": "stream",
     "text": [
      "100%|██████████████████████████████████████████████████████████████| 100/100 [00:30<00:00,  3.23it/s]\n"
     ]
    },
    {
     "data": {
      "image/png": "[encoded data removed]",
      "text/plain": [
       "<Figure size 432x288 with 1 Axes>"
      ]
     },
     "metadata": {
      "needs_background": "light"
     },
     "output_type": "display_data"
    }
   ],
   "source": [
    "noise_cond_score_nn, train_stats_ncsm = train(\n",
    "    data, noise_cond_score_nn, loss_ncsm, num_epochs=NUM_EPOCHS // len(SIGMAS))\n",
    "plt.plot(train_stats_ncsm['loss']);"
   ]
  },
  {
   "cell_type": "code",
   "execution_count": 18,
   "id": "1cc45ad3",
   "metadata": {
    "scrolled": false
   },
   "outputs": [
    {
     "data": {
      "image/png": "[encoded data removed]",
      "text/plain": [
       "<Figure size 432x288 with 1 Axes>"
      ]
     },
     "metadata": {
      "needs_background": "light"
     },
     "output_type": "display_data"
    }
   ],
   "source": [
    "plt.imshow(score_nn(torch.zeros((64,))).detach().numpy().reshape((8, 8)));"
   ]
  },
  {
   "cell_type": "markdown",
   "id": "d5f5ba04",
   "metadata": {},
   "source": [
    "### Sampling with Langevin Dynamics"
   ]
  },
  {
   "cell_type": "code",
   "execution_count": 19,
   "id": "a7015442",
   "metadata": {},
   "outputs": [],
   "source": [
    "NUM_LANGEVIN_STEPS = 1000\n",
    "EPS = .1  # Suggested tuning range: [.1, 1e-6]"
   ]
  },
  {
   "cell_type": "code",
   "execution_count": 20,
   "id": "824f68af",
   "metadata": {},
   "outputs": [],
   "source": [
    "z_dist = torch.distributions.MultivariateNormal(torch.zeros(64), torch.eye(64))"
   ]
  },
  {
   "cell_type": "code",
   "execution_count": 21,
   "id": "8ad613d2",
   "metadata": {},
   "outputs": [],
   "source": [
    "def sample(model: torch.nn.Module, start_from_data: int = -1) -> Iterable[torch.Tensor]:\n",
    "    if start_from_data >= 0:\n",
    "        x_0 = data[start_from_data]\n",
    "    else:\n",
    "        x_0 = torch.zeros((64,))\n",
    "    \n",
    "    yield x_0\n",
    "    \n",
    "    x_t = x_0\n",
    "    for step in range(NUM_LANGEVIN_STEPS):\n",
    "        z_t = z_dist.sample()\n",
    "        x_t = x_t + EPS / 2 * model(x_t) + math.sqrt(EPS) * z_t\n",
    "        if step % 100 == 0:\n",
    "            yield x_t.detach().numpy()"
   ]
  },
  {
   "cell_type": "code",
   "execution_count": 22,
   "id": "ec3e09a9",
   "metadata": {},
   "outputs": [],
   "source": [
    "def plot_langevin_output(sampling_fn, model, start_from_data: List[int]):\n",
    "    dry_run = sampling_fn(model)\n",
    "    num_columns = len(list(dry_run))\n",
    "    fig, ax = plt.subplots(len(start_from_data), num_columns, figsize=(num_columns, len(start_from_data)))\n",
    "\n",
    "    for i, data_idx in enumerate(range(len(start_from_data))):\n",
    "        for j, x_sample in enumerate(sampling_fn(model, data_idx)):\n",
    "            ax[i][j].imshow(x_sample.reshape((8, 8)))\n",
    "            ax[i][j].axis('off')\n",
    "\n",
    "    plt.tight_layout()"
   ]
  },
  {
   "cell_type": "code",
   "execution_count": 23,
   "id": "ff712683",
   "metadata": {},
   "outputs": [
    {
     "data": {
      "image/png": "[encoded data removed]",
      "text/plain": [
       "<Figure size 792x360 with 55 Axes>"
      ]
     },
     "metadata": {
      "needs_background": "light"
     },
     "output_type": "display_data"
    }
   ],
   "source": [
    "plot_langevin_output(sample, score_nn, list(range(5)))"
   ]
  },
  {
   "cell_type": "code",
   "execution_count": 24,
   "id": "28e01cda",
   "metadata": {},
   "outputs": [],
   "source": [
    "def sample_annealed(model: torch.nn.Module, start_from_data: int = -1) -> Iterable[torch.Tensor]:\n",
    "    \"\"\"Algorithm 1.\"\"\"\n",
    "    if start_from_data >= 0:\n",
    "        x_0 = data[start_from_data]\n",
    "    else:\n",
    "        x_0 = torch.zeros((64,))\n",
    "    yield x_0\n",
    "    \n",
    "    x_t = x_0\n",
    "    for sigma in SIGMAS:  # Iterate over noise levels.\n",
    "        alpha_i = EPS * sigma ** 2 / SIGMAS[-1] ** 2\n",
    "        for step in range(NUM_LANGEVIN_STEPS):\n",
    "            z_t = z_dist.sample()\n",
    "\n",
    "            x_t = x_t + alpha_i / 2 * model(x_t, sigma) + math.sqrt(alpha_i) * z_t\n",
    "            if step % (100 * len(SIGMAS)) == 0:\n",
    "                yield x_t.detach().numpy()"
   ]
  },
  {
   "cell_type": "code",
   "execution_count": 25,
   "id": "016ff955",
   "metadata": {},
   "outputs": [
    {
     "data": {
      "image/png": "[encoded data removed]",
      "text/plain": [
       "<Figure size 792x360 with 55 Axes>"
      ]
     },
     "metadata": {
      "needs_background": "light"
     },
     "output_type": "display_data"
    }
   ],
   "source": [
    "plot_langevin_output(sample_annealed, noise_cond_score_nn, list(range(5)))"
   ]
  }
 ],
 "metadata": {
  "kernelspec": {
   "display_name": "Python 3 (ipykernel)",
   "language": "python",
   "name": "python3"
  },
  "language_info": {
   "codemirror_mode": {
    "name": "ipython",
    "version": 3
   },
   "file_extension": ".py",
   "mimetype": "text/x-python",
   "name": "python",
   "nbconvert_exporter": "python",
   "pygments_lexer": "ipython3",
   "version": "3.9.4"
  }
 },
 "nbformat": 4,
 "nbformat_minor": 5
}
