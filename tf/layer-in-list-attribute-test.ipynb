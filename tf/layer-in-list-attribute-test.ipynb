{
 "cells": [
  {
   "cell_type": "code",
   "execution_count": 1,
   "metadata": {},
   "outputs": [],
   "source": [
    "import tensorflow as tf\n",
    "import tensorflow.keras as keras\n",
    "import tensorflow.keras.layers as layers"
   ]
  },
  {
   "cell_type": "code",
   "execution_count": 2,
   "metadata": {},
   "outputs": [],
   "source": [
    "class Model(keras.Model):\n",
    "    def __init__(self, *args, **kwargs):\n",
    "        super().__init__(*args, **kwargs)\n",
    "        self.dense = layers.Dense(units=8)\n",
    "        self.emb = []\n",
    "        self.emb.append(layers.Embedding(input_dim=4, output_dim=3))\n",
    "    \n",
    "    def call(self, inputs):\n",
    "        x = self.emb[0](inputs)\n",
    "        return self.dense(x)"
   ]
  },
  {
   "cell_type": "code",
   "execution_count": 3,
   "metadata": {},
   "outputs": [
    {
     "data": {
      "text/plain": [
       "[array([[-0.266684  , -0.36937696,  0.18576187,  0.54113644, -0.72763896,\n",
       "         -0.04645091, -0.70295906,  0.3084833 ],\n",
       "        [ 0.01240581,  0.505621  , -0.4598268 ,  0.365498  ,  0.28452152,\n",
       "          0.5965157 , -0.23801124,  0.6326056 ],\n",
       "        [ 0.60136276, -0.01403034,  0.43522054, -0.24002737, -0.03577161,\n",
       "          0.6605025 , -0.30117494,  0.5059292 ]], dtype=float32),\n",
       " array([0., 0., 0., 0., 0., 0., 0., 0.], dtype=float32),\n",
       " array([[ 0.0041122 ,  0.03808402, -0.02115455],\n",
       "        [-0.00341504,  0.04360965,  0.03938803],\n",
       "        [ 0.02692267, -0.01006501, -0.00327395],\n",
       "        [-0.03750692, -0.04629382,  0.04996205]], dtype=float32)]"
      ]
     },
     "execution_count": 3,
     "metadata": {},
     "output_type": "execute_result"
    }
   ],
   "source": [
    "model = Model()\n",
    "model(keras.Input(4))\n",
    "model.get_weights()"
   ]
  },
  {
   "cell_type": "code",
   "execution_count": 4,
   "metadata": {},
   "outputs": [
    {
     "name": "stdout",
     "output_type": "stream",
     "text": [
      "Model: \"model\"\n",
      "_________________________________________________________________\n",
      "Layer (type)                 Output Shape              Param #   \n",
      "=================================================================\n",
      "dense (Dense)                (None, 4, 8)              32        \n",
      "_________________________________________________________________\n",
      "embedding (Embedding)        (None, 4, 3)              12        \n",
      "=================================================================\n",
      "Total params: 44\n",
      "Trainable params: 44\n",
      "Non-trainable params: 0\n",
      "_________________________________________________________________\n"
     ]
    }
   ],
   "source": [
    "model.summary()"
   ]
  }
 ],
 "metadata": {
  "kernelspec": {
   "display_name": "Python (tura)",
   "language": "python",
   "name": "tura"
  },
  "language_info": {
   "codemirror_mode": {
    "name": "ipython",
    "version": 3
   },
   "file_extension": ".py",
   "mimetype": "text/x-python",
   "name": "python",
   "nbconvert_exporter": "python",
   "pygments_lexer": "ipython3",
   "version": "3.6.10"
  }
 },
 "nbformat": 4,
 "nbformat_minor": 2
}
